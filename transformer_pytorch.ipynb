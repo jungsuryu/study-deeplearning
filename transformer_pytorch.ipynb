{
  "cells": [
    {
      "cell_type": "code",
      "source": [
        "!pip install torchtext==0.6.0"
      ],
      "metadata": {
        "colab": {
          "base_uri": "https://localhost:8080/"
        },
        "id": "vV4njfvTJ9bH",
        "outputId": "04729c65-3819-42de-a5a4-30246f581495"
      },
      "execution_count": null,
      "outputs": [
        {
          "output_type": "stream",
          "name": "stdout",
          "text": [
            "Collecting torchtext==0.6.0\n",
            "  Downloading torchtext-0.6.0-py3-none-any.whl (64 kB)\n",
            "\u001b[?25l     \u001b[90m━━━━━━━━━━━━━━━━━━━━━━━━━━━━━━━━━━━━━━━━\u001b[0m \u001b[32m0.0/64.2 kB\u001b[0m \u001b[31m?\u001b[0m eta \u001b[36m-:--:--\u001b[0m\r\u001b[2K     \u001b[90m━━━━━━━━━━━━━━━━━━━━━━━━━━━━━━━━━━━━━━━━\u001b[0m \u001b[32m64.2/64.2 kB\u001b[0m \u001b[31m3.3 MB/s\u001b[0m eta \u001b[36m0:00:00\u001b[0m\n",
            "\u001b[?25hRequirement already satisfied: tqdm in /usr/local/lib/python3.10/dist-packages (from torchtext==0.6.0) (4.65.0)\n",
            "Requirement already satisfied: requests in /usr/local/lib/python3.10/dist-packages (from torchtext==0.6.0) (2.27.1)\n",
            "Requirement already satisfied: torch in /usr/local/lib/python3.10/dist-packages (from torchtext==0.6.0) (2.0.1+cu118)\n",
            "Requirement already satisfied: numpy in /usr/local/lib/python3.10/dist-packages (from torchtext==0.6.0) (1.22.4)\n",
            "Requirement already satisfied: six in /usr/local/lib/python3.10/dist-packages (from torchtext==0.6.0) (1.16.0)\n",
            "Collecting sentencepiece (from torchtext==0.6.0)\n",
            "  Downloading sentencepiece-0.1.99-cp310-cp310-manylinux_2_17_x86_64.manylinux2014_x86_64.whl (1.3 MB)\n",
            "\u001b[2K     \u001b[90m━━━━━━━━━━━━━━━━━━━━━━━━━━━━━━━━━━━━━━━━\u001b[0m \u001b[32m1.3/1.3 MB\u001b[0m \u001b[31m24.8 MB/s\u001b[0m eta \u001b[36m0:00:00\u001b[0m\n",
            "\u001b[?25hRequirement already satisfied: urllib3<1.27,>=1.21.1 in /usr/local/lib/python3.10/dist-packages (from requests->torchtext==0.6.0) (1.26.16)\n",
            "Requirement already satisfied: certifi>=2017.4.17 in /usr/local/lib/python3.10/dist-packages (from requests->torchtext==0.6.0) (2023.5.7)\n",
            "Requirement already satisfied: charset-normalizer~=2.0.0 in /usr/local/lib/python3.10/dist-packages (from requests->torchtext==0.6.0) (2.0.12)\n",
            "Requirement already satisfied: idna<4,>=2.5 in /usr/local/lib/python3.10/dist-packages (from requests->torchtext==0.6.0) (3.4)\n",
            "Requirement already satisfied: filelock in /usr/local/lib/python3.10/dist-packages (from torch->torchtext==0.6.0) (3.12.2)\n",
            "Requirement already satisfied: typing-extensions in /usr/local/lib/python3.10/dist-packages (from torch->torchtext==0.6.0) (4.6.3)\n",
            "Requirement already satisfied: sympy in /usr/local/lib/python3.10/dist-packages (from torch->torchtext==0.6.0) (1.11.1)\n",
            "Requirement already satisfied: networkx in /usr/local/lib/python3.10/dist-packages (from torch->torchtext==0.6.0) (3.1)\n",
            "Requirement already satisfied: jinja2 in /usr/local/lib/python3.10/dist-packages (from torch->torchtext==0.6.0) (3.1.2)\n",
            "Requirement already satisfied: triton==2.0.0 in /usr/local/lib/python3.10/dist-packages (from torch->torchtext==0.6.0) (2.0.0)\n",
            "Requirement already satisfied: cmake in /usr/local/lib/python3.10/dist-packages (from triton==2.0.0->torch->torchtext==0.6.0) (3.25.2)\n",
            "Requirement already satisfied: lit in /usr/local/lib/python3.10/dist-packages (from triton==2.0.0->torch->torchtext==0.6.0) (16.0.6)\n",
            "Requirement already satisfied: MarkupSafe>=2.0 in /usr/local/lib/python3.10/dist-packages (from jinja2->torch->torchtext==0.6.0) (2.1.3)\n",
            "Requirement already satisfied: mpmath>=0.19 in /usr/local/lib/python3.10/dist-packages (from sympy->torch->torchtext==0.6.0) (1.3.0)\n",
            "Installing collected packages: sentencepiece, torchtext\n",
            "  Attempting uninstall: torchtext\n",
            "    Found existing installation: torchtext 0.15.2\n",
            "    Uninstalling torchtext-0.15.2:\n",
            "      Successfully uninstalled torchtext-0.15.2\n",
            "Successfully installed sentencepiece-0.1.99 torchtext-0.6.0\n"
          ]
        }
      ]
    },
    {
      "cell_type": "code",
      "source": [
        "%%capture\n",
        "!python -m spacy download en\n",
        "!python -m spacy download de"
      ],
      "metadata": {
        "id": "oO7qXr73J9Yk"
      },
      "execution_count": null,
      "outputs": []
    },
    {
      "cell_type": "code",
      "source": [
        "import spacy\n",
        "spacy_en = spacy.load('en_core_web_sm')   # 영어 토큰화\n",
        "spacy_de = spacy.load('de_core_news_sm')  # 독일어 토큰화"
      ],
      "metadata": {
        "id": "BcPoGkHeJ9W6"
      },
      "execution_count": null,
      "outputs": []
    },
    {
      "cell_type": "code",
      "source": [
        "# 간단히 토큰화(tokenization) 기능 써보기\n",
        "tokenized = spacy_en.tokenizer(\"I am a graduate student.\")\n",
        "\n",
        "for i, token in enumerate(tokenized):\n",
        "    print(f\"인덱스 {i}: {token.text}\")"
      ],
      "metadata": {
        "colab": {
          "base_uri": "https://localhost:8080/"
        },
        "id": "c4GMoZYrJ9VF",
        "outputId": "553734b5-c24b-4cde-ad50-fdef96e03e5e"
      },
      "execution_count": null,
      "outputs": [
        {
          "output_type": "stream",
          "name": "stdout",
          "text": [
            "인덱스 0: I\n",
            "인덱스 1: am\n",
            "인덱스 2: a\n",
            "인덱스 3: graduate\n",
            "인덱스 4: student\n",
            "인덱스 5: .\n"
          ]
        }
      ]
    },
    {
      "cell_type": "code",
      "source": [
        "# 독일어(Deutsch) 문장을 토큰화 하는 함수 (순서를 뒤집지 않음)\n",
        "def tokenize_de(text):\n",
        "    return [token.text for token in spacy_de.tokenizer(text)]\n",
        "\n",
        "# 영어(English) 문장을 토큰화 하는 함수\n",
        "def tokenize_en(text):\n",
        "    return [token.text for token in spacy_en.tokenizer(text)]"
      ],
      "metadata": {
        "id": "Uhj6y1HVJ9Se"
      },
      "execution_count": null,
      "outputs": []
    },
    {
      "cell_type": "code",
      "source": [
        "from torchtext.data import Field, BucketIterator\n",
        "\n",
        "# Field 라이브러리 활용해서 데이터셋에 대한 구체적인 전처리 내용 명시\n",
        "SRC = Field(tokenize=tokenize_de, init_token=\"\", eos_token=\"\", lower=True, batch_first=True) # 독일어\n",
        "TRG = Field(tokenize=tokenize_en, init_token=\"\", eos_token=\"\", lower=True, batch_first=True) # 영어"
      ],
      "metadata": {
        "id": "n7w1KAlVKicY"
      },
      "execution_count": null,
      "outputs": []
    },
    {
      "cell_type": "code",
      "source": [
        "# 대표 영어-독어 번역 데이터셋 불러오기\n",
        "from torchtext.datasets import Multi30k\n",
        "train_dataset, valid_dataset, test_dataset = Multi30k.splits(exts=(\".de\", \".en\"), fields=(SRC, TRG))"
      ],
      "metadata": {
        "id": "Y_AJF-lwKnVM",
        "colab": {
          "base_uri": "https://localhost:8080/"
        },
        "outputId": "cf1ee753-3d73-4b76-c508-7eb0a5d14fb0"
      },
      "execution_count": null,
      "outputs": [
        {
          "output_type": "stream",
          "name": "stdout",
          "text": [
            "downloading training.tar.gz\n"
          ]
        },
        {
          "output_type": "stream",
          "name": "stderr",
          "text": [
            "training.tar.gz: 100%|██████████| 1.21M/1.21M [00:01<00:00, 945kB/s]\n"
          ]
        },
        {
          "output_type": "stream",
          "name": "stdout",
          "text": [
            "downloading validation.tar.gz\n"
          ]
        },
        {
          "output_type": "stream",
          "name": "stderr",
          "text": [
            "validation.tar.gz: 100%|██████████| 46.3k/46.3k [00:00<00:00, 235kB/s]\n"
          ]
        },
        {
          "output_type": "stream",
          "name": "stdout",
          "text": [
            "downloading mmt_task1_test2016.tar.gz\n"
          ]
        },
        {
          "output_type": "stream",
          "name": "stderr",
          "text": [
            "mmt_task1_test2016.tar.gz: 100%|██████████| 66.2k/66.2k [00:00<00:00, 224kB/s]\n"
          ]
        }
      ]
    },
    {
      "cell_type": "code",
      "source": [
        "print(f\"학습 데이터셋(training dataset) 크기: {len(train_dataset.examples)}개\")\n",
        "print(f\"평가 데이터셋(validation dataset) 크기: {len(valid_dataset.examples)}개\")\n",
        "print(f\"테스트 데이터셋(testing dataset) 크기: {len(test_dataset.examples)}개\")"
      ],
      "metadata": {
        "colab": {
          "base_uri": "https://localhost:8080/"
        },
        "id": "8yG0q0EgKnTJ",
        "outputId": "740270aa-b7c4-4a05-a869-c71db8540c66"
      },
      "execution_count": null,
      "outputs": [
        {
          "output_type": "stream",
          "name": "stdout",
          "text": [
            "학습 데이터셋(training dataset) 크기: 29000개\n",
            "평가 데이터셋(validation dataset) 크기: 1014개\n",
            "테스트 데이터셋(testing dataset) 크기: 1000개\n"
          ]
        }
      ]
    },
    {
      "cell_type": "code",
      "source": [
        "# 학습 데이터 중 하나를 선택해 출력\n",
        "print(vars(train_dataset.examples[30])['src'])\n",
        "print(vars(train_dataset.examples[30])['trg'])"
      ],
      "metadata": {
        "colab": {
          "base_uri": "https://localhost:8080/"
        },
        "id": "ktx0E7TbKnRX",
        "outputId": "1b0e6881-b12a-4b0a-af31-fa4802860ba2"
      },
      "execution_count": null,
      "outputs": [
        {
          "output_type": "stream",
          "name": "stdout",
          "text": [
            "['ein', 'mann', ',', 'der', 'mit', 'einer', 'tasse', 'kaffee', 'an', 'einem', 'urinal', 'steht', '.']\n",
            "['a', 'man', 'standing', 'at', 'a', 'urinal', 'with', 'a', 'coffee', 'cup', '.']\n"
          ]
        }
      ]
    },
    {
      "cell_type": "code",
      "source": [
        "# field 객체의 build_vocab 메서를 이용해 영어와 독어 단어사전 생성 (최소 2번 이상 등장한 단어만 사용)\n",
        "SRC.build_vocab(train_dataset, min_freq=2)\n",
        "TRG.build_vocab(train_dataset, min_freq=2)\n",
        "\n",
        "print(f\"len(SRC): {len(SRC.vocab)}\")\n",
        "print(f\"len(TRG): {len(TRG.vocab)}\")"
      ],
      "metadata": {
        "colab": {
          "base_uri": "https://localhost:8080/"
        },
        "id": "jX8KTiWbKnPM",
        "outputId": "b7e05fab-252f-4d92-ed4e-2ca788fd355d"
      },
      "execution_count": null,
      "outputs": [
        {
          "output_type": "stream",
          "name": "stdout",
          "text": [
            "len(SRC): 7852\n",
            "len(TRG): 5892\n"
          ]
        }
      ]
    },
    {
      "cell_type": "code",
      "source": [
        "print(TRG.vocab.stoi[\"abcabc\"]) # 없는 단어: 0\n",
        "print(TRG.vocab.stoi[TRG.pad_token]) # 패딩(padding): 1\n",
        "print(TRG.vocab.stoi[\"\"]) # : 2\n",
        "print(TRG.vocab.stoi[\"\"]) # : 3\n",
        "print(TRG.vocab.stoi[\"hello\"])\n",
        "print(TRG.vocab.stoi[\"world\"])"
      ],
      "metadata": {
        "colab": {
          "base_uri": "https://localhost:8080/"
        },
        "id": "yP8n85MfKnNM",
        "outputId": "16d7689d-4cbf-4f8a-c81f-35750bd9687f"
      },
      "execution_count": null,
      "outputs": [
        {
          "output_type": "stream",
          "name": "stdout",
          "text": [
            "0\n",
            "1\n",
            "2\n",
            "2\n",
            "4111\n",
            "1751\n"
          ]
        }
      ]
    },
    {
      "cell_type": "code",
      "source": [
        "# 한 문장에 포함된 단어가 순서대로 나열된 상태로 네트워크에 입력되어야\n",
        "## 따라서 하나의 배치에 포함된 문장들이 가지는 단어의 개수가 유사하도록 만들면 좋음\n",
        "## 이를 위해 BucketIterator를 사용\n",
        "## 배치 크기(batch size): 128\n",
        "import torch\n",
        "\n",
        "device = torch.device('cuda' if torch.cuda.is_available() else 'cpu')\n",
        "\n",
        "BATCH_SIZE = 128\n",
        "\n",
        "# 일반적인 데이터 로더(data loader)의 iterator와 유사하게 사용 가능\n",
        "train_iterator, valid_iterator, test_iterator = BucketIterator.splits(\n",
        "    (train_dataset, valid_dataset, test_dataset),\n",
        "    batch_size=BATCH_SIZE,\n",
        "    device=device)"
      ],
      "metadata": {
        "id": "p_Zap2mBLHlB"
      },
      "execution_count": null,
      "outputs": []
    },
    {
      "cell_type": "code",
      "source": [
        "device"
      ],
      "metadata": {
        "colab": {
          "base_uri": "https://localhost:8080/"
        },
        "id": "MSTMheoHLTRS",
        "outputId": "b7b88990-6993-4ba2-befd-9ea88760dff0"
      },
      "execution_count": null,
      "outputs": [
        {
          "output_type": "execute_result",
          "data": {
            "text/plain": [
              "device(type='cuda')"
            ]
          },
          "metadata": {},
          "execution_count": 13
        }
      ]
    },
    {
      "cell_type": "code",
      "source": [
        "for i, batch in enumerate(train_iterator):\n",
        "    src = batch.src\n",
        "    trg = batch.trg\n",
        "\n",
        "    print(f\"첫 번째 배치 크기: {src.shape}\")\n",
        "\n",
        "    # 현재 배치에 있는 하나의 문장에 포함된 정보 출력\n",
        "    for i in range(src.shape[1]):\n",
        "        print(f\"인덱스 {i}: {src[0][i].item()}\") # 여기에서는 [Seq_num, Seq_len]\n",
        "\n",
        "    # 첫 번째 배치만 확인\n",
        "    break"
      ],
      "metadata": {
        "colab": {
          "base_uri": "https://localhost:8080/"
        },
        "id": "sMofeDYjLUfm",
        "outputId": "504c5e55-06f8-452f-c08a-1a41f121ff4c"
      },
      "execution_count": null,
      "outputs": [
        {
          "output_type": "stream",
          "name": "stdout",
          "text": [
            "첫 번째 배치 크기: torch.Size([128, 29])\n",
            "인덱스 0: 2\n",
            "인덱스 1: 4\n",
            "인덱스 2: 567\n",
            "인덱스 3: 10\n",
            "인덱스 4: 356\n",
            "인덱스 5: 1813\n",
            "인덱스 6: 20\n",
            "인덱스 7: 76\n",
            "인덱스 8: 1820\n",
            "인덱스 9: 8\n",
            "인덱스 10: 2769\n",
            "인덱스 11: 74\n",
            "인덱스 12: 6\n",
            "인덱스 13: 5\n",
            "인덱스 14: 802\n",
            "인덱스 15: 3\n",
            "인덱스 16: 2\n",
            "인덱스 17: 1\n",
            "인덱스 18: 1\n",
            "인덱스 19: 1\n",
            "인덱스 20: 1\n",
            "인덱스 21: 1\n",
            "인덱스 22: 1\n",
            "인덱스 23: 1\n",
            "인덱스 24: 1\n",
            "인덱스 25: 1\n",
            "인덱스 26: 1\n",
            "인덱스 27: 1\n",
            "인덱스 28: 1\n"
          ]
        }
      ]
    },
    {
      "cell_type": "markdown",
      "metadata": {
        "id": "m_W_3Wi0J1Y_"
      },
      "source": [
        "## Packages and Modules"
      ]
    },
    {
      "cell_type": "code",
      "execution_count": null,
      "metadata": {
        "id": "ELUgtAaRJ1ZC"
      },
      "outputs": [],
      "source": [
        "# 필요한 패키지 불러오기\n",
        "import torch\n",
        "from torch import nn # neural network base class\n",
        "import torch.nn.functional as F\n",
        "import numpy as np\n",
        "import pandas as pd\n",
        "from sklearn.model_selection import train_test_split\n",
        "import math\n",
        "import matplotlib.pyplot as plt"
      ]
    },
    {
      "cell_type": "code",
      "execution_count": null,
      "metadata": {
        "id": "FyRGuttSJ1ZE"
      },
      "outputs": [],
      "source": [
        "# GPU 가속 확인\n",
        "# print (f\"PyTorch version:{torch.__version__}\") # 1.12.1 이상\n",
        "# print(f\"MPS 장치를 지원하도록 build 되었는지: {torch.backends.mps.is_built()}\") # True여야 함\n",
        "# print(f\"MPS 장치가 사용 가능한지: {torch.backends.mps.is_available()}\") # True여야 함\n",
        "# # !python -c 'import platform;print(platform.platform())'"
      ]
    },
    {
      "cell_type": "code",
      "execution_count": null,
      "metadata": {
        "id": "ZH1BbVaqJ1ZE"
      },
      "outputs": [],
      "source": [
        "# device = torch.device('mps' if torch.backends.mps.is_available() else 'cpu')\n",
        "# print(device)"
      ]
    },
    {
      "cell_type": "markdown",
      "metadata": {
        "id": "nEJu4ZyDJ1ZF"
      },
      "source": [
        "## 1. Embedding\n",
        "token embedding(=input embedding)과 positional embedding으로 이루어져 있음"
      ]
    },
    {
      "cell_type": "markdown",
      "metadata": {
        "id": "VrYslutaJ1ZF"
      },
      "source": [
        "### (1) Token(=Input) Embedding\n",
        "- dense representation of tokens\n",
        "- input에 입력된 데이터를 행렬로 변환하는 과정 (=임베딩)\n",
        "    - 트랜스포머 논문에서 각 토큰은 512차원으로 임베딩 됨\n"
      ]
    },
    {
      "cell_type": "code",
      "execution_count": null,
      "metadata": {
        "id": "n6JQt_yPJ1ZF"
      },
      "outputs": [],
      "source": [
        "class TokenEmbedding(nn.Module):\n",
        "    def __init__(self, vocab_size, d_model):\n",
        "        '''\n",
        "        vocab_size: size of vocab\n",
        "        d_model: dimension of the model\n",
        "        '''\n",
        "        super().__init__()\n",
        "        self.embedding = nn.Embedding(vocab_size, d_model)\n",
        "        self.d_model = d_model\n",
        "\n",
        "    def forward(self, x):\n",
        "        # embedding에도 scaling 적용\n",
        "        ## positional embedding값이 더해지면서 임베딩 벡터의 값이 희석되는 것을 막기 위함\n",
        "        out = self.embedding(x) * math.sqrt(self.d_model)\n",
        "\n",
        "        return out"
      ]
    },
    {
      "cell_type": "markdown",
      "metadata": {
        "id": "2gldq63JJ1ZG"
      },
      "source": [
        "### (2) Positional Embedding\n",
        "- inject info about the position of the tokens in sequence   \n",
        "=> compute sinusoid encoding\n",
        "- RNN 계열의 모델은 입력된 문장을 순차적으로 처리하는 반면, 트랜스포머는 입력된 문장을 병렬로 한 번에 처리함   \n",
        "=> 병렬로 처리함으로써 연산은 빨라지지만 토큰의 위치 혹은 순서를 알 수 없게 되어 위치 정보를 별도로 넣어줘야 함\n",
        "\n",
        "[주의점]\n",
        "1. 모든 위치 값은 sequence의 길이에 상관없이 동일한 식별자를 가져야 함 (sequence 내용이 바뀌어도 임베딩 값이 같아야 함)\n",
        "2. 모든 위치 값은 너무 크면 안됨 (단어 의미 정보 변질: 단어 간 상관관계나 의미를 유추할 수 있는 정보의 중요도가 상대적으로 작아지게 되어 제대로 된 학습이 되지 않을 수 있음)   \n",
        "=> sequence 크기에 비례하여 일정하게 커지는 정수값 부여, normalization 적용 등은 이러한 이유 때문에 사용 불가능   \n",
        "=> sinusoid encoding 활용!!\n",
        "    - sine, cosine은 -1과 1을 사이를 반복하는 주기함수 (값이 너무 커지지 않음)\n",
        "    - 그러나 위치 벡터 값이 같아지는 문제 발생할 수 있음 (예를 들어, 포지션 0과 포지션 n에서 sine 값이 같다면)\n",
        "        => 따라서 sine과 cosine 동시에 사용\n",
        "\n",
        "> PE_(pos, 2i) = sin(pos/10000^{2i/d_model})\n",
        "> PE_(pos, 2i+1) = cos(pos/10000^{2i/d_model})"
      ]
    },
    {
      "cell_type": "markdown",
      "metadata": {
        "id": "bAw9g7ydJ1ZG"
      },
      "source": [
        "#### Positional Encoding 시각화\n",
        "https://github.com/jalammar/jalammar.github.io/blob/master/notebookes/transformer/transformer_positional_encoding_graph.ipynb"
      ]
    },
    {
      "cell_type": "code",
      "execution_count": null,
      "metadata": {
        "id": "CamdTxcWJ1ZH"
      },
      "outputs": [],
      "source": [
        "def get_angles(pos, i, d_model):\n",
        "  angle_rates = 1 / np.power(10000, (2 * (i//2)) / np.float32(d_model))\n",
        "  return pos * angle_rates\n",
        "\n",
        "def positional_encoding(position, d_model):\n",
        "  angle_rads = get_angles(np.arange(position)[:, np.newaxis],\n",
        "                          np.arange(d_model)[np.newaxis, :],\n",
        "                          d_model)\n",
        "\n",
        "  # apply sin to even indices in the array; 2i\n",
        "  angle_rads[:, 0::2] = np.sin(angle_rads[:, 0::2])\n",
        "\n",
        "  # apply cos to odd indices in the array; 2i+1\n",
        "  angle_rads[:, 1::2] = np.cos(angle_rads[:, 1::2])\n",
        "\n",
        "  pos_encoding = angle_rads[np.newaxis, ...]\n",
        "\n",
        "  return pos_encoding\n"
      ]
    },
    {
      "cell_type": "code",
      "execution_count": null,
      "metadata": {
        "colab": {
          "base_uri": "https://localhost:8080/",
          "height": 873
        },
        "id": "GjhguJ-7J1ZH",
        "outputId": "d78194a7-d311-4089-fd79-5e115dfba574"
      },
      "outputs": [
        {
          "output_type": "stream",
          "name": "stdout",
          "text": [
            "(1, 10, 512)\n"
          ]
        },
        {
          "output_type": "display_data",
          "data": {
            "text/plain": [
              "<Figure size 2000x1000 with 2 Axes>"
            ],
            "image/png": "[encoded data removed]"
          },
          "metadata": {}
        }
      ],
      "source": [
        "tokens = 10         # 10개 단어\n",
        "dimensions = 512    # 512 차원\n",
        "\n",
        "pos_encoding = positional_encoding(tokens, dimensions)\n",
        "print (pos_encoding.shape)\n",
        "\n",
        "plt.figure(figsize=(20,10))\n",
        "plt.pcolormesh(pos_encoding[0], cmap='viridis')\n",
        "plt.xlabel('Embedding Dimensions')\n",
        "plt.xlim((0, dimensions))\n",
        "plt.ylim((tokens,0))\n",
        "plt.ylabel('Token Position')\n",
        "plt.colorbar()\n",
        "plt.show()"
      ]
    },
    {
      "cell_type": "markdown",
      "metadata": {
        "id": "r0SQOat1J1ZI"
      },
      "source": [
        "#### Positional Embedding 코드"
      ]
    },
    {
      "cell_type": "code",
      "execution_count": null,
      "metadata": {
        "id": "U9j_xjhlJ1ZI"
      },
      "outputs": [],
      "source": [
        "class PositionalEmbedding(nn.Module):\n",
        "    def __init__(self, max_len, d_model, device):\n",
        "        '''\n",
        "        max_len: max length of sequence\n",
        "        d_model: dimension of the model\n",
        "        device: setting\n",
        "        '''\n",
        "        super().__init__()\n",
        "        # 비어 있는 텐서 생성\n",
        "        self.PE = torch.zeros(max_len, d_model, device=device)\n",
        "        # no need to compute gradient (학습되는 값이 아님, 공식에 의해 계산됨)\n",
        "        self.PE.requires_grad = False\n",
        "\n",
        "        pos = torch.arange(0, max_len, dtype=torch.float, device=device).unsqueeze(dim=1)\n",
        "        for_2i = torch.arange(0, d_model, step=2, dtype=torch.float, device=device)\n",
        "\n",
        "        # 문장 길이가 달라져도 단어 사이 거리를 보존할 수 있는 sinusoid 사용\n",
        "        ## PE_(pos,2i)는 단어 pos의 position embedding vector의 위치 2i의 원소값을 의미\n",
        "        self.PE[:, 0::2] = torch.sin(pos / (10000 ** (for_2i / d_model))) # 2i가 짝수인 경우\n",
        "        self.PE[:, 1::2] = torch.cos(pos / (10000 ** (for_2i / d_model))) # 2i가 홀수인 경우\n",
        "\n",
        "\n",
        "    def forward(self, x):\n",
        "        _, seq_len = x.size()\n",
        "\n",
        "        return self.PE[:seq_len, :] # input의 length에 맞춰서 positional encoding 결과 반환"
      ]
    },
    {
      "cell_type": "code",
      "execution_count": null,
      "metadata": {
        "id": "b-25HCRwJ1ZI"
      },
      "outputs": [],
      "source": [
        "# torch.arange(0, 3).unsqueeze(dim=1)\n",
        "# torch.arange(0, 6).shape"
      ]
    },
    {
      "cell_type": "markdown",
      "metadata": {
        "id": "JTILTpQZJ1ZI"
      },
      "source": [
        "### (3) Embedding (token+positional)\n",
        "- token embedding과 positional embedding을 summation해서 사용\n",
        "- 왜 concat하지 않았을까?  \n",
        "\n",
        "[concatenation]\n",
        "- token 내용은 자체 차원 공간을 갖게 되고, positional 정보 또한 자체 차원 공간을 갖게 되어 둘은 서로 관계 없는 공간에 위치하게 됨\n",
        "- 이점: 정보가 뒤섞이지 않음\n",
        "- 문제: 메모리, 파라미터, 런타임 등에 관련된 비용 문제 발생\n",
        "\n",
        "[summation]\n",
        "- 이점: token 내용과 position 정보의 균형을 잘 맞출 수 있음 (벡터 공간에서 단어 의미 정보와 위치 정보 간의 거리 적절하게 유지)\n",
        "- 문제: 정보 뒤섞일 수 있음\n",
        "\n",
        "=> GPU 등 하드웨어 성능 좋으면 concat 해서 사용해도 괜찮을지도"
      ]
    },
    {
      "cell_type": "code",
      "execution_count": null,
      "metadata": {
        "id": "sBtcxL7aJ1ZI"
      },
      "outputs": [],
      "source": [
        "class TransformerEmbedding(nn.Module):\n",
        "    def __init__(self, vocab_size, d_model, max_len, device):\n",
        "        super().__init__()\n",
        "        self.tok_emb = TokenEmbedding(vocab_size, d_model)\n",
        "        self.pos_emb = PositionalEmbedding(max_len, d_model, device)\n",
        "        self.dropout = nn.Dropout(0.1)\n",
        "\n",
        "    def forward(self, x):\n",
        "        tok_emb = self.tok_emb(x)\n",
        "        pos_emb = self.pos_emb(x)\n",
        "        out = self.dropout(tok_emb + pos_emb)\n",
        "\n",
        "        return out"
      ]
    },
    {
      "cell_type": "markdown",
      "metadata": {
        "id": "E1Kiff9NJ1ZI"
      },
      "source": [
        "## 2. Sub-layers\n",
        "multi-head attention   \n",
        "    -  scaled dot-product attention   \n",
        "position-wise fully connected feed-forward network"
      ]
    },
    {
      "cell_type": "markdown",
      "metadata": {
        "id": "ip-tjU70J1ZI"
      },
      "source": [
        "<center><img src=\"https://jalammar.github.io/images/t/transformer_resideual_layer_norm_2.png\" height=\"300\" width=\"300\"></center>"
      ]
    },
    {
      "cell_type": "markdown",
      "metadata": {
        "id": "k4Q3LQIwJ1ZJ"
      },
      "source": [
        "### (1) Scaled Dot-Product Attention\n",
        "> Attention(Q, K, V) = softmax(QK^T/(d_k)**0.5)V\n",
        "\n",
        "[순서]\n",
        "1. Transpose K   \n",
        "2. MatMul of Q and K^T => attention score   \n",
        "3. scale (for stable gradients)   \n",
        "4. (mask to -inf if necessary)   \n",
        "5. apply softmax => 가중치 도출 (determines how much each word will be expressed at this position)    \n",
        "6. MatMul of attention result and V (the intuition here is to keep intact the values of word(s) we want to focus on, and drown-out irrelevant words (by multiplying small weights))   "
      ]
    },
    {
      "cell_type": "markdown",
      "metadata": {
        "id": "Yedt2xtIJ1ZJ"
      },
      "source": [
        "<center> <img src=\"https://raw.githubusercontent.com/angiekim05/study/master/Paper_Code_Practice/Transformer/src/scaled_dot_product_attention.png\" width=\"200\" height=\"270\"> </center>"
      ]
    },
    {
      "cell_type": "code",
      "execution_count": null,
      "metadata": {
        "id": "tshRBkVsJ1ZJ"
      },
      "outputs": [],
      "source": [
        "class ScaledDotProductAttention(nn.Module):\n",
        "    def __init__(self):\n",
        "        super().__init__()\n",
        "        self.softmax = nn.Softmax(dim=-1) # apply softmax to the last dimension\n",
        "        self.dropout = nn.Dropout(0.1)\n",
        "\n",
        "    def forward(self, q, k, v, mask=None):\n",
        "        # 4D tensor as input: [batch_size, n_heads, seq_len, head_dim]\n",
        "        _, _, _, head_dim = k.size()\n",
        "\n",
        "        # transpose K\n",
        "        k_t = k.transpose(2, 3)\n",
        "\n",
        "        # matmul of Q and K^T + scale\n",
        "        ## Q @ K^T = [batch_size, n_heads, q_seq_len, k_seq_len]\n",
        "        score = torch.matmul(q, k_t) / math.sqrt(head_dim)\n",
        "\n",
        "        # masking (opt.)\n",
        "        ## torch.tensor.masked_fill(): 텐서의 특정 값을 다른 값으로 바꾸고자 할 때 사용\n",
        "        ## mask: 단어가 있는 곳(True), 마스킹 되어 단어가 없는 곳(False, 0)\n",
        "        if mask is not None:\n",
        "            score = score.masked_fill(mask==0, -10000000000) # mask가 0인 경우 -inf로 채움 (softmax 계산 시 0이 되게끔)\n",
        "\n",
        "        # apply softmax (weight)\n",
        "        ## score = [batch_size, n_heads, q_seq_len, k_seq_len]\n",
        "        score = self.softmax(score)\n",
        "        # score = self.dropout(score)\n",
        "\n",
        "        # multiply with Value (weighted sum)\n",
        "        ## result = [batch_size, n_heads, seq_len, head_dim] (k, v는 seq_len이 같음)\n",
        "        result = torch.matmul(score, v)\n",
        "\n",
        "        return result, score"
      ]
    },
    {
      "cell_type": "markdown",
      "metadata": {
        "id": "pptXlLRKJ1ZJ"
      },
      "source": [
        "### (2) Multi-head Attention\n",
        "단일 attention을 사용할 때보다 multi-head attention을 사용했을 때 문장의 특징 정보를 더 많이 잡을 수 있음\n",
        "> Q, K, V 행렬(d_model=512차원)을 head의 수(8개)만큼 나누어서 진행(64차원)   \n",
        "> head는 scaled dot-product attention   \n",
        "\n",
        "[순서]\n",
        "1. Q, K, V 행렬을 64차원으로 projection (linear(fc) 통과)\n",
        "2. h=8로 분리\n",
        "3. scaled dot-product attention 수행 (scaled dot-product att 8개가 하나의 attention이 되는 구조)\n",
        "4. head concat (512차원)\n",
        "5. projection (성능향상 목적)   \n",
        "=> 각 단어에 대해 최종 512차원 벡터 반환"
      ]
    },
    {
      "cell_type": "markdown",
      "metadata": {
        "id": "veuRDUMOJ1ZJ"
      },
      "source": [
        "<center>\n",
        "<img src=\"https://raw.githubusercontent.com/angiekim05/study/master/Paper_Code_Practice/Transformer/src/multi_head_attention.png\" width=\"220\" height=\"270\">\n",
        "</center>"
      ]
    },
    {
      "cell_type": "markdown",
      "metadata": {
        "id": "uCSp2KceJ1ZJ"
      },
      "source": [
        "<center><img src=\"https://lilianweng.github.io/posts/2023-01-27-the-transformer-family-v2/transformer.png\" height=\"450\" width=\"750\"></center>"
      ]
    },
    {
      "cell_type": "markdown",
      "metadata": {
        "id": "tm-rY6qqJ1ZJ"
      },
      "source": [
        "<center><img src=\"https://jalammar.github.io/images/t/transformer_multi-headed_self-attention-recap.png\" width=\"700\" height=\"450\"></center>"
      ]
    },
    {
      "cell_type": "code",
      "execution_count": null,
      "metadata": {
        "id": "ckP3TY2gJ1ZJ"
      },
      "outputs": [],
      "source": [
        "class MultiHeadAttention(nn.Module):\n",
        "    # 사용될 구성 정의\n",
        "    def __init__(self, d_model, n_heads):\n",
        "        super().__init__()\n",
        "        self.d_model = d_model              # 512\n",
        "        self.n_heads = n_heads              # 8\n",
        "        self.head_dim = d_model // n_heads  # 64\n",
        "\n",
        "        # nn.Linear(in,out): input size와 output size 입력\n",
        "        ## 논문의 설명에서는 seq_len * head_dim의 크기로 Q, K, V를 구해서 각각 attention을 계산하여 concat하는 방식을 쓰지만\n",
        "        ## 별개의 attention 연산을 head회 수행해야 한다는 점에서 매우 비효율적\n",
        "        ## 따라서, 실제로는 seq_len * d_model로 한 번의 attention 계산으로 처리\n",
        "        ##\n",
        "        self.w_q = nn.Linear(d_model, n_heads * self.head_dim, bias=False)\n",
        "        self.w_k = nn.Linear(d_model, n_heads * self.head_dim, bias=False)\n",
        "        self.w_v = nn.Linear(d_model, n_heads * self.head_dim, bias=False)\n",
        "        self.w_o = nn.Linear(n_heads * self.head_dim, d_model, bias=False)\n",
        "        self.attention = ScaledDotProductAttention()\n",
        "\n",
        "        self.dropout = nn.Dropout(0.1)\n",
        "\n",
        "\n",
        "    # 실행 계산 정의 (구성 연결)\n",
        "    def forward(self, query, key, value, mask=None):\n",
        "        # shape: [batch_size, seq_len, d_model]\n",
        "        batch_size, _, _ = query.shape\n",
        "        # apply weight matrices (=projection)\n",
        "        q, k, v = self.w_q(query), self.w_k(key), self.w_v(value)\n",
        "\n",
        "        # split into heads\n",
        "        ## shape: [batch_size, n_heads, seq_len, head_dim]으로\n",
        "        ## seq_len=-1로 설정하는 이유는 decoder 단에서는 q와 k, v의 seq_len이 다를 수 있기 때문\n",
        "        q = q.view(batch_size, -1, self.n_heads, self.head_dim).transpose(1, 2)\n",
        "        k = k.view(batch_size, -1, self.n_heads, self.head_dim).transpose(1, 2)\n",
        "        v = v.view(batch_size, -1, self.n_heads, self.head_dim).transpose(1, 2)\n",
        "\n",
        "        # apply scaled dot-product attention\n",
        "        att_result, attention_score = self.attention(q, k, v, mask=mask)\n",
        "\n",
        "        # concat and pass to next layer (=Linear)\n",
        "        ## att_result = [batch_size, n_heads, seq_len, head_dim]\n",
        "        att_result = att_result.transpose(1, 2) # [batch_size, seq_len, n_heads, head_dim]\n",
        "        att_result = att_result.contiguous().view(batch_size, -1, self.d_model) # [batch_size, seq_len, d_model]\n",
        "        att_result = self.w_o(att_result) # [batch_size, seq_len, d_model]\n",
        "\n",
        "        return att_result\n",
        "\n"
      ]
    },
    {
      "cell_type": "markdown",
      "metadata": {
        "id": "cHa_nxUBJ1ZJ"
      },
      "source": [
        "### (3) Position-wise Fully Connected Feed Forward Network\n",
        "- applied to each position separately and identically (병렬 가능)\n",
        "- linear transformations + ReLU + linear transformation 구조\n",
        "- FFN(x) = max(0, xW_1 + b_1) W_2 + b_2"
      ]
    },
    {
      "cell_type": "code",
      "execution_count": null,
      "metadata": {
        "id": "uGBCgcJjJ1ZK"
      },
      "outputs": [],
      "source": [
        "class PositionWiseFeedForward(nn.Module):\n",
        "    def __init__(self, d_model, d_ff):\n",
        "        super().__init__()\n",
        "        # inner-layer dimensionality: d_ff = 2048\n",
        "        # input and output dimensionality: d_model = 512\n",
        "        self.linear1 = nn.Linear(d_model, d_ff)\n",
        "        self.linear2 = nn.Linear(d_ff, d_model)\n",
        "        self.relu = nn.ReLU()\n",
        "        self.dropout = nn.Dropout(0.1)\n",
        "\n",
        "    def forward(self, x):\n",
        "        x = self.linear1(x)\n",
        "        x = self.relu(x)\n",
        "        x = self.dropout(x)\n",
        "        x = self.linear2(x)\n",
        "\n",
        "        return x"
      ]
    },
    {
      "cell_type": "markdown",
      "metadata": {
        "id": "37nMZHnLJ1ZK"
      },
      "source": [
        "### (4) Layer Normalization\n",
        "- 각 샘플에 대해서 feature들에 대한 평균과 분산 구해서 정규화\n",
        "- = nn.LayerNorm"
      ]
    },
    {
      "cell_type": "code",
      "execution_count": null,
      "metadata": {
        "id": "eRvoTAAKJ1ZK"
      },
      "outputs": [],
      "source": [
        "class LayerNorm(nn.Module):\n",
        "    def __init__(self, d_model, eps=1e-12):\n",
        "        super().__init__()\n",
        "        # nn.Parameter는 파라미터로 지정하고 싶은 tensor일 때 사용\n",
        "        self.gamma = nn.Parameter(torch.ones(d_model)) # weight\n",
        "        self.beta = nn.Parameter(torch.zeros(d_model)) # bias\n",
        "        self.eps = eps\n",
        "\n",
        "    def forward(self, x):\n",
        "        mean = x.mean(-1, keepdim=True) # keepdim: 차원유지 (broadcasting 가능하게끔)\n",
        "        var = x.var(-1, unbiased=False, keepdim=True) # unbiased: calculate variance w/o Bessel's correction\n",
        "\n",
        "        out = (x - mean) / torch.sqrt(var + self.eps)\n",
        "        out = self.gamma * out + self.beta\n",
        "\n",
        "        return out"
      ]
    },
    {
      "cell_type": "markdown",
      "metadata": {
        "id": "beqKyP06J1ZK"
      },
      "source": [
        "## 3. Blocks"
      ]
    },
    {
      "cell_type": "markdown",
      "metadata": {
        "id": "PHhjeonJJ1ZK"
      },
      "source": [
        "### (1) Encoder Block\n",
        "<center><img src=\"https://yangoos57.github.io/static/6e332ac57f0ed3147513504101b18da5/3c492/encoder_block_0.png\" width=\"400\" height=\"400\"/></center>"
      ]
    },
    {
      "cell_type": "code",
      "execution_count": null,
      "metadata": {
        "id": "6KpUt2zlJ1ZK"
      },
      "outputs": [],
      "source": [
        "class EncoderBlock(nn.Module):\n",
        "    def __init__(self, d_model, d_ff, n_heads):\n",
        "        super().__init__()\n",
        "        self.attention = MultiHeadAttention(d_model=d_model, n_heads=n_heads)\n",
        "        self.dropout1 = nn.Dropout(0.1)\n",
        "        self.norm1 = LayerNorm(d_model=d_model)\n",
        "\n",
        "        self.ffn = PositionWiseFeedForward(d_model=d_model, d_ff=d_ff)\n",
        "        self.dropout2 = nn.Dropout(0.1)\n",
        "        self.norm2 = LayerNorm(d_model=d_model)\n",
        "\n",
        "\n",
        "    def forward(self, x, padding_mask):\n",
        "        '''\n",
        "        x: [batch_size, seq_len, d_model]\n",
        "        padding_mask: [batch_size, 1, 1, seq_len]\n",
        "        '''\n",
        "\n",
        "        # FIRST SUBLAYER\n",
        "        _x = x\n",
        "        # q, k, v는 표현만 다를 뿐, input 동일하게 사용\n",
        "        ## mask, so that attention is not applied to pad tokens\n",
        "        x = self.attention(query=x, key=x, value=x, mask=padding_mask)\n",
        "        # \"apply dropout to the output of each sub-layer, before it is added to the sub-layer input and normalized\"\n",
        "        x = self.dropout1(x)\n",
        "        x = self.norm1(x + _x) # x + _x: Residual Connection\n",
        "        # => output: 512 dimension\n",
        "\n",
        "        # SECOND SUBLAYER\n",
        "        _x = x\n",
        "        x = self.ffn(x)\n",
        "        x = self.dropout2(x)\n",
        "        x = self.norm2(x + _x)\n",
        "        # => output: 512 dimension\n",
        "\n",
        "        return x # => output: 512 dimension"
      ]
    },
    {
      "cell_type": "markdown",
      "metadata": {
        "id": "zB_F9o-HJ1ZK"
      },
      "source": [
        "### (2) Encoder\n",
        "<center><img src=\"https://yangoos57.github.io/static/dd5c378de3e1a44105474c8c9c08dad9/3c492/encoder.png\" width=\"450\" height=\"400\"></center>"
      ]
    },
    {
      "cell_type": "code",
      "execution_count": null,
      "metadata": {
        "id": "ONJNdVh5J1ZK"
      },
      "outputs": [],
      "source": [
        "class Encoder(nn.Module):\n",
        "    def __init__(self, enc_vocab_size, max_len, d_model, d_ff, n_heads, n_layers, device):\n",
        "        super().__init__()\n",
        "        # input\n",
        "        self.emb = TransformerEmbedding(d_model=d_model,\n",
        "                                        max_len=max_len,\n",
        "                                        vocab_size=enc_vocab_size,\n",
        "                                        device=device)\n",
        "        # 6 encoder blocks\n",
        "        ## nn.ModuleList: nn.Sequential과 유사하지만 nn.Sequential은 자동으로, 순차적으로 forward 메소드가 실행되기 때문에 한 단위로 실행되지만\n",
        "        ##                nn.ModuleList의 경우 for문을 통해 iterate 하면서 리스트 내의 모듈을 각각 수행시키는 것\n",
        "        self.layers = nn.ModuleList([EncoderBlock(d_model=d_model, d_ff=d_ff, n_heads=n_heads)\n",
        "                                    for _ in range(n_layers)])\n",
        "\n",
        "    def forward(self, x, padding_mask):\n",
        "        '''\n",
        "        x: [batch_size, seq_len]\n",
        "        padding_mask: [batch_size, 1, 1, seq_len]\n",
        "        '''\n",
        "\n",
        "        # compute vector (sentence -> vector)\n",
        "        x = self.emb(x)\n",
        "\n",
        "        for layer in self.layers:\n",
        "            x = layer(x, padding_mask)\n",
        "\n",
        "        return x # => 인코더의 최종 결과값은 context (디코더에서 key와 value로 활용됨)"
      ]
    },
    {
      "cell_type": "markdown",
      "metadata": {
        "id": "5-te_lR1J1ZK"
      },
      "source": [
        "### (3) Decoder Block\n",
        "<center><img src=\"https://yangoos57.github.io/static/5f18ca895d929c0c6041572c5e302c65/3c492/decoder_block_3.png\" width=\"500\" height=\"400\"></center>"
      ]
    },
    {
      "cell_type": "code",
      "execution_count": null,
      "metadata": {
        "id": "JdA9G66UJ1ZK"
      },
      "outputs": [],
      "source": [
        "class DecoderBlock(nn.Module):\n",
        "    def __init__(self, d_model, d_ff, n_heads):\n",
        "        super().__init__()\n",
        "        self.self_attention = MultiHeadAttention(d_model=d_model, n_heads=n_heads)\n",
        "        self.norm1 = LayerNorm(d_model=d_model)\n",
        "        self.dropout1 = nn.Dropout(0.1)\n",
        "\n",
        "        self.enc_dec_att = MultiHeadAttention(d_model=d_model, n_heads=n_heads)\n",
        "        self.norm2 = LayerNorm(d_model=d_model)\n",
        "        self.dropout2 = nn.Dropout(0.1)\n",
        "\n",
        "        self.ffn = PositionWiseFeedForward(d_model=d_model, d_ff=d_ff)\n",
        "        self.norm3 = LayerNorm(d_model=d_model)\n",
        "        self.dropout3 = nn.Dropout(0.1)\n",
        "\n",
        "    def forward(self, dec, context, no_look_mask, padding_mask):\n",
        "        '''\n",
        "        dec: [batch_size, seq_len]\n",
        "        context: [batch_size, seq_len, d_model]\n",
        "        no_look_mask: [batch_size, 1, trg_len, trg_len]\n",
        "        padding_mask: [batch_size, 1, 1, src_len]\n",
        "        '''\n",
        "\n",
        "        _x = dec\n",
        "        # masked multi-head attention (mask=pad masking+subsequent masking)\n",
        "        ## to prevent positions from attending to subsequent positions\n",
        "        ## => ensures that the predictions for position i can depend only on the known outputs at positions less than i\n",
        "        x = self.self_attention(query=dec, key=dec, value=dec, mask=no_look_mask)\n",
        "        x = self.dropout1(x)\n",
        "        x = self.norm1(x + _x)\n",
        "\n",
        "        if context is not None:\n",
        "            _x = x\n",
        "            # query: decoder attention의 결과 (예: 영어), key/value: encoder 결과 (예: 한국어)\n",
        "            x = self.enc_dec_att(query=x, key=context, value=context, mask=padding_mask)\n",
        "            x = self.dropout2(x)\n",
        "            x = self.norm2(x + _x)\n",
        "\n",
        "        _x = x\n",
        "        x = self.ffn(x)\n",
        "        x = self.dropout3(x)\n",
        "        x = self.norm3(x + _x)\n",
        "\n",
        "        return x"
      ]
    },
    {
      "cell_type": "markdown",
      "metadata": {
        "id": "BSwY-e4cJ1ZK"
      },
      "source": [
        "### (4) Decoder\n",
        "<center><img src=\"https://yangoos57.github.io/static/9667d3a95db46e5f57616e57958c1061/3c492/decoder_1.png\" width=\"600\" height=\"500\"></center>"
      ]
    },
    {
      "cell_type": "markdown",
      "metadata": {
        "id": "tdHupxpKJ1ZK"
      },
      "source": [
        "decoder에 encoder의 output 외에 추가적으로 들어오는 input sentence\n",
        "- teacher forcing을 위함\n",
        "    - 모델 학스브 초창기에는 잘못된 token을 생성해낼 가능성이 큰데 이 잘못 예측된 token으로 다음 token도 예측하게 되면 제대로 된 학습이 진행되기 어려울 것\n",
        "    - 따라서, ground truth를 추가적으로 입력해주어 사용하는 것"
      ]
    },
    {
      "cell_type": "markdown",
      "metadata": {
        "id": "RfQwCDf5J1ZP"
      },
      "source": [
        "<center><img src=\"https://cpm0722.github.io/assets/images/2021-01-28-Transformer-in-pytorch/decoder.png\" height=\"200\" width=\"700\"></center>"
      ]
    },
    {
      "cell_type": "code",
      "execution_count": null,
      "metadata": {
        "id": "506vmraQJ1ZP"
      },
      "outputs": [],
      "source": [
        "class Decoder(nn.Module):\n",
        "    def __init__(self, dec_voc_size, max_len, d_model, d_ff, n_heads, n_layers, device):\n",
        "        super().__init__()\n",
        "        self.emb = TransformerEmbedding(d_model=d_model,\n",
        "                                        max_len=max_len,\n",
        "                                        vocab_size=dec_voc_size,\n",
        "                                        device=device)\n",
        "\n",
        "        self.layers = nn.ModuleList([DecoderBlock(d_model=d_model,\n",
        "                                                  d_ff=d_ff,\n",
        "                                                  n_heads=n_heads)\n",
        "                                     for _ in range(n_layers)])\n",
        "\n",
        "    def forward(self, x, context, no_look_mask, padding_mask):\n",
        "        x = self.emb(x)\n",
        "\n",
        "        for layer in self.layers:\n",
        "            x = layer(x, context, no_look_mask, padding_mask)\n",
        "\n",
        "\n",
        "        return x"
      ]
    },
    {
      "cell_type": "markdown",
      "metadata": {
        "id": "atKoqst0J1ZP"
      },
      "source": [
        "## 4. Transformer"
      ]
    },
    {
      "cell_type": "markdown",
      "metadata": {
        "id": "CwelXY5PJ1ZP"
      },
      "source": [
        "<center><img src=\"https://yangoos57.github.io/static/94719d02225cd94f0b1c085d1e741291/6af66/img11.png\" width=\"350\" height=\"500\"></center>"
      ]
    },
    {
      "cell_type": "markdown",
      "metadata": {
        "id": "O7XGCuxIJ1ZP"
      },
      "source": [
        "masking\n",
        "- (seq_len X seq_len) 크기의 mask matrix를 곱하는 방식으로 이루어짐\n",
        "- mask matrix에서 pad token에 해당하는 행과 열의 값은 0 (나머지는 1)\n",
        "- 반드시 Q와 K의 행렬곱 적용 이후, softmax 적용 전 수행되어야 함"
      ]
    },
    {
      "cell_type": "code",
      "execution_count": null,
      "metadata": {
        "id": "Zo7DwtW_J1ZQ"
      },
      "outputs": [],
      "source": [
        "class Transformer(nn.Module):\n",
        "    def __init__(self, pad_idx, no_look_idx, enc_voc_size, dec_voc_size, d_model, n_heads, max_len,\n",
        "                d_ff, n_layers, device):\n",
        "        super().__init__()\n",
        "        self.pad_idx = pad_idx\n",
        "        self.no_look_idx = no_look_idx\n",
        "        self.device = device\n",
        "        self.encoder = Encoder(d_model=d_model,\n",
        "                               n_heads=n_heads,\n",
        "                               max_len=max_len,\n",
        "                               d_ff=d_ff,\n",
        "                               enc_voc_size=enc_voc_size,\n",
        "                               n_layers=n_layers,\n",
        "                               device=device)\n",
        "\n",
        "        self.decoder = Decoder(d_model=d_model,\n",
        "                               n_heads=n_heads,\n",
        "                               max_len=max_len,\n",
        "                               d_ff=d_ff,\n",
        "                               dec_voc_size=dec_voc_size,\n",
        "                               n_layers=n_layers,\n",
        "                               device=device)\n",
        "\n",
        "        self.generator = nn.Linear(d_model, dec_voc_size)\n",
        "\n",
        "    def make_pad_mask(self, src):\n",
        "        # src: [batch_size, seq_len]\n",
        "        pad_mask = (src != self.pad_idx).unsqueeze(1).unsqueeze(2) # pad_idx와 일치하지 않는 토큰은 모두 0, 그 외는 모두 1인 mask 생성\n",
        "        # pad_mask: [batch_size, 1, 1, seq_len]\n",
        "        return pad_mask\n",
        "\n",
        "    def make_no_look_mask(self, trg):\n",
        "        # trg: [batch_size, seq_len]\n",
        "        pad_mask = (trg != self.no_look_idx).unsqueeze(1).unsqueeze(3)\n",
        "        # pad_mask: [batch_size, 1, 1, seq_len]\n",
        "        trg_len = trg.shape[1]\n",
        "        sub_mask = torch.tril(torch.ones(trg_len, trg_len)).type(torch.ByteTensor).to(device) # lower triangle\n",
        "        # sub_mask: [seq_len, trg_len]\n",
        "        no_look_mask = pad_mask & sub_mask\n",
        "        # no_look_mask: [batch_size, 1, trg_len, trg_len]\n",
        "        return no_look_mask\n",
        "\n",
        "    def forward(self, src, trg):\n",
        "        padding_mask = self.make_pad_mask(src)\n",
        "        trg_mask = self.make_no_look_mask(trg)\n",
        "\n",
        "        context = self.encoder(src, padding_mask)\n",
        "        output = self.decoder(trg, context, trg_mask, padding_mask) # output: [batch_size, seq_len, d_model]\n",
        "\n",
        "        out = self.generator(output) # out: [batch_size, seq_len], 실제 token sequence를 원함, d_model을 len(vocab)으로 바꾸어주는 작업\n",
        "        out = F.log_softmax(out, dim=-1) # 마지막 dimension인 len에 대한 확률값을 구해야 하기 때문, 성능 향상 위해 log_softmax 사용\n",
        "\n",
        "        return out"
      ]
    },
    {
      "cell_type": "code",
      "source": [
        "class Transformer(nn.Module):\n",
        "    def __init__(self, pad_idx, no_look_idx, encoder, decoder, dec_voc_size, d_model,device):\n",
        "        super().__init__()\n",
        "        self.pad_idx = pad_idx\n",
        "        self.no_look_idx = no_look_idx\n",
        "        self.device = device\n",
        "        self.encoder = encoder\n",
        "        self.decoder = decoder\n",
        "\n",
        "        self.generator = nn.Linear(d_model, dec_voc_size)\n",
        "\n",
        "    def make_pad_mask(self, src):\n",
        "        # src: [batch_size, seq_len]\n",
        "        pad_mask = (src != self.pad_idx).unsqueeze(1).unsqueeze(2) # pad_idx와 일치하지 않는 토큰은 모두 0, 그 외는 모두 1인 mask 생성\n",
        "        # pad_mask: [batch_size, 1, 1, seq_len]\n",
        "        return pad_mask\n",
        "\n",
        "    def make_no_look_mask(self, trg):\n",
        "        # trg: [batch_size, seq_len]\n",
        "        pad_mask = (trg != self.no_look_idx).unsqueeze(1).unsqueeze(3)\n",
        "        # pad_mask: [batch_size, 1, 1, seq_len]\n",
        "        trg_len = trg.shape[1]\n",
        "        sub_mask = torch.tril(torch.ones(trg_len, trg_len)).type(torch.ByteTensor).to(device) # lower triangle\n",
        "        # sub_mask: [seq_len, trg_len]\n",
        "        no_look_mask = pad_mask & sub_mask\n",
        "        # no_look_mask: [batch_size, 1, trg_len, trg_len]\n",
        "        return no_look_mask\n",
        "\n",
        "    def forward(self, src, trg):\n",
        "        padding_mask = self.make_pad_mask(src)\n",
        "        trg_mask = self.make_no_look_mask(trg)\n",
        "\n",
        "        context = self.encoder(src, padding_mask)\n",
        "        output = self.decoder(trg, context, trg_mask, padding_mask) # output: [batch_size, seq_len, d_model]\n",
        "\n",
        "        out = self.generator(output) # out: [batch_size, seq_len], 실제 token sequence를 원함, d_model을 len(vocab)으로 바꾸어주는 작업\n",
        "        out = F.log_softmax(out, dim=-1) # 마지막 dimension인 len에 대한 확률값을 구해야 하기 때문, 성능 향상 위해 log_softmax 사용\n",
        "\n",
        "        return out"
      ],
      "metadata": {
        "id": "nxKZzkvaFEvh"
      },
      "execution_count": null,
      "outputs": []
    },
    {
      "cell_type": "code",
      "execution_count": null,
      "metadata": {
        "id": "6dkqcmQzJ1ZQ"
      },
      "outputs": [],
      "source": [
        "# torch.tril(torch.ones(10, 10))"
      ]
    },
    {
      "cell_type": "markdown",
      "source": [
        "## 학습(Training)"
      ],
      "metadata": {
        "id": "L--zXSLzLuKA"
      }
    },
    {
      "cell_type": "code",
      "source": [
        "INPUT_DIM = len(SRC.vocab)\n",
        "OUTPUT_DIM = len(TRG.vocab)\n",
        "MODEL_DIM = 128\n",
        "N_LAYERS = 2\n",
        "N_HEADS = 2\n",
        "FF_DIM = 258"
      ],
      "metadata": {
        "id": "V3FAnkE5LrXx"
      },
      "execution_count": null,
      "outputs": []
    },
    {
      "cell_type": "code",
      "source": [
        "SRC_PAD_IDX = SRC.vocab.stoi[SRC.pad_token]\n",
        "TRG_PAD_IDX = TRG.vocab.stoi[TRG.pad_token]\n",
        "\n",
        "# 인코더(encoder)와 디코더(decoder) 객체 선언\n",
        "enc = Encoder(INPUT_DIM, 100, MODEL_DIM, N_LAYERS, N_HEADS, FF_DIM, device)\n",
        "dec = Decoder(OUTPUT_DIM, 100, MODEL_DIM, FF_DIM, N_HEADS, N_LAYERS, device)\n",
        "\n",
        "# Transformer 객체 선언\n",
        "model = Transformer(SRC_PAD_IDX, TRG_PAD_IDX, enc,dec,OUTPUT_DIM, MODEL_DIM,device).to(device)"
      ],
      "metadata": {
        "id": "G8w5CZV6FacR"
      },
      "execution_count": null,
      "outputs": []
    },
    {
      "cell_type": "code",
      "source": [
        "# SRC_PAD_IDX = SRC.vocab.stoi[SRC.pad_token]\n",
        "# TRG_PAD_IDX = TRG.vocab.stoi[TRG.pad_token]\n",
        "\n",
        "# # 인코더(encoder)와 디코더(decoder) 객체 선언\n",
        "# enc = Encoder(INPUT_DIM, 100, MODEL_DIM, N_LAYERS, N_HEADS, FF_DIM, device)\n",
        "# dec = Decoder(OUTPUT_DIM, 100, MODEL_DIM, FF_DIM, N_HEADS, N_LAYERS, device)\n",
        "\n",
        "# # Transformer 객체 선언\n",
        "# model = Transformer(SRC_PAD_IDX, TRG_PAD_IDX, INPUT_DIM, OUTPUT_DIM, MODEL_DIM,\n",
        "#                     N_HEADS, 100, FF_DIM, N_LAYERS, device)"
      ],
      "metadata": {
        "id": "eNCk44CDMHHM"
      },
      "execution_count": null,
      "outputs": []
    },
    {
      "cell_type": "code",
      "source": [
        "# 가중치 초기화\n",
        "def count_parameters(model):\n",
        "    return sum(p.numel() for p in model.parameters() if p.requires_grad)\n",
        "\n",
        "print(f'The model has {count_parameters(model):,} trainable parameters')"
      ],
      "metadata": {
        "colab": {
          "base_uri": "https://localhost:8080/"
        },
        "id": "qTWVo1P0EVg9",
        "outputId": "b1f6be8d-4946-4da7-d523-9cdcfeda93b9"
      },
      "execution_count": null,
      "outputs": [
        {
          "output_type": "stream",
          "name": "stdout",
          "text": [
            "The model has 20,121,868 trainable parameters\n"
          ]
        }
      ]
    },
    {
      "cell_type": "code",
      "source": [
        "def initialize_weights(m):\n",
        "    if hasattr(m, 'weight') and m.weight.dim() > 1:\n",
        "        nn.init.xavier_uniform_(m.weight.data)\n",
        "\n",
        "model.apply(initialize_weights)"
      ],
      "metadata": {
        "colab": {
          "base_uri": "https://localhost:8080/"
        },
        "id": "BtzOLrILEbzy",
        "outputId": "49866e4d-b6d4-4ccc-ba18-51700f08c555"
      },
      "execution_count": null,
      "outputs": [
        {
          "output_type": "execute_result",
          "data": {
            "text/plain": [
              "Transformer(\n",
              "  (encoder): Encoder(\n",
              "    (emb): TransformerEmbedding(\n",
              "      (tok_emb): TokenEmbedding(\n",
              "        (embedding): Embedding(7852, 128)\n",
              "      )\n",
              "      (pos_emb): PositionalEmbedding()\n",
              "      (dropout): Dropout(p=0.1, inplace=False)\n",
              "    )\n",
              "    (layers): ModuleList(\n",
              "      (0-257): 258 x EncoderBlock(\n",
              "        (attention): MultiHeadAttention(\n",
              "          (w_q): Linear(in_features=128, out_features=128, bias=False)\n",
              "          (w_k): Linear(in_features=128, out_features=128, bias=False)\n",
              "          (w_v): Linear(in_features=128, out_features=128, bias=False)\n",
              "          (w_o): Linear(in_features=128, out_features=128, bias=False)\n",
              "          (attention): ScaledDotProductAttention(\n",
              "            (softmax): Softmax(dim=-1)\n",
              "            (dropout): Dropout(p=0.1, inplace=False)\n",
              "          )\n",
              "          (dropout): Dropout(p=0.1, inplace=False)\n",
              "        )\n",
              "        (dropout1): Dropout(p=0.1, inplace=False)\n",
              "        (norm1): LayerNorm()\n",
              "        (ffn): PositionWiseFeedForward(\n",
              "          (linear1): Linear(in_features=128, out_features=2, bias=True)\n",
              "          (linear2): Linear(in_features=2, out_features=128, bias=True)\n",
              "          (relu): ReLU()\n",
              "          (dropout): Dropout(p=0.1, inplace=False)\n",
              "        )\n",
              "        (dropout2): Dropout(p=0.1, inplace=False)\n",
              "        (norm2): LayerNorm()\n",
              "      )\n",
              "    )\n",
              "  )\n",
              "  (decoder): Decoder(\n",
              "    (emb): TransformerEmbedding(\n",
              "      (tok_emb): TokenEmbedding(\n",
              "        (embedding): Embedding(5892, 128)\n",
              "      )\n",
              "      (pos_emb): PositionalEmbedding()\n",
              "      (dropout): Dropout(p=0.1, inplace=False)\n",
              "    )\n",
              "    (layers): ModuleList(\n",
              "      (0-1): 2 x DecoderBlock(\n",
              "        (self_attention): MultiHeadAttention(\n",
              "          (w_q): Linear(in_features=128, out_features=128, bias=False)\n",
              "          (w_k): Linear(in_features=128, out_features=128, bias=False)\n",
              "          (w_v): Linear(in_features=128, out_features=128, bias=False)\n",
              "          (w_o): Linear(in_features=128, out_features=128, bias=False)\n",
              "          (attention): ScaledDotProductAttention(\n",
              "            (softmax): Softmax(dim=-1)\n",
              "            (dropout): Dropout(p=0.1, inplace=False)\n",
              "          )\n",
              "          (dropout): Dropout(p=0.1, inplace=False)\n",
              "        )\n",
              "        (norm1): LayerNorm()\n",
              "        (dropout1): Dropout(p=0.1, inplace=False)\n",
              "        (enc_dec_att): MultiHeadAttention(\n",
              "          (w_q): Linear(in_features=128, out_features=128, bias=False)\n",
              "          (w_k): Linear(in_features=128, out_features=128, bias=False)\n",
              "          (w_v): Linear(in_features=128, out_features=128, bias=False)\n",
              "          (w_o): Linear(in_features=128, out_features=128, bias=False)\n",
              "          (attention): ScaledDotProductAttention(\n",
              "            (softmax): Softmax(dim=-1)\n",
              "            (dropout): Dropout(p=0.1, inplace=False)\n",
              "          )\n",
              "          (dropout): Dropout(p=0.1, inplace=False)\n",
              "        )\n",
              "        (norm2): LayerNorm()\n",
              "        (dropout2): Dropout(p=0.1, inplace=False)\n",
              "        (ffn): PositionWiseFeedForward(\n",
              "          (linear1): Linear(in_features=128, out_features=258, bias=True)\n",
              "          (linear2): Linear(in_features=258, out_features=128, bias=True)\n",
              "          (relu): ReLU()\n",
              "          (dropout): Dropout(p=0.1, inplace=False)\n",
              "        )\n",
              "        (norm3): LayerNorm()\n",
              "        (dropout3): Dropout(p=0.1, inplace=False)\n",
              "      )\n",
              "    )\n",
              "  )\n",
              "  (generator): Linear(in_features=128, out_features=5892, bias=True)\n",
              ")"
            ]
          },
          "metadata": {},
          "execution_count": 38
        }
      ]
    },
    {
      "cell_type": "code",
      "source": [
        "import torch.optim as optim\n",
        "\n",
        "# Adam optimizer로 학습 최적화\n",
        "LEARNING_RATE = 0.0005\n",
        "optimizer = torch.optim.Adam(model.parameters(), lr=LEARNING_RATE)\n",
        "\n",
        "# 뒷 부분의 패딩(padding)에 대해서는 값 무시\n",
        "criterion = nn.CrossEntropyLoss(ignore_index = TRG_PAD_IDX)"
      ],
      "metadata": {
        "id": "gj3-sNPtEdhQ"
      },
      "execution_count": null,
      "outputs": []
    },
    {
      "cell_type": "code",
      "source": [
        "# 모델 학습(train) 함수\n",
        "def train(model, iterator, optimizer, criterion, clip):\n",
        "    model.train() # 학습 모드\n",
        "    epoch_loss = 0\n",
        "\n",
        "    # 전체 학습 데이터를 확인하며\n",
        "    for i, batch in enumerate(iterator):\n",
        "        src = batch.src.to(device)\n",
        "        trg = batch.trg.to(device)\n",
        "\n",
        "        optimizer.zero_grad()\n",
        "\n",
        "        # 출력 단어의 마지막 인덱스()는 제외\n",
        "        # 입력을 할 때는 부터 시작하도록 처리\n",
        "        output = model(src, trg[:,:-1])\n",
        "\n",
        "        # output: [배치 크기, trg_len - 1, output_dim]\n",
        "        # trg: [배치 크기, trg_len]\n",
        "\n",
        "        output_dim = output.shape[-1]\n",
        "\n",
        "        output = output.contiguous().view(-1, output_dim)\n",
        "        # 출력 단어의 인덱스 0()은 제외\n",
        "        trg = trg[:,1:].contiguous().view(-1)\n",
        "\n",
        "        # output: [배치 크기 * trg_len - 1, output_dim]\n",
        "        # trg: [배치 크기 * trg len - 1]\n",
        "\n",
        "        # 모델의 출력 결과와 타겟 문장을 비교하여 손실 계산\n",
        "        loss = criterion(output, trg)\n",
        "        loss.backward() # 기울기(gradient) 계산\n",
        "\n",
        "        # 기울기(gradient) clipping 진행\n",
        "        torch.nn.utils.clip_grad_norm_(model.parameters(), clip)\n",
        "\n",
        "        # 파라미터 업데이트\n",
        "        optimizer.step()\n",
        "\n",
        "        # 전체 손실 값 계산\n",
        "        epoch_loss += loss.item()\n",
        "\n",
        "    return epoch_loss / len(iterator)"
      ],
      "metadata": {
        "id": "5oVm_-4QEj86"
      },
      "execution_count": null,
      "outputs": []
    },
    {
      "cell_type": "code",
      "source": [
        "# 모델 평가(evaluate) 함수\n",
        "def evaluate(model, iterator, criterion):\n",
        "    model.eval() # 평가 모드\n",
        "    epoch_loss = 0\n",
        "\n",
        "    with torch.no_grad():\n",
        "        # 전체 평가 데이터를 확인하며\n",
        "        for i, batch in enumerate(iterator):\n",
        "            src = batch.src\n",
        "            trg = batch.trg\n",
        "\n",
        "            # 출력 단어의 마지막 인덱스()는 제외\n",
        "            # 입력을 할 때는 부터 시작하도록 처리\n",
        "            output = model(src, trg[:,:-1])\n",
        "\n",
        "            # output: [배치 크기, trg_len - 1, output_dim]\n",
        "            # trg: [배치 크기, trg_len]\n",
        "\n",
        "            output_dim = output.shape[-1]\n",
        "\n",
        "            output = output.contiguous().view(-1, output_dim)\n",
        "            # 출력 단어의 인덱스 0()은 제외\n",
        "            trg = trg[:,1:].contiguous().view(-1)\n",
        "\n",
        "            # output: [배치 크기 * trg_len - 1, output_dim]\n",
        "            # trg: [배치 크기 * trg len - 1]\n",
        "\n",
        "            # 모델의 출력 결과와 타겟 문장을 비교하여 손실 계산\n",
        "            loss = criterion(output, trg)\n",
        "\n",
        "            # 전체 손실 값 계산\n",
        "            epoch_loss += loss.item()\n",
        "\n",
        "    return epoch_loss / len(iterator)"
      ],
      "metadata": {
        "id": "RbBVG1EBEkiO"
      },
      "execution_count": null,
      "outputs": []
    },
    {
      "cell_type": "code",
      "source": [
        "# 학습(training) 및 검증(validation) 진행\n",
        "## 학습 횟수(epoch): 10\n",
        "\n",
        "import math\n",
        "import time\n",
        "\n",
        "def epoch_time(start_time, end_time):\n",
        "    elapsed_time = end_time - start_time\n",
        "    elapsed_mins = int(elapsed_time / 60)\n",
        "    elapsed_secs = int(elapsed_time - (elapsed_mins * 60))\n",
        "    return elapsed_mins, elapsed_secs"
      ],
      "metadata": {
        "id": "Rpzf8TtMEnGZ"
      },
      "execution_count": null,
      "outputs": []
    },
    {
      "cell_type": "code",
      "source": [
        "import time\n",
        "import math\n",
        "import random\n",
        "\n",
        "N_EPOCHS = 10\n",
        "CLIP = 1\n",
        "best_valid_loss = float('inf')\n",
        "\n",
        "for epoch in range(N_EPOCHS):\n",
        "    start_time = time.time() # 시작 시간 기록\n",
        "\n",
        "    train_loss = train(model, train_iterator, optimizer, criterion, CLIP)\n",
        "    valid_loss = evaluate(model, valid_iterator, criterion)\n",
        "\n",
        "    end_time = time.time() # 종료 시간 기록\n",
        "    epoch_mins, epoch_secs = epoch_time(start_time, end_time)\n",
        "\n",
        "    if valid_loss < best_valid_loss:\n",
        "        best_valid_loss = valid_loss\n",
        "        torch.save(model.state_dict(), 'transformer_german_to_english.pt')\n",
        "\n",
        "    print(f'Epoch: {epoch + 1:02} | Time: {epoch_mins}m {epoch_secs}s')\n",
        "    print(f'\\tTrain Loss: {train_loss:.3f} | Train PPL: {math.exp(train_loss):.3f}')\n",
        "    print(f'\\tValidation Loss: {valid_loss:.3f} | Validation PPL: {math.exp(valid_loss):.3f}')"
      ],
      "metadata": {
        "colab": {
          "base_uri": "https://localhost:8080/"
        },
        "id": "CsGPFDEyEvhe",
        "outputId": "a5da910f-55d6-42aa-f734-aa728e9424ae"
      },
      "execution_count": null,
      "outputs": [
        {
          "output_type": "stream",
          "name": "stdout",
          "text": [
            "Epoch: 01 | Time: 3m 56s\n",
            "\tTrain Loss: 3.776 | Train PPL: 43.642\n",
            "\tValidation Loss: 3.513 | Validation PPL: 33.561\n",
            "Epoch: 02 | Time: 3m 52s\n",
            "\tTrain Loss: 3.526 | Train PPL: 33.986\n",
            "\tValidation Loss: 3.369 | Validation PPL: 29.051\n",
            "Epoch: 03 | Time: 3m 52s\n",
            "\tTrain Loss: 3.369 | Train PPL: 29.061\n",
            "\tValidation Loss: 3.285 | Validation PPL: 26.722\n",
            "Epoch: 04 | Time: 3m 49s\n",
            "\tTrain Loss: 3.252 | Train PPL: 25.840\n",
            "\tValidation Loss: 3.218 | Validation PPL: 24.970\n",
            "Epoch: 05 | Time: 3m 47s\n",
            "\tTrain Loss: 3.159 | Train PPL: 23.555\n",
            "\tValidation Loss: 3.207 | Validation PPL: 24.700\n",
            "Epoch: 06 | Time: 3m 47s\n",
            "\tTrain Loss: 3.077 | Train PPL: 21.697\n",
            "\tValidation Loss: 3.219 | Validation PPL: 25.011\n",
            "Epoch: 07 | Time: 3m 58s\n",
            "\tTrain Loss: 3.002 | Train PPL: 20.131\n",
            "\tValidation Loss: 3.251 | Validation PPL: 25.811\n",
            "Epoch: 08 | Time: 4m 2s\n",
            "\tTrain Loss: 2.939 | Train PPL: 18.906\n",
            "\tValidation Loss: 3.286 | Validation PPL: 26.740\n",
            "Epoch: 09 | Time: 3m 51s\n",
            "\tTrain Loss: 2.882 | Train PPL: 17.841\n",
            "\tValidation Loss: 3.330 | Validation PPL: 27.952\n",
            "Epoch: 10 | Time: 3m 50s\n",
            "\tTrain Loss: 2.831 | Train PPL: 16.955\n",
            "\tValidation Loss: 3.419 | Validation PPL: 30.525\n"
          ]
        }
      ]
    },
    {
      "cell_type": "code",
      "source": [
        "# # 학습된 모델 저장\n",
        "# from google.colab import files\n",
        "\n",
        "# files.download('transformer_german_to_english.pt')"
      ],
      "metadata": {
        "id": "rJsO82SMEx50"
      },
      "execution_count": null,
      "outputs": []
    },
    {
      "cell_type": "code",
      "source": [
        "model.load_state_dict(torch.load('transformer_german_to_english.pt'))\n",
        "\n",
        "test_loss = evaluate(model, test_iterator, criterion)\n",
        "\n",
        "print(f'Test Loss: {test_loss:.3f} | Test PPL: {math.exp(test_loss):.3f}')"
      ],
      "metadata": {
        "id": "_5oulHamE1eA",
        "colab": {
          "base_uri": "https://localhost:8080/"
        },
        "outputId": "5b10f8cf-e6dc-4b39-f458-7e405562524c"
      },
      "execution_count": null,
      "outputs": [
        {
          "output_type": "stream",
          "name": "stdout",
          "text": [
            "Test Loss: 3.197 | Test PPL: 24.449\n"
          ]
        }
      ]
    },
    {
      "cell_type": "code",
      "source": [
        "# 번역(translation) 함수\n",
        "def translate_sentence(sentence, src_field, trg_field, model, device, max_len=100, logging=True):\n",
        "    model.eval() # 평가 모드\n",
        "\n",
        "    if isinstance(sentence, str):\n",
        "        nlp = spacy.load('de')\n",
        "        tokens = [token.text.lower() for token in nlp(sentence)]\n",
        "    else:\n",
        "        tokens = [token.lower() for token in sentence]\n",
        "\n",
        "    # 처음에  토큰, 마지막에  토큰 붙이기\n",
        "    tokens = [src_field.init_token] + tokens + [src_field.eos_token]\n",
        "    if logging:\n",
        "        print(f\"전체 소스 토큰: {tokens}\")\n",
        "\n",
        "    src_indexes = [src_field.vocab.stoi[token] for token in tokens]\n",
        "    if logging:\n",
        "        print(f\"소스 문장 인덱스: {src_indexes}\")\n",
        "\n",
        "    src_tensor = torch.LongTensor(src_indexes).unsqueeze(0).to(device)\n",
        "\n",
        "    # 소스 문장에 따른 마스크 생성\n",
        "    src_mask = model.make_pad_mask(src_tensor)\n",
        "\n",
        "    # 인코더(endocer)에 소스 문장을 넣어 출력 값 구하기\n",
        "    with torch.no_grad():\n",
        "        enc_src = model.encoder(src_tensor, src_mask)\n",
        "\n",
        "    # 처음에는  토큰 하나만 가지고 있도록 하기\n",
        "    trg_indexes = [trg_field.vocab.stoi[trg_field.init_token]]\n",
        "\n",
        "    for i in range(max_len):\n",
        "        trg_tensor = torch.LongTensor(trg_indexes).unsqueeze(0).to(device)\n",
        "\n",
        "        # 출력 문장에 따른 마스크 생성\n",
        "        trg_mask = model.make_no_look_mask(trg_tensor)\n",
        "\n",
        "        with torch.no_grad():\n",
        "            output = model.decoder(trg_tensor, enc_src, trg_mask, src_mask)\n",
        "\n",
        "        # 출력 문장에서 가장 마지막 단어만 사용\n",
        "        pred_token = output.argmax(2)[:,-1].item()\n",
        "        trg_indexes.append(pred_token) # 출력 문장에 더하기\n",
        "\n",
        "        # 를 만나는 순간 끝\n",
        "        if pred_token == trg_field.vocab.stoi[trg_field.eos_token]:\n",
        "            break\n",
        "\n",
        "    # 각 출력 단어 인덱스를 실제 단어로 변환\n",
        "    trg_tokens = [trg_field.vocab.itos[i] for i in trg_indexes]\n",
        "\n",
        "    # 첫 번째 는 제외하고 출력 문장 반환\n",
        "    return trg_tokens[1:]\n"
      ],
      "metadata": {
        "id": "QjhSyVTmUS8s"
      },
      "execution_count": null,
      "outputs": []
    },
    {
      "cell_type": "code",
      "source": [
        "example_idx = 10\n",
        "\n",
        "src = vars(test_dataset.examples[example_idx])['src']\n",
        "trg = vars(test_dataset.examples[example_idx])['trg']\n",
        "\n",
        "print(f'소스 문장: {src}')\n",
        "print(f'타겟 문장: {trg}')\n",
        "\n",
        "translation = translate_sentence(src, SRC, TRG, model, device, logging=True)\n",
        "\n",
        "print(\"모델 출력 결과:\", \" \".join(translation))"
      ],
      "metadata": {
        "id": "fWLTQpxFUWAQ",
        "colab": {
          "base_uri": "https://localhost:8080/"
        },
        "outputId": "08a963b0-a0dd-4b4b-a171-6a104e33cb5c"
      },
      "execution_count": null,
      "outputs": [
        {
          "output_type": "stream",
          "name": "stdout",
          "text": [
            "소스 문장: ['eine', 'mutter', 'und', 'ihr', 'kleiner', 'sohn', 'genießen', 'einen', 'schönen', 'tag', 'im', 'freien', '.']\n",
            "타겟 문장: ['a', 'mother', 'and', 'her', 'young', 'song', 'enjoying', 'a', 'beautiful', 'day', 'outside', '.']\n",
            "전체 소스 토큰: ['', 'eine', 'mutter', 'und', 'ihr', 'kleiner', 'sohn', 'genießen', 'einen', 'schönen', 'tag', 'im', 'freien', '.', '']\n",
            "소스 문장 인덱스: [2, 7, 363, 9, 133, 69, 623, 564, 18, 779, 199, 19, 87, 3, 2]\n",
            "모델 출력 결과: hat talking woman dogs person into boy into boy into boy into boy into jacket building building front building front front front front front front front front front front front front front front front front front front front front front front front front front front front front front front front front front front front front front front front down down down down down down down down down down down down down down down down down down down down down down down down down down down down down down down down down down down down down down down down down down\n"
          ]
        }
      ]
    },
    {
      "cell_type": "markdown",
      "metadata": {
        "id": "VGc8Tv6WJ1ZQ"
      },
      "source": [
        "[References]\n",
        "- https://yangoos57.github.io/blog/DeepLearning/paper/Transformer/Transformer_From_Scratch/\n",
        "- https://jalammar.github.io/illustrated-transformer/\n",
        "- https://github.com/tunz/transformer-pytorch/blob/master/model/transformer.py\n",
        "- https://github.com/bentrevett/pytorch-seq2seq/blob/master/6%20-%20Attention%20is%20All%20You%20Need.ipynb\n",
        "- https://www.blossominkyung.com/deeplearning/transfomer-positional-encoding\n",
        "- https://github.com/hyunwoongko/transformer/tree/master\n",
        "- https://code-angie.tistory.com/7\n",
        "- https://cpm0722.github.io/pytorch-implementation/transformer\n",
        "- https://github.com/ndb796/Deep-Learning-Paper-Review-and-Practice/blob/master/code_practices/Attention_is_All_You_Need_Tutorial_(German_English).ipynb\n"
      ]
    }
  ],
  "metadata": {
    "kernelspec": {
      "display_name": "Python 3",
      "name": "python3"
    },
    "language_info": {
      "codemirror_mode": {
        "name": "ipython",
        "version": 3
      },
      "file_extension": ".py",
      "mimetype": "text/x-python",
      "name": "python",
      "nbconvert_exporter": "python",
      "pygments_lexer": "ipython3",
      "version": "3.8.15"
    },
    "orig_nbformat": 4,
    "colab": {
      "provenance": [],
      "gpuType": "T4"
    },
    "accelerator": "GPU"
  },
  "nbformat": 4,
  "nbformat_minor": 0
}