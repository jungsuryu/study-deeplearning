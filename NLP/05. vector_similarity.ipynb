{
 "cells": [
  {
   "cell_type": "markdown",
   "id": "8be3a97f-e4d9-47e5-a244-086fb31e8f58",
   "metadata": {},
   "source": [
    "## 벡터의 유사도(Vector Similarity)"
   ]
  },
  {
   "cell_type": "markdown",
   "id": "6677f8f3-66a9-419a-b136-cf1ea3e3c279",
   "metadata": {},
   "source": [
    "### numpy 사용해서 코사인 유사도 계산"
   ]
  },
  {
   "cell_type": "code",
   "execution_count": 1,
   "id": "32ee970f-e10d-4e11-976e-94f4904ff680",
   "metadata": {},
   "outputs": [
    {
     "name": "stdout",
     "output_type": "stream",
     "text": [
      "문서1과 2의 유사도:  0.6666666666666667\n",
      "문서1과 3의 유사도:  0.6666666666666667\n",
      "문서2와 3의 유사도:  1.0000000000000002\n"
     ]
    }
   ],
   "source": [
    "import numpy as np\n",
    "from numpy import dot\n",
    "from numpy.linalg import norm\n",
    "\n",
    "def cos_sim(A, B):\n",
    "    return dot(A, B)/(norm(A)*norm(B))\n",
    "\n",
    "doc1 = np.array([0, 1, 1, 1])\n",
    "doc2 = np.array([1, 0, 1, 1])\n",
    "doc3 = np.array([2, 0, 2, 2])\n",
    "\n",
    "print('문서1과 2의 유사도: ', cos_sim(doc1, doc2))\n",
    "print('문서1과 3의 유사도: ', cos_sim(doc1, doc3))\n",
    "print('문서2와 3의 유사도: ', cos_sim(doc2, doc3))"
   ]
  },
  {
   "cell_type": "markdown",
   "id": "54c78e7b-31f7-4ea7-b626-a163f9478259",
   "metadata": {},
   "source": [
    "### 유사도를 이용한 추천시스템 구현\n",
    "- title과 overview(줄거리)를 코사인 유사도에 사용\n",
    "- 좋아하는 영화 입력하면 해당 영화의 줄거리와 유사한 줄거리의 영화 찾아서 추천"
   ]
  },
  {
   "cell_type": "code",
   "execution_count": 2,
   "id": "25f463de-4dac-4379-86af-df139fa2a997",
   "metadata": {},
   "outputs": [
    {
     "data": {
      "text/html": [
       "<div>\n",
       "<style scoped>\n",
       "    .dataframe tbody tr th:only-of-type {\n",
       "        vertical-align: middle;\n",
       "    }\n",
       "\n",
       "    .dataframe tbody tr th {\n",
       "        vertical-align: top;\n",
       "    }\n",
       "\n",
       "    .dataframe thead th {\n",
       "        text-align: right;\n",
       "    }\n",
       "</style>\n",
       "<table border=\"1\" class=\"dataframe\">\n",
       "  <thead>\n",
       "    <tr style=\"text-align: right;\">\n",
       "      <th></th>\n",
       "      <th>adult</th>\n",
       "      <th>belongs_to_collection</th>\n",
       "      <th>budget</th>\n",
       "      <th>genres</th>\n",
       "      <th>homepage</th>\n",
       "      <th>id</th>\n",
       "      <th>imdb_id</th>\n",
       "      <th>original_language</th>\n",
       "      <th>original_title</th>\n",
       "      <th>overview</th>\n",
       "      <th>...</th>\n",
       "      <th>release_date</th>\n",
       "      <th>revenue</th>\n",
       "      <th>runtime</th>\n",
       "      <th>spoken_languages</th>\n",
       "      <th>status</th>\n",
       "      <th>tagline</th>\n",
       "      <th>title</th>\n",
       "      <th>video</th>\n",
       "      <th>vote_average</th>\n",
       "      <th>vote_count</th>\n",
       "    </tr>\n",
       "  </thead>\n",
       "  <tbody>\n",
       "    <tr>\n",
       "      <th>0</th>\n",
       "      <td>False</td>\n",
       "      <td>{'id': 10194, 'name': 'Toy Story Collection', ...</td>\n",
       "      <td>30000000</td>\n",
       "      <td>[{'id': 16, 'name': 'Animation'}, {'id': 35, '...</td>\n",
       "      <td>http://toystory.disney.com/toy-story</td>\n",
       "      <td>862</td>\n",
       "      <td>tt0114709</td>\n",
       "      <td>en</td>\n",
       "      <td>Toy Story</td>\n",
       "      <td>Led by Woody, Andy's toys live happily in his ...</td>\n",
       "      <td>...</td>\n",
       "      <td>1995-10-30</td>\n",
       "      <td>373554033.0</td>\n",
       "      <td>81.0</td>\n",
       "      <td>[{'iso_639_1': 'en', 'name': 'English'}]</td>\n",
       "      <td>Released</td>\n",
       "      <td>NaN</td>\n",
       "      <td>Toy Story</td>\n",
       "      <td>False</td>\n",
       "      <td>7.7</td>\n",
       "      <td>5415.0</td>\n",
       "    </tr>\n",
       "    <tr>\n",
       "      <th>1</th>\n",
       "      <td>False</td>\n",
       "      <td>NaN</td>\n",
       "      <td>65000000</td>\n",
       "      <td>[{'id': 12, 'name': 'Adventure'}, {'id': 14, '...</td>\n",
       "      <td>NaN</td>\n",
       "      <td>8844</td>\n",
       "      <td>tt0113497</td>\n",
       "      <td>en</td>\n",
       "      <td>Jumanji</td>\n",
       "      <td>When siblings Judy and Peter discover an encha...</td>\n",
       "      <td>...</td>\n",
       "      <td>1995-12-15</td>\n",
       "      <td>262797249.0</td>\n",
       "      <td>104.0</td>\n",
       "      <td>[{'iso_639_1': 'en', 'name': 'English'}, {'iso...</td>\n",
       "      <td>Released</td>\n",
       "      <td>Roll the dice and unleash the excitement!</td>\n",
       "      <td>Jumanji</td>\n",
       "      <td>False</td>\n",
       "      <td>6.9</td>\n",
       "      <td>2413.0</td>\n",
       "    </tr>\n",
       "  </tbody>\n",
       "</table>\n",
       "<p>2 rows × 24 columns</p>\n",
       "</div>"
      ],
      "text/plain": [
       "   adult                              belongs_to_collection    budget  \\\n",
       "0  False  {'id': 10194, 'name': 'Toy Story Collection', ...  30000000   \n",
       "1  False                                                NaN  65000000   \n",
       "\n",
       "                                              genres  \\\n",
       "0  [{'id': 16, 'name': 'Animation'}, {'id': 35, '...   \n",
       "1  [{'id': 12, 'name': 'Adventure'}, {'id': 14, '...   \n",
       "\n",
       "                               homepage    id    imdb_id original_language  \\\n",
       "0  http://toystory.disney.com/toy-story   862  tt0114709                en   \n",
       "1                                   NaN  8844  tt0113497                en   \n",
       "\n",
       "  original_title                                           overview  ...  \\\n",
       "0      Toy Story  Led by Woody, Andy's toys live happily in his ...  ...   \n",
       "1        Jumanji  When siblings Judy and Peter discover an encha...  ...   \n",
       "\n",
       "   release_date      revenue runtime  \\\n",
       "0    1995-10-30  373554033.0    81.0   \n",
       "1    1995-12-15  262797249.0   104.0   \n",
       "\n",
       "                                    spoken_languages    status  \\\n",
       "0           [{'iso_639_1': 'en', 'name': 'English'}]  Released   \n",
       "1  [{'iso_639_1': 'en', 'name': 'English'}, {'iso...  Released   \n",
       "\n",
       "                                     tagline      title  video vote_average  \\\n",
       "0                                        NaN  Toy Story  False          7.7   \n",
       "1  Roll the dice and unleash the excitement!    Jumanji  False          6.9   \n",
       "\n",
       "  vote_count  \n",
       "0     5415.0  \n",
       "1     2413.0  \n",
       "\n",
       "[2 rows x 24 columns]"
      ]
     },
     "execution_count": 2,
     "metadata": {},
     "output_type": "execute_result"
    }
   ],
   "source": [
    "import pandas as pd\n",
    "from sklearn.feature_extraction.text import TfidfVectorizer\n",
    "from sklearn.metrics.pairwise import cosine_similarity\n",
    "\n",
    "data = pd.read_csv('movies_metadata.csv', low_memory=False)\n",
    "data.head(2)"
   ]
  },
  {
   "cell_type": "code",
   "execution_count": 3,
   "id": "5da11c5c-ba4c-48f4-8167-80d7d8f1523e",
   "metadata": {},
   "outputs": [],
   "source": [
    "# 상위 2개만의 샘플을 data에 저장\n",
    "data = data.head(20000)"
   ]
  },
  {
   "cell_type": "code",
   "execution_count": 4,
   "id": "52633529-6177-4350-85ac-bf483f8527c9",
   "metadata": {},
   "outputs": [
    {
     "name": "stdout",
     "output_type": "stream",
     "text": [
      "overview 결측값 수:  135\n"
     ]
    }
   ],
   "source": [
    "# overview 열에 존재하는 모든 결측값을 전부 카운트하여 출력\n",
    "print('overview 결측값 수: ', data['overview'].isnull().sum())"
   ]
  },
  {
   "cell_type": "code",
   "execution_count": 5,
   "id": "ab0f9357-a995-4a89-8017-d48627a74f9b",
   "metadata": {},
   "outputs": [],
   "source": [
    "# 결측값을 빈 값으로 대체\n",
    "data['overview'] = data['overview'].fillna('')"
   ]
  },
  {
   "cell_type": "code",
   "execution_count": 6,
   "id": "f8271203-e0f5-4801-84c6-edffe4225ac6",
   "metadata": {},
   "outputs": [
    {
     "name": "stdout",
     "output_type": "stream",
     "text": [
      "TF-IDF의 크기(shape):  (20000, 47487)\n"
     ]
    }
   ],
   "source": [
    "# overview열에 대해 TF-IDF 구한 후 행렬의 크기 출력\n",
    "tfidf = TfidfVectorizer(stop_words='english')\n",
    "tfidf_matrix = tfidf.fit_transform(data['overview'])\n",
    "print('TF-IDF의 크기(shape): ', tfidf_matrix.shape)"
   ]
  },
  {
   "cell_type": "markdown",
   "id": "fb49fdee-a0d5-4023-8e83-59b64faaa332",
   "metadata": {},
   "source": [
    "20,000개의 영화를 표현하기 위해 47,487개 단어가 사용되었음을 의미\n",
    "- 47,487 차원의 문서 벡터가 20,000개 존재한다고도 표현 가능"
   ]
  },
  {
   "cell_type": "code",
   "execution_count": 7,
   "id": "f8ab9da0-d838-4f77-bd0c-1d06bc14387d",
   "metadata": {},
   "outputs": [
    {
     "name": "stdout",
     "output_type": "stream",
     "text": [
      "코사인 유사도 연산 결과:  (20000, 20000)\n"
     ]
    }
   ],
   "source": [
    "cosine_sim = cosine_similarity(tfidf_matrix, tfidf_matrix)\n",
    "print('코사인 유사도 연산 결과: ', cosine_sim.shape)"
   ]
  },
  {
   "cell_type": "markdown",
   "id": "3de8b99a-f646-4888-ab41-ab52a1760ed4",
   "metadata": {},
   "source": [
    "모든 영화의 상호 유사도 기록"
   ]
  },
  {
   "cell_type": "code",
   "execution_count": 8,
   "id": "3e26d36c-36e1-418e-9c50-94d12cbcbfb2",
   "metadata": {},
   "outputs": [
    {
     "name": "stdout",
     "output_type": "stream",
     "text": [
      "4\n"
     ]
    }
   ],
   "source": [
    "title_to_index = dict(zip(data['title'], data.index))\n",
    "\n",
    "# 영화 제목 Father of the Bride Part II의 인덱스 리턴\n",
    "idx = title_to_index['Father of the Bride Part II']\n",
    "print(idx)"
   ]
  },
  {
   "cell_type": "code",
   "execution_count": 9,
   "id": "b75b2f22-5b70-42f4-9811-4746cf26662c",
   "metadata": {},
   "outputs": [],
   "source": [
    "# 선택한 영화의 제목을 입력하면 코사인 유사도를 통해 가장 overview가 유사한 10개의 영화 찾아내는 함수\n",
    "def get_recommendations(title, cosine_sim=cosine_sim):\n",
    "    # 선택한 영화의 타이틀로부터 해당 영화의 인덱스를 받아온다\n",
    "    idx = title_to_index[title]\n",
    "    \n",
    "    # 해당 영화와 모든 영화와의 유사도를 가져온다\n",
    "    sim_scores = list(enumerate(cosine_sim[idx]))\n",
    "    \n",
    "    # 유사도에 따라 영화 정렬\n",
    "    sim_scores = sorted(sim_scores, key=lambda x: x[1], reverse=True)\n",
    "    \n",
    "    # 가장 유사한 10개의 영화 빋아옴\n",
    "    sim_scores = sim_scores[1:11]\n",
    "    \n",
    "    # 가장 유사한 10개의 영화 인덱스\n",
    "    movie_indices = [idx[0] for idx in sim_scores]\n",
    "    \n",
    "    # 가장 유사한 10개의 영화 제목 리턴\n",
    "    return data['title'].iloc[movie_indices]"
   ]
  },
  {
   "cell_type": "code",
   "execution_count": 10,
   "id": "e1f18ab5-f7cc-41aa-9fe4-33e4d0045824",
   "metadata": {},
   "outputs": [
    {
     "data": {
      "text/plain": [
       "12481                            The Dark Knight\n",
       "150                               Batman Forever\n",
       "1328                              Batman Returns\n",
       "15511                 Batman: Under the Red Hood\n",
       "585                                       Batman\n",
       "9230          Batman Beyond: Return of the Joker\n",
       "18035                           Batman: Year One\n",
       "19792    Batman: The Dark Knight Returns, Part 1\n",
       "3095                Batman: Mask of the Phantasm\n",
       "10122                              Batman Begins\n",
       "Name: title, dtype: object"
      ]
     },
     "execution_count": 10,
     "metadata": {},
     "output_type": "execute_result"
    }
   ],
   "source": [
    "get_recommendations('The Dark Knight Rises')"
   ]
  },
  {
   "cell_type": "markdown",
   "id": "a046155e-d268-41ed-acd3-73a1f75cbb5e",
   "metadata": {},
   "source": [
    "전부 배트맨 영화 찾아낸 것 확인"
   ]
  },
  {
   "cell_type": "markdown",
   "id": "bed0edde-1702-4edd-9958-b0ea35772d80",
   "metadata": {},
   "source": [
    "### 유클리디안 거리(Euclidean Distance)"
   ]
  },
  {
   "cell_type": "code",
   "execution_count": 11,
   "id": "301abc64-eec7-45cc-9279-edf293e48519",
   "metadata": {},
   "outputs": [
    {
     "name": "stdout",
     "output_type": "stream",
     "text": [
      "문서1과 문서Q의 거리 : 2.23606797749979\n",
      "문서2과 문서Q의 거리 : 3.1622776601683795\n",
      "문서3과 문서Q의 거리 : 2.449489742783178\n"
     ]
    }
   ],
   "source": [
    "import numpy as np\n",
    "\n",
    "def dist(x,y):   \n",
    "    return np.sqrt(np.sum((x-y)**2))\n",
    "\n",
    "# DTM\n",
    "doc1 = np.array((2,3,0,1))\n",
    "doc2 = np.array((1,2,3,1))\n",
    "doc3 = np.array((2,1,2,2))\n",
    "docQ = np.array((1,1,0,1))\n",
    "\n",
    "print('문서1과 문서Q의 거리 :',dist(doc1,docQ))\n",
    "print('문서2과 문서Q의 거리 :',dist(doc2,docQ))\n",
    "print('문서3과 문서Q의 거리 :',dist(doc3,docQ))"
   ]
  },
  {
   "cell_type": "markdown",
   "id": "0703f373-e2ce-4562-94ae-0ebeadf5eca6",
   "metadata": {},
   "source": [
    "### 자카드 유사도(Jaccard similarity)"
   ]
  },
  {
   "cell_type": "code",
   "execution_count": 12,
   "id": "bad81bc7-b765-4e16-ae84-6d2a39944e89",
   "metadata": {},
   "outputs": [
    {
     "name": "stdout",
     "output_type": "stream",
     "text": [
      "문서1 : ['apple', 'banana', 'everyone', 'like', 'likey', 'watch', 'card', 'holder']\n",
      "문서2 : ['apple', 'banana', 'coupon', 'passport', 'love', 'you']\n"
     ]
    }
   ],
   "source": [
    "doc1 = \"apple banana everyone like likey watch card holder\"\n",
    "doc2 = \"apple banana coupon passport love you\"\n",
    "\n",
    "# 토큰화\n",
    "tokenized_doc1 = doc1.split()\n",
    "tokenized_doc2 = doc2.split()\n",
    "\n",
    "print('문서1 :',tokenized_doc1)\n",
    "print('문서2 :',tokenized_doc2)"
   ]
  },
  {
   "cell_type": "code",
   "execution_count": 13,
   "id": "12f97daf-0ceb-4f97-9f08-07b7a187bb06",
   "metadata": {},
   "outputs": [
    {
     "name": "stdout",
     "output_type": "stream",
     "text": [
      "문서1과 문서2의 합집합 : {'coupon', 'love', 'like', 'likey', 'you', 'watch', 'passport', 'holder', 'apple', 'everyone', 'banana', 'card'}\n"
     ]
    }
   ],
   "source": [
    "union = set(tokenized_doc1).union(set(tokenized_doc2))\n",
    "print('문서1과 문서2의 합집합 :',union)"
   ]
  },
  {
   "cell_type": "code",
   "execution_count": 14,
   "id": "e99af8e8-d2df-4e2f-b5df-dff6a70831f4",
   "metadata": {},
   "outputs": [
    {
     "name": "stdout",
     "output_type": "stream",
     "text": [
      "문서1과 문서2의 교집합 : {'banana', 'apple'}\n"
     ]
    }
   ],
   "source": [
    "intersection = set(tokenized_doc1).intersection(set(tokenized_doc2))\n",
    "print('문서1과 문서2의 교집합 :',intersection)"
   ]
  },
  {
   "cell_type": "code",
   "execution_count": 15,
   "id": "b313b87a-2e64-48a3-a9a5-44419ce8e7f9",
   "metadata": {},
   "outputs": [
    {
     "name": "stdout",
     "output_type": "stream",
     "text": [
      "자카드 유사도 : 0.16666666666666666\n"
     ]
    }
   ],
   "source": [
    "print('자카드 유사도 :',len(intersection)/len(union))"
   ]
  },
  {
   "cell_type": "code",
   "execution_count": null,
   "id": "ed471304-34ad-4e55-b2c4-696421360e10",
   "metadata": {},
   "outputs": [],
   "source": []
  }
 ],
 "metadata": {
  "kernelspec": {
   "display_name": "Python 3",
   "language": "python",
   "name": "python3"
  },
  "language_info": {
   "codemirror_mode": {
    "name": "ipython",
    "version": 3
   },
   "file_extension": ".py",
   "mimetype": "text/x-python",
   "name": "python",
   "nbconvert_exporter": "python",
   "pygments_lexer": "ipython3",
   "version": "3.8.5"
  }
 },
 "nbformat": 4,
 "nbformat_minor": 5
}
