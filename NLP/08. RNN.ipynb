{
 "cells": [
  {
   "cell_type": "markdown",
   "id": "f24952d3-9c56-42b4-b456-25aa665f2b34",
   "metadata": {},
   "source": [
    "## RNN (Recurrent Neural Network)"
   ]
  },
  {
   "cell_type": "markdown",
   "id": "17275aa1-e6cb-4c92-9953-5f7820f233e6",
   "metadata": {},
   "source": [
    "### 케라스로 RNN 구현하기"
   ]
  },
  {
   "cell_type": "code",
   "execution_count": 3,
   "id": "61d8e7e8-bc0b-45af-ba7e-e39ee517a1a8",
   "metadata": {},
   "outputs": [
    {
     "name": "stdout",
     "output_type": "stream",
     "text": [
      "Model: \"sequential_1\"\n",
      "_________________________________________________________________\n",
      "Layer (type)                 Output Shape              Param #   \n",
      "=================================================================\n",
      "simple_rnn (SimpleRNN)       (None, 3)                 42        \n",
      "=================================================================\n",
      "Total params: 42\n",
      "Trainable params: 42\n",
      "Non-trainable params: 0\n",
      "_________________________________________________________________\n"
     ]
    }
   ],
   "source": [
    "from tensorflow.keras.models import Sequential\n",
    "from tensorflow.keras.layers import SimpleRNN\n",
    "\n",
    "model = Sequential()\n",
    "model.add(SimpleRNN(3, input_shape=(2, 10))) # 3은 hidden_units값\n",
    "# model.add(simpleRNN(3, input_length=2, input_dim=10))과 동일\n",
    "model.summary()"
   ]
  },
  {
   "cell_type": "code",
   "execution_count": 4,
   "id": "49a0c3ff-8448-42ca-8008-f7be95c5357e",
   "metadata": {},
   "outputs": [
    {
     "name": "stdout",
     "output_type": "stream",
     "text": [
      "Model: \"sequential_2\"\n",
      "_________________________________________________________________\n",
      "Layer (type)                 Output Shape              Param #   \n",
      "=================================================================\n",
      "simple_rnn_1 (SimpleRNN)     (8, 3)                    42        \n",
      "=================================================================\n",
      "Total params: 42\n",
      "Trainable params: 42\n",
      "Non-trainable params: 0\n",
      "_________________________________________________________________\n"
     ]
    }
   ],
   "source": [
    "# batch_size 미리 정의하는 경우\n",
    "model = Sequential()\n",
    "model.add(SimpleRNN(3, batch_input_shape=(8, 2, 10)))\n",
    "model.summary()"
   ]
  },
  {
   "cell_type": "code",
   "execution_count": 5,
   "id": "2b6e1763-10b3-496d-bd5d-80f96d60ce35",
   "metadata": {},
   "outputs": [
    {
     "name": "stdout",
     "output_type": "stream",
     "text": [
      "Model: \"sequential_3\"\n",
      "_________________________________________________________________\n",
      "Layer (type)                 Output Shape              Param #   \n",
      "=================================================================\n",
      "simple_rnn_2 (SimpleRNN)     (8, 2, 3)                 42        \n",
      "=================================================================\n",
      "Total params: 42\n",
      "Trainable params: 42\n",
      "Non-trainable params: 0\n",
      "_________________________________________________________________\n"
     ]
    }
   ],
   "source": [
    "# 출력값으로 3D 텐서 리턴하도록\n",
    "model = Sequential()\n",
    "model.add(SimpleRNN(3, batch_input_shape=(8, 2, 10), return_sequences=True))\n",
    "model.summary()"
   ]
  },
  {
   "cell_type": "markdown",
   "id": "d746f400-a4fe-4a21-8396-518032172060",
   "metadata": {},
   "source": [
    "### 파이썬으로 RNN 구현하기 (Numpy 사용)"
   ]
  },
  {
   "cell_type": "markdown",
   "id": "32c94a4e-756f-4488-bf8c-713436cf85f9",
   "metadata": {},
   "source": [
    "pseudo-code\n",
    "\n",
    "```python\n",
    "hidden_state_t = 0 # 초기 은닉 상태를 0(벡터)로 초기화  \n",
    "for input_t in input_length: # 각 시점마다 입력을 받음\n",
    "    output_t = tanh(input_t, hidden_state_t) # 각 시점에 대해서 입력과 은닉 상태 연산\n",
    "    hidden_state_t = output_t # 계산결과는 현재 시점의 은닉 상태\n",
    "```"
   ]
  },
  {
   "cell_type": "code",
   "execution_count": 6,
   "id": "4a9b3b78-3a35-47b6-ac9f-e99f90054bb0",
   "metadata": {},
   "outputs": [
    {
     "name": "stdout",
     "output_type": "stream",
     "text": [
      "초기 은닉 상태:  [0. 0. 0. 0. 0. 0. 0. 0.]\n"
     ]
    }
   ],
   "source": [
    "# 이해 돕기 위해 (timesteps, input_dim) 크기의 2D 텐서를 입력으로 받았다고 가정\n",
    "# 실제로는 3D를 입력으로 받음\n",
    "# timesteps는 시점의 수 => 자연어처리에서는 보통 문장의 길이\n",
    "# input_dim은 입력의 차원 => 자연어처리에서는 보통 단어 벡터의 차원\n",
    "# hidden_units는 은닉 상태의 크기 (=메모리 셀의 용량)\n",
    "\n",
    "import numpy as np\n",
    "\n",
    "timesteps = 10\n",
    "input_dim = 4\n",
    "hidden_units = 8\n",
    "\n",
    "# 입력에 해당되는 2D 텐서\n",
    "inputs = np.random.random((timesteps, input_dim))\n",
    "\n",
    "# 초기 은닉 상태는 0(벡터)로 초기화\n",
    "hidden_state_t = np.zeros((hidden_units, ))\n",
    "\n",
    "print('초기 은닉 상태: ', hidden_state_t)"
   ]
  },
  {
   "cell_type": "code",
   "execution_count": 7,
   "id": "4897ce9e-0bbe-49eb-8068-faa0054c928c",
   "metadata": {},
   "outputs": [
    {
     "name": "stdout",
     "output_type": "stream",
     "text": [
      "가중치 Wx의 크기(shape) : (8, 4)\n",
      "가중치 Wh의 크기(shape) : (8, 8)\n",
      "편향의 크기(shape) : (8,)\n"
     ]
    }
   ],
   "source": [
    "# 가중치와 편향을 각 크기에 맞게 정의하고 크기 출력\n",
    "\n",
    "Wx = np.random.random((hidden_units, input_dim))  # (8, 4)크기의 2D 텐서 생성. 입력에 대한 가중치.\n",
    "Wh = np.random.random((hidden_units, hidden_units)) # (8, 8)크기의 2D 텐서 생성. 은닉 상태에 대한 가중치.\n",
    "b = np.random.random((hidden_units,)) # (8,)크기의 1D 텐서 생성. 이 값은 편향(bias).\n",
    "\n",
    "print('가중치 Wx의 크기(shape) :',np.shape(Wx))\n",
    "print('가중치 Wh의 크기(shape) :',np.shape(Wh))\n",
    "print('편향의 크기(shape) :',np.shape(b))"
   ]
  },
  {
   "cell_type": "code",
   "execution_count": 9,
   "id": "a95821ed-821f-42d7-ab2a-46ac7a884a92",
   "metadata": {},
   "outputs": [
    {
     "name": "stdout",
     "output_type": "stream",
     "text": [
      "모든 시점의 상태:\n",
      "[[0.89933518 0.95275002 0.85107804 0.93873947 0.82386073 0.93612609\n",
      "  0.85496866 0.89581751]\n",
      " [0.99825284 0.99989275 0.99990517 0.99985642 0.99996417 0.99994149\n",
      "  0.99545758 0.99957458]\n",
      " [0.99955972 0.99998845 0.99997055 0.99994621 0.99998309 0.99998459\n",
      "  0.9984178  0.9997845 ]\n",
      " [0.99580976 0.99991897 0.99988002 0.99980694 0.99995696 0.99997991\n",
      "  0.98654558 0.99979932]\n",
      " [0.99899423 0.9999841  0.99995196 0.99991422 0.99997254 0.99998811\n",
      "  0.99667712 0.99984043]\n",
      " [0.99926603 0.99996339 0.99993963 0.99986444 0.99997835 0.99996775\n",
      "  0.99821201 0.99968858]\n",
      " [0.99912314 0.99995631 0.99991797 0.99979843 0.99997014 0.99995976\n",
      "  0.99805151 0.99961314]\n",
      " [0.99742902 0.9999164  0.99984724 0.99966871 0.99994394 0.99995744\n",
      "  0.99352955 0.99958131]\n",
      " [0.99708848 0.99989506 0.99986191 0.99974994 0.99994963 0.99994882\n",
      "  0.99028298 0.99946948]\n",
      " [0.99626306 0.9998527  0.99986064 0.99975461 0.9999621  0.99995986\n",
      "  0.98928343 0.99966986]]\n"
     ]
    }
   ],
   "source": [
    "# RNN층 동작\n",
    "total_hidden_states = []\n",
    "\n",
    "# 각 시점 별 입력값\n",
    "for input_t in inputs:\n",
    "    # Wx * Wh * Ht-1 + b\n",
    "    output_t = np.tanh(np.dot(Wx, input_t) + np.dot(Wh, hidden_state_t) + b)\n",
    "    \n",
    "    # 각 시점 t별 메모리 셀의 출력의 크기는(timestep t, output_dim)\n",
    "    # 각 시점의 은닉 상태의 값을 계속해서 누적\n",
    "    total_hidden_states.append(list(output_t))\n",
    "    hidden_state_t = output_t\n",
    "    \n",
    "# 출력시 값을 깔끔하게 해주는 용도\n",
    "total_hidden_states = np.stack(total_hidden_states, axis=0)\n",
    "\n",
    "# (timesteps, output_dim)\n",
    "print('모든 시점의 상태:')\n",
    "print(total_hidden_states)"
   ]
  },
  {
   "cell_type": "markdown",
   "id": "b048f585-4785-45a2-aa5c-6f1bf408906e",
   "metadata": {},
   "source": [
    "### 케라스의 SimpleRNN과 LSTM 이해하기"
   ]
  },
  {
   "cell_type": "code",
   "execution_count": 10,
   "id": "b93e33e4-7456-48c7-ac8a-cb715ae31284",
   "metadata": {},
   "outputs": [],
   "source": [
    "import numpy as np\n",
    "import tensorflow as tf\n",
    "from tensorflow.keras.layers import SimpleRNN, LSTM, Bidirectional"
   ]
  },
  {
   "cell_type": "code",
   "execution_count": 11,
   "id": "8af8deae-325c-42d1-8289-747211533721",
   "metadata": {},
   "outputs": [
    {
     "name": "stdout",
     "output_type": "stream",
     "text": [
      "(4, 5)\n"
     ]
    }
   ],
   "source": [
    "# 테스트 하기 위한 임의의 입력\n",
    "train_X = [[0.1, 4.2, 1.5, 1.1, 2.8], [1.0, 3.1, 2.5, 0.7, 1.1], [0.3, 2.1, 1.5, 2.1, 0.1], [2.2, 1.4, 0.5, 0.9, 1.1]]\n",
    "\n",
    "print(np.shape(train_X))"
   ]
  },
  {
   "cell_type": "markdown",
   "id": "02f80165-6179-408e-99e3-f7e1ff4c783e",
   "metadata": {},
   "source": [
    "=> 단어 벡터의 차원은 5이고 문장의 길이가 4인 경우를 가정한 입력\n",
    "- 4번의 시점(timestep)이 존재하고\n",
    "- 각 시점마다 5차원의 단어 벡터가 입력으로 사용된다는 뜻"
   ]
  },
  {
   "cell_type": "code",
   "execution_count": 12,
   "id": "e1666e82-3e2a-4c2e-9f5f-6787a2539da5",
   "metadata": {},
   "outputs": [
    {
     "name": "stdout",
     "output_type": "stream",
     "text": [
      "(1, 4, 5)\n"
     ]
    }
   ],
   "source": [
    "# 위에서 만든 2D 텐서를 3D 텐서로 변경 (RNN은 3D 텐서를 입력 받기 때문)\n",
    "# 배치 크기 1을 추가하는 걸로 해결\n",
    "train_X = [[[0.1, 4.2, 1.5, 1.1, 2.8], [1.0, 3.1, 2.5, 0.7, 1.1], [0.3, 2.1, 1.5, 2.1, 0.1], [2.2, 1.4, 0.5, 0.9, 1.1]]]\n",
    "train_X = np.array(train_X, dtype=np.float32)\n",
    "\n",
    "print(train_X.shape)"
   ]
  },
  {
   "cell_type": "markdown",
   "id": "d3fdd77c-212b-4276-9307-5fe89c0b1f8e",
   "metadata": {},
   "source": [
    "- (batch_size, timesteps, input_dim)=(1, 4, 5)\n",
    "- 샘플이 하나기 때문에 batch_size=1 (batch_size는 RNN이 한 번에 학습하는 데이터의 양)"
   ]
  },
  {
   "cell_type": "markdown",
   "id": "cbef8609-15ea-4523-b79a-5199aa16e42c",
   "metadata": {},
   "source": [
    "#### SimpleRNN\n",
    "- 대표적 인자 2개. 기본값으로 둘 다 False가 지정되어 있음\n",
    "    - return_sequences\n",
    "    - return_state"
   ]
  },
  {
   "cell_type": "code",
   "execution_count": 13,
   "id": "365433d3-495c-447c-833f-8f383eead44a",
   "metadata": {},
   "outputs": [
    {
     "name": "stdout",
     "output_type": "stream",
     "text": [
      "hidden state: [[-0.7134162  -0.84241366 -0.08909017]], shape: (1, 3)\n"
     ]
    }
   ],
   "source": [
    "rnn = SimpleRNN(3)\n",
    "# rnn = SimpleRNN(3, return_sequences=False, return_state=False)와 동일\n",
    "hidden_state = rnn(train_X)\n",
    "\n",
    "print('hidden state: {}, shape: {}'.format(hidden_state, hidden_state.shape))"
   ]
  },
  {
   "cell_type": "markdown",
   "id": "73666dcb-d733-46f4-b929-6762cfa825dc",
   "metadata": {},
   "source": [
    "- (1, 3) 크기의 텐서 출력: 마지막 시점의 은닉 상태임\n",
    "- return_sequences=False인 경우, SimpleRNN은 마지막 시점의 은닉 상태만 출력"
   ]
  },
  {
   "cell_type": "code",
   "execution_count": 14,
   "id": "653cd05a-67a0-4284-b4ac-0023579231e8",
   "metadata": {},
   "outputs": [
    {
     "name": "stdout",
     "output_type": "stream",
     "text": [
      "hidden states: [[[ 0.87623554 -0.9874189  -0.9059048 ]\n",
      "  [ 0.8843442  -0.9816589  -0.45952585]\n",
      "  [ 0.8660315  -0.28414243 -0.82551515]\n",
      "  [-0.45722505  0.19749255 -0.79400057]]], shape: (1, 4, 3)\n"
     ]
    }
   ],
   "source": [
    "rnn = SimpleRNN(3, return_sequences=True)\n",
    "hidden_states = rnn(train_X)\n",
    "\n",
    "print('hidden states: {}, shape: {}'.format(hidden_states, hidden_states.shape))"
   ]
  },
  {
   "cell_type": "markdown",
   "id": "185639bf-0d86-4693-81ad-294502146272",
   "metadata": {},
   "source": [
    "- (1, 4, 3) 크기의 텐서 출력: 모든 시점에 대해서 은닉 상태의 값 출력\n",
    "- return_state=True 인 경우 return_sequences의 T/F 여부와 상관없이 마지막 시점의 은닉 상태 출력"
   ]
  },
  {
   "cell_type": "code",
   "execution_count": 16,
   "id": "51c9c74b-1ab2-46d7-bc61-b498b837a59c",
   "metadata": {},
   "outputs": [
    {
     "name": "stdout",
     "output_type": "stream",
     "text": [
      "hidden states: [[[ 0.7411626  -0.6025246  -0.9818072 ]\n",
      "  [-0.97673255 -0.41425964 -0.98877066]\n",
      "  [-0.43245587  0.95574385 -0.99225044]\n",
      "  [-0.8585987   0.5020739  -0.427304  ]]], shape: (1, 4, 3)\n",
      "last hidden state: [[-0.8585987  0.5020739 -0.427304 ]], shape: (1, 3)\n"
     ]
    }
   ],
   "source": [
    "# return_state와 return_sequences가 둘 다 True인 경우\n",
    "rnn = SimpleRNN(3, return_sequences=True, return_state=True)\n",
    "hidden_states, last_state = rnn(train_X)\n",
    "\n",
    "print('hidden states: {}, shape: {}'.format(hidden_states, hidden_states.shape))\n",
    "print('last hidden state: {}, shape: {}'.format(last_state, last_state.shape))"
   ]
  },
  {
   "cell_type": "code",
   "execution_count": 18,
   "id": "c3dcf42a-9df9-4e07-bd5f-caf71eec3703",
   "metadata": {},
   "outputs": [
    {
     "name": "stdout",
     "output_type": "stream",
     "text": [
      "hidden states: [[ 0.5578697   0.30826277 -0.96488184]], shape: (1, 3)\n",
      "last hidden state: [[ 0.5578697   0.30826277 -0.96488184]], shape: (1, 3)\n"
     ]
    }
   ],
   "source": [
    "# return_sequences=False인데 return_state=True인 경우\n",
    "rnn = SimpleRNN(3, return_sequences=False, return_state=True)\n",
    "hidden_state, last_state = rnn(train_X)\n",
    "\n",
    "print('hidden states: {}, shape: {}'.format(hidden_state, hidden_state.shape))\n",
    "print('last hidden state: {}, shape: {}'.format(last_state, last_state.shape))"
   ]
  },
  {
   "cell_type": "markdown",
   "id": "26a8f9ed-cfb3-4a54-8611-edf0214feace",
   "metadata": {},
   "source": [
    "- 두 개 출력 모두 마지막 시점의 은닉 상태 출력"
   ]
  },
  {
   "cell_type": "markdown",
   "id": "11a4c0dc-5996-4361-a498-23740a2fe46b",
   "metadata": {},
   "source": [
    "#### LSTM"
   ]
  },
  {
   "cell_type": "code",
   "execution_count": 19,
   "id": "a89363dc-a0cf-4d79-bee6-94cd96ec8d80",
   "metadata": {},
   "outputs": [
    {
     "name": "stdout",
     "output_type": "stream",
     "text": [
      "hidden state: [[-0.1249945  -0.08741842  0.29403904]], shape: (1, 3)\n",
      "last hidden state: [[-0.1249945  -0.08741842  0.29403904]], shape: (1, 3)\n",
      "last cell state: [[-0.50208795 -0.18306726  0.5316305 ]], shape: (1, 3)\n"
     ]
    }
   ],
   "source": [
    "# return_sequences=False, return_state=True\n",
    "lstm = LSTM(3, return_sequences=False, return_state=True)\n",
    "hidden_state, last_state, last_cell_state = lstm(train_X)\n",
    "\n",
    "print('hidden state: {}, shape: {}'.format(hidden_state, hidden_state.shape))\n",
    "print('last hidden state: {}, shape: {}'.format(last_state, last_state.shape))\n",
    "print('last cell state: {}, shape: {}'.format(last_cell_state, last_cell_state.shape))"
   ]
  },
  {
   "cell_type": "markdown",
   "id": "695d062f-8eb3-4dc2-9fb7-356ad65246b2",
   "metadata": {},
   "source": [
    "- return_sequences=False이므로 hidden state는 마지막 시점의 은닉 상태 나타냄\n",
    "- LSTM은 SimpleRNN과 다르게 return_state=True로 두면 마지막 시점의 은닉 상태 뿐만 아니라 셀 상태까지 반환"
   ]
  },
  {
   "cell_type": "code",
   "execution_count": 20,
   "id": "03057e7c-4c2a-453a-827a-7cefa995bb00",
   "metadata": {},
   "outputs": [
    {
     "name": "stdout",
     "output_type": "stream",
     "text": [
      "hidden states: [[[ 0.07288893 -0.00704161  0.4921718 ]\n",
      "  [ 0.17538598  0.03683595  0.64845127]\n",
      "  [ 0.20550033  0.12461025  0.48303375]\n",
      "  [ 0.16927895 -0.05111826  0.72094786]]], shape: (1, 4, 3)\n",
      "last hidden state: [[ 0.16927895 -0.05111826  0.72094786]], shape: (1, 3)\n",
      "last cell state: [[ 0.32219917 -0.10674882  1.5304766 ]], shape: (1, 3)\n"
     ]
    }
   ],
   "source": [
    "# return_sequences=True, return_state=True\n",
    "lstm = LSTM(3, return_sequences=True, return_state=True)\n",
    "hidden_states, last_state, last_cell_state = lstm(train_X)\n",
    "\n",
    "print('hidden states: {}, shape: {}'.format(hidden_states, hidden_states.shape))\n",
    "print('last hidden state: {}, shape: {}'.format(last_state, last_state.shape))\n",
    "print('last cell state: {}, shape: {}'.format(last_cell_state, last_cell_state.shape))"
   ]
  },
  {
   "cell_type": "markdown",
   "id": "ce8883de-4f63-4abc-ad77-04b530b2afe1",
   "metadata": {},
   "source": [
    "- return_sequences=True이므로 hidden states에 모든 시점의 은닉 상태 나타남\n",
    "- last hidden state과 last cell state는 return_state=True이므로 위와 같음"
   ]
  },
  {
   "cell_type": "markdown",
   "id": "010c4a90-042f-4e26-a4f8-99e8600e50c7",
   "metadata": {},
   "source": [
    "#### Bidirectional LSTM"
   ]
  },
  {
   "cell_type": "code",
   "execution_count": 21,
   "id": "aa7e3af7-c599-4675-b844-02ea1b118c3e",
   "metadata": {},
   "outputs": [],
   "source": [
    "# return_sequences에 따라 은닉 상태 값이 어떻게 바뀌는지 직접 비교 위해 은닉상태의 값 고정\n",
    "k_init = tf.keras.initializers.Constant(value=0.1)\n",
    "b_init = tf.keras.initializers.Constant(value=0)\n",
    "r_init = tf.keras.initializers.Constant(value=0.1)"
   ]
  },
  {
   "cell_type": "code",
   "execution_count": 23,
   "id": "810de082-873f-4dd5-b63f-b2e62299c4bb",
   "metadata": {},
   "outputs": [
    {
     "name": "stdout",
     "output_type": "stream",
     "text": [
      "hidden states : [[0.63031393 0.63031393 0.63031393 0.7038734  0.7038734  0.7038734 ]], shape: (1, 6)\n",
      "forward state : [[0.63031393 0.63031393 0.63031393]], shape: (1, 3)\n",
      "backward state : [[0.7038734 0.7038734 0.7038734]], shape: (1, 3)\n"
     ]
    }
   ],
   "source": [
    "# return_sequences=False, return_state=True\n",
    "bilstm = Bidirectional(LSTM(3, return_sequences=False, return_state=True, \\\n",
    "                            kernel_initializer=k_init, bias_initializer=b_init, recurrent_initializer=r_init))\n",
    "\n",
    "hidden_states, forward_h, forward_c, backward_h, backward_c = bilstm(train_X)\n",
    "\n",
    "print('hidden states : {}, shape: {}'.format(hidden_states, hidden_states.shape))\n",
    "print('forward state : {}, shape: {}'.format(forward_h, forward_h.shape))\n",
    "print('backward state : {}, shape: {}'.format(backward_h, backward_h.shape))"
   ]
  },
  {
   "cell_type": "markdown",
   "id": "1991edc6-1ea7-49e9-b307-7e7065e317ab",
   "metadata": {},
   "source": [
    "- return_state=True인 경우 정방향 LSTM의 은닉상태와 셀상태, 역방향 LSTM의 은닉 상태와 셀상태 4가지 반환 (셀상태는 저장만 하고 출력하지 않음)\n",
    "- (1, 6): return_sequences=False인 경우 정방향 LSTM의 마지막 시점의 은닉 상태와 역방향 LSTM의 첫번째 은닉 상태가 연결된 채 반환되기 때문"
   ]
  },
  {
   "attachments": {
    "24841c0f-3b12-4daa-abd2-6c98ee328235.png": {
     "image/png": "[encoded data removed]"
    }
   },
   "cell_type": "markdown",
   "id": "a1c1546a-8b03-4fe8-a496-a29fc6d5b559",
   "metadata": {},
   "source": [
    "![image.png](attachment:24841c0f-3b12-4daa-abd2-6c98ee328235.png)"
   ]
  },
  {
   "cell_type": "code",
   "execution_count": 24,
   "id": "03aad87e-7bda-44f1-a495-c8abd493fad7",
   "metadata": {},
   "outputs": [
    {
     "name": "stdout",
     "output_type": "stream",
     "text": [
      "hidden states : [[[0.35906473 0.35906473 0.35906473 0.7038734  0.7038734  0.7038734 ]\n",
      "  [0.5511133  0.5511133  0.5511133  0.58863586 0.58863586 0.58863586]\n",
      "  [0.59115744 0.59115744 0.59115744 0.3951699  0.3951699  0.3951699 ]\n",
      "  [0.63031393 0.63031393 0.63031393 0.21942244 0.21942244 0.21942244]]], shape: (1, 4, 6)\n",
      "forward state : [[0.63031393 0.63031393 0.63031393]], shape: (1, 3)\n",
      "backward state : [[0.7038734 0.7038734 0.7038734]], shape: (1, 3)\n"
     ]
    }
   ],
   "source": [
    "# return_sequences=True인 경우\n",
    "bilstm = Bidirectional(LSTM(3, return_sequences=True, return_state=True, \\\n",
    "                            kernel_initializer=k_init, bias_initializer=b_init, recurrent_initializer=r_init))\n",
    "\n",
    "hidden_states, forward_h, forward_c, backward_h, backward_c = bilstm(train_X)\n",
    "\n",
    "print('hidden states : {}, shape: {}'.format(hidden_states, hidden_states.shape))\n",
    "print('forward state : {}, shape: {}'.format(forward_h, forward_h.shape))\n",
    "print('backward state : {}, shape: {}'.format(backward_h, backward_h.shape))"
   ]
  },
  {
   "attachments": {
    "22d388a3-dfb2-43c8-bb01-4fde7cb3715f.png": {
     "image/png": "[encoded data removed]"
    }
   },
   "cell_type": "markdown",
   "id": "f97bd54a-77b7-47b1-98c3-baff948c43ba",
   "metadata": {},
   "source": [
    "![image.png](attachment:22d388a3-dfb2-43c8-bb01-4fde7cb3715f.png)"
   ]
  },
  {
   "attachments": {
    "99f412fb-b388-4916-87b7-4f85de1fc6d8.png": {
     "image/png": "[encoded data removed]"
    }
   },
   "cell_type": "markdown",
   "id": "efc36118-2755-440e-8e45-8e38f6556fc2",
   "metadata": {},
   "source": [
    "### RNN을 이용한 텍스트 생성 (Text Generating using RNN)\n",
    "- '경마장에 있는 말이 뛰고 있다', '그의 말이 법이다', '가는 말이 고와야 오는 말이 곱다'\n",
    "![image.png](attachment:99f412fb-b388-4916-87b7-4f85de1fc6d8.png)"
   ]
  },
  {
   "cell_type": "markdown",
   "id": "745c634f-eae9-4e40-be68-6d12f775c390",
   "metadata": {},
   "source": [
    "#### 데이터에 대한 이해와 전처리"
   ]
  },
  {
   "cell_type": "code",
   "execution_count": 1,
   "id": "323f7d1a-9974-4206-83d8-673c8aea674a",
   "metadata": {},
   "outputs": [],
   "source": [
    "import numpy as np\n",
    "from tensorflow.keras.preprocessing.text import Tokenizer\n",
    "from tensorflow.keras.preprocessing.sequence import pad_sequences\n",
    "from tensorflow.keras.utils import to_categorical"
   ]
  },
  {
   "cell_type": "code",
   "execution_count": 2,
   "id": "b76465ae-6ffa-4298-ad80-63f77d40b724",
   "metadata": {},
   "outputs": [],
   "source": [
    "# 3개 예제 문장 저장\n",
    "text = \"\"\"경마장에 있는 말이 뛰고 있다\\n\n",
    "그의 말이 법이다\\n\n",
    "가는 말이 고와야 오는 말이 곱다\\n\"\"\""
   ]
  },
  {
   "cell_type": "code",
   "execution_count": 3,
   "id": "32d00510-ff6c-4a1f-93ec-0b1cffd607a1",
   "metadata": {},
   "outputs": [
    {
     "name": "stdout",
     "output_type": "stream",
     "text": [
      "단어 집합의 크기: 12\n"
     ]
    }
   ],
   "source": [
    "# 단어 집합 생성하고 크기 확인\n",
    "tokenizer = Tokenizer()\n",
    "tokenizer.fit_on_texts([text])\n",
    "vocab_size = len(tokenizer.word_index) + 1 # 케라스 토크나이저 정수 인코딩 1에서 시작하지만 패딩 위한 0 고려하여 +1 해줌\n",
    "print('단어 집합의 크기: %d' % vocab_size)"
   ]
  },
  {
   "cell_type": "code",
   "execution_count": 4,
   "id": "e333527f-d5a9-4680-a730-f8956a961eae",
   "metadata": {},
   "outputs": [
    {
     "name": "stdout",
     "output_type": "stream",
     "text": [
      "{'말이': 1, '경마장에': 2, '있는': 3, '뛰고': 4, '있다': 5, '그의': 6, '법이다': 7, '가는': 8, '고와야': 9, '오는': 10, '곱다': 11}\n"
     ]
    }
   ],
   "source": [
    "# 각 단어와 단어에 부여된 정수 인덱스 출력\n",
    "print(tokenizer.word_index)"
   ]
  },
  {
   "cell_type": "code",
   "execution_count": 10,
   "id": "e19e2224-8512-4aa7-b863-e73b58b43e98",
   "metadata": {},
   "outputs": [
    {
     "name": "stdout",
     "output_type": "stream",
     "text": [
      "학습에 사용될 샘플의 개수: 11\n"
     ]
    }
   ],
   "source": [
    "# 훈련 데이터 만들기\n",
    "sequences = list()\n",
    "for line in text.split('\\n'): # 줄바꿈 문자를 기준으로 문장 토큰화\n",
    "    encoded = tokenizer.texts_to_sequences([line])[0]\n",
    "    for i in range(1, len(encoded)):\n",
    "        sequence = encoded[:i+1]\n",
    "        sequences.append(sequence)\n",
    "        \n",
    "print('학습에 사용될 샘플의 개수: %d' % len(sequences))"
   ]
  },
  {
   "cell_type": "code",
   "execution_count": 11,
   "id": "8122446a-5c0a-4d14-abc0-bffafaa82c87",
   "metadata": {},
   "outputs": [
    {
     "name": "stdout",
     "output_type": "stream",
     "text": [
      "[[2, 3], [2, 3, 1], [2, 3, 1, 4], [2, 3, 1, 4, 5], [6, 1], [6, 1, 7], [8, 1], [8, 1, 9], [8, 1, 9, 10], [8, 1, 9, 10, 1], [8, 1, 9, 10, 1, 11]]\n"
     ]
    }
   ],
   "source": [
    "print(sequences) # 레이블로 사용될 단어를 분리하지 않은 훈련 데이터"
   ]
  },
  {
   "cell_type": "code",
   "execution_count": 12,
   "id": "a2af9700-1a48-4360-9ecc-fc544cad25dc",
   "metadata": {},
   "outputs": [
    {
     "name": "stdout",
     "output_type": "stream",
     "text": [
      "샘플의 최대 길이: 6\n"
     ]
    }
   ],
   "source": [
    "# 전체 샘플에 대해서 길이 일치시켜 주기\n",
    "max_len = max(len(l) for l in sequences) # 모든 샘플에서 길이가 가장 긴 샘플의 길이 출력\n",
    "print('샘플의 최대 길이: {}'.format(max_len))"
   ]
  },
  {
   "cell_type": "markdown",
   "id": "ff38b853-7b52-4ad3-805c-59a3c4dc5dce",
   "metadata": {},
   "source": [
    "- pad_sequences(): 모든 샘플에 대해서 0을 사용하여 길이를 맞춰줌\n",
    "    - maxlen의 길이로 맞춰주고\n",
    "    - padding의 인자로 'pre'주면 maxlen보다 짧은 샘플의 앞에 0으로 채움"
   ]
  },
  {
   "cell_type": "code",
   "execution_count": 14,
   "id": "89c26e25-3db2-4f77-83e2-50f0383bb5c7",
   "metadata": {},
   "outputs": [],
   "source": [
    "# 전체 샘플의 길이를 6으로 패딩\n",
    "sequences = pad_sequences(sequences, maxlen=max_len, padding='pre')"
   ]
  },
  {
   "cell_type": "code",
   "execution_count": 15,
   "id": "d6982a89-a5bc-4a24-af9c-2efe88708a0a",
   "metadata": {},
   "outputs": [
    {
     "name": "stdout",
     "output_type": "stream",
     "text": [
      "[[ 0  0  0  0  2  3]\n",
      " [ 0  0  0  2  3  1]\n",
      " [ 0  0  2  3  1  4]\n",
      " [ 0  2  3  1  4  5]\n",
      " [ 0  0  0  0  6  1]\n",
      " [ 0  0  0  6  1  7]\n",
      " [ 0  0  0  0  8  1]\n",
      " [ 0  0  0  8  1  9]\n",
      " [ 0  0  8  1  9 10]\n",
      " [ 0  8  1  9 10  1]\n",
      " [ 8  1  9 10  1 11]]\n"
     ]
    }
   ],
   "source": [
    "print(sequences)"
   ]
  },
  {
   "cell_type": "code",
   "execution_count": 16,
   "id": "83712d5f-a0b8-499f-8e8c-9b8afe01bed5",
   "metadata": {},
   "outputs": [],
   "source": [
    "# 마지막 단어 레이블로 분리\n",
    "sequences = np.array(sequences)\n",
    "X = sequences[:, :-1]\n",
    "y = sequences[:, -1]"
   ]
  },
  {
   "cell_type": "code",
   "execution_count": 17,
   "id": "6ca13bb6-bb95-4f01-a9e8-b507422188dd",
   "metadata": {},
   "outputs": [
    {
     "name": "stdout",
     "output_type": "stream",
     "text": [
      "[[ 0  0  0  0  2]\n",
      " [ 0  0  0  2  3]\n",
      " [ 0  0  2  3  1]\n",
      " [ 0  2  3  1  4]\n",
      " [ 0  0  0  0  6]\n",
      " [ 0  0  0  6  1]\n",
      " [ 0  0  0  0  8]\n",
      " [ 0  0  0  8  1]\n",
      " [ 0  0  8  1  9]\n",
      " [ 0  8  1  9 10]\n",
      " [ 8  1  9 10  1]]\n"
     ]
    }
   ],
   "source": [
    "print(X)"
   ]
  },
  {
   "cell_type": "code",
   "execution_count": 18,
   "id": "eb2102bd-a88e-4b13-a95b-716307a0c0c6",
   "metadata": {},
   "outputs": [
    {
     "name": "stdout",
     "output_type": "stream",
     "text": [
      "[ 3  1  4  5  1  7  1  9 10  1 11]\n"
     ]
    }
   ],
   "source": [
    "print(y)"
   ]
  },
  {
   "cell_type": "code",
   "execution_count": 19,
   "id": "9284830b-eb24-4e7a-a263-a5b8388abfac",
   "metadata": {},
   "outputs": [],
   "source": [
    "# 레이블에 대해 원-핫 인코딩 수행\n",
    "y = to_categorical(y, num_classes=vocab_size)"
   ]
  },
  {
   "cell_type": "code",
   "execution_count": 20,
   "id": "96e6df54-d86d-40a6-a250-3570bd7cb8b1",
   "metadata": {},
   "outputs": [
    {
     "name": "stdout",
     "output_type": "stream",
     "text": [
      "[[0. 0. 0. 1. 0. 0. 0. 0. 0. 0. 0. 0.]\n",
      " [0. 1. 0. 0. 0. 0. 0. 0. 0. 0. 0. 0.]\n",
      " [0. 0. 0. 0. 1. 0. 0. 0. 0. 0. 0. 0.]\n",
      " [0. 0. 0. 0. 0. 1. 0. 0. 0. 0. 0. 0.]\n",
      " [0. 1. 0. 0. 0. 0. 0. 0. 0. 0. 0. 0.]\n",
      " [0. 0. 0. 0. 0. 0. 0. 1. 0. 0. 0. 0.]\n",
      " [0. 1. 0. 0. 0. 0. 0. 0. 0. 0. 0. 0.]\n",
      " [0. 0. 0. 0. 0. 0. 0. 0. 0. 1. 0. 0.]\n",
      " [0. 0. 0. 0. 0. 0. 0. 0. 0. 0. 1. 0.]\n",
      " [0. 1. 0. 0. 0. 0. 0. 0. 0. 0. 0. 0.]\n",
      " [0. 0. 0. 0. 0. 0. 0. 0. 0. 0. 0. 1.]]\n"
     ]
    }
   ],
   "source": [
    "print(y)"
   ]
  },
  {
   "cell_type": "markdown",
   "id": "1469c2a8-fe50-4081-8917-d15dea85f630",
   "metadata": {},
   "source": [
    "#### 모델 설계하기"
   ]
  },
  {
   "cell_type": "code",
   "execution_count": 21,
   "id": "044cfaf7-69e9-47c8-aee6-80c1a43fcca9",
   "metadata": {},
   "outputs": [],
   "source": [
    "from tensorflow.keras.models import Sequential\n",
    "from tensorflow.keras.layers import Embedding, Dense, SimpleRNN"
   ]
  },
  {
   "cell_type": "markdown",
   "id": "961edeac-2385-4b75-8f7b-75a3a39efa01",
   "metadata": {},
   "source": [
    "- 임베딩 벡터의 차원은 10, 은닉상태의 크기는 32\n",
    "- 다 대 일 구조의 RNN 사용\n",
    "- Fully connected layer을 출력층으로 단어 집합 크기만큼 뉴런 배치하여 모델 설계\n",
    "- 마지막 시점에서 모든 가능한 단어 중 하나의 단어를 예측하는 다중 클래스 분류 문제 수행하는 모델임\n",
    "    - 활성화 함수로 소프트맥스\n",
    "    - 손실함수로 크로스 엔트로피 함수\n",
    "- 200 에포크"
   ]
  },
  {
   "cell_type": "code",
   "execution_count": 22,
   "id": "70a85a4a-5d10-4b54-a863-c1f2c2e08cd4",
   "metadata": {},
   "outputs": [
    {
     "name": "stdout",
     "output_type": "stream",
     "text": [
      "Epoch 1/200\n",
      "1/1 - 1s - loss: 2.5092 - accuracy: 0.0000e+00\n",
      "Epoch 2/200\n",
      "1/1 - 0s - loss: 2.4960 - accuracy: 0.0000e+00\n",
      "Epoch 3/200\n",
      "1/1 - 0s - loss: 2.4832 - accuracy: 0.0000e+00\n",
      "Epoch 4/200\n",
      "1/1 - 0s - loss: 2.4707 - accuracy: 0.1818\n",
      "Epoch 5/200\n",
      "1/1 - 0s - loss: 2.4583 - accuracy: 0.1818\n",
      "Epoch 6/200\n",
      "1/1 - 0s - loss: 2.4458 - accuracy: 0.2727\n",
      "Epoch 7/200\n",
      "1/1 - 0s - loss: 2.4331 - accuracy: 0.2727\n",
      "Epoch 8/200\n",
      "1/1 - 0s - loss: 2.4201 - accuracy: 0.3636\n",
      "Epoch 9/200\n",
      "1/1 - 0s - loss: 2.4067 - accuracy: 0.4545\n",
      "Epoch 10/200\n",
      "1/1 - 0s - loss: 2.3927 - accuracy: 0.4545\n",
      "Epoch 11/200\n",
      "1/1 - 0s - loss: 2.3780 - accuracy: 0.4545\n",
      "Epoch 12/200\n",
      "1/1 - 0s - loss: 2.3626 - accuracy: 0.4545\n",
      "Epoch 13/200\n",
      "1/1 - 0s - loss: 2.3463 - accuracy: 0.4545\n",
      "Epoch 14/200\n",
      "1/1 - 0s - loss: 2.3290 - accuracy: 0.4545\n",
      "Epoch 15/200\n",
      "1/1 - 0s - loss: 2.3108 - accuracy: 0.4545\n",
      "Epoch 16/200\n",
      "1/1 - 0s - loss: 2.2914 - accuracy: 0.4545\n",
      "Epoch 17/200\n",
      "1/1 - 0s - loss: 2.2710 - accuracy: 0.4545\n",
      "Epoch 18/200\n",
      "1/1 - 0s - loss: 2.2493 - accuracy: 0.4545\n",
      "Epoch 19/200\n",
      "1/1 - 0s - loss: 2.2264 - accuracy: 0.4545\n",
      "Epoch 20/200\n",
      "1/1 - 0s - loss: 2.2024 - accuracy: 0.4545\n",
      "Epoch 21/200\n",
      "1/1 - 0s - loss: 2.1772 - accuracy: 0.4545\n",
      "Epoch 22/200\n",
      "1/1 - 0s - loss: 2.1509 - accuracy: 0.4545\n",
      "Epoch 23/200\n",
      "1/1 - 0s - loss: 2.1237 - accuracy: 0.4545\n",
      "Epoch 24/200\n",
      "1/1 - 0s - loss: 2.0959 - accuracy: 0.3636\n",
      "Epoch 25/200\n",
      "1/1 - 0s - loss: 2.0676 - accuracy: 0.3636\n",
      "Epoch 26/200\n",
      "1/1 - 0s - loss: 2.0392 - accuracy: 0.3636\n",
      "Epoch 27/200\n",
      "1/1 - 0s - loss: 2.0112 - accuracy: 0.3636\n",
      "Epoch 28/200\n",
      "1/1 - 0s - loss: 1.9840 - accuracy: 0.3636\n",
      "Epoch 29/200\n",
      "1/1 - 0s - loss: 1.9582 - accuracy: 0.3636\n",
      "Epoch 30/200\n",
      "1/1 - 0s - loss: 1.9342 - accuracy: 0.3636\n",
      "Epoch 31/200\n",
      "1/1 - 0s - loss: 1.9125 - accuracy: 0.3636\n",
      "Epoch 32/200\n",
      "1/1 - 0s - loss: 1.8933 - accuracy: 0.3636\n",
      "Epoch 33/200\n",
      "1/1 - 0s - loss: 1.8765 - accuracy: 0.3636\n",
      "Epoch 34/200\n",
      "1/1 - 0s - loss: 1.8617 - accuracy: 0.3636\n",
      "Epoch 35/200\n",
      "1/1 - 0s - loss: 1.8485 - accuracy: 0.3636\n",
      "Epoch 36/200\n",
      "1/1 - 0s - loss: 1.8360 - accuracy: 0.3636\n",
      "Epoch 37/200\n",
      "1/1 - 0s - loss: 1.8234 - accuracy: 0.3636\n",
      "Epoch 38/200\n",
      "1/1 - 0s - loss: 1.8101 - accuracy: 0.3636\n",
      "Epoch 39/200\n",
      "1/1 - 0s - loss: 1.7958 - accuracy: 0.3636\n",
      "Epoch 40/200\n",
      "1/1 - 0s - loss: 1.7802 - accuracy: 0.3636\n",
      "Epoch 41/200\n",
      "1/1 - 0s - loss: 1.7633 - accuracy: 0.3636\n",
      "Epoch 42/200\n",
      "1/1 - 0s - loss: 1.7453 - accuracy: 0.3636\n",
      "Epoch 43/200\n",
      "1/1 - 0s - loss: 1.7265 - accuracy: 0.3636\n",
      "Epoch 44/200\n",
      "1/1 - 0s - loss: 1.7072 - accuracy: 0.3636\n",
      "Epoch 45/200\n",
      "1/1 - 0s - loss: 1.6875 - accuracy: 0.3636\n",
      "Epoch 46/200\n",
      "1/1 - 0s - loss: 1.6677 - accuracy: 0.3636\n",
      "Epoch 47/200\n",
      "1/1 - 0s - loss: 1.6480 - accuracy: 0.4545\n",
      "Epoch 48/200\n",
      "1/1 - 0s - loss: 1.6283 - accuracy: 0.4545\n",
      "Epoch 49/200\n",
      "1/1 - 0s - loss: 1.6086 - accuracy: 0.4545\n",
      "Epoch 50/200\n",
      "1/1 - 0s - loss: 1.5889 - accuracy: 0.4545\n",
      "Epoch 51/200\n",
      "1/1 - 0s - loss: 1.5690 - accuracy: 0.4545\n",
      "Epoch 52/200\n",
      "1/1 - 0s - loss: 1.5489 - accuracy: 0.4545\n",
      "Epoch 53/200\n",
      "1/1 - 0s - loss: 1.5285 - accuracy: 0.5455\n",
      "Epoch 54/200\n",
      "1/1 - 0s - loss: 1.5077 - accuracy: 0.5455\n",
      "Epoch 55/200\n",
      "1/1 - 0s - loss: 1.4864 - accuracy: 0.5455\n",
      "Epoch 56/200\n",
      "1/1 - 0s - loss: 1.4647 - accuracy: 0.5455\n",
      "Epoch 57/200\n",
      "1/1 - 0s - loss: 1.4426 - accuracy: 0.5455\n",
      "Epoch 58/200\n",
      "1/1 - 0s - loss: 1.4202 - accuracy: 0.5455\n",
      "Epoch 59/200\n",
      "1/1 - 0s - loss: 1.3975 - accuracy: 0.5455\n",
      "Epoch 60/200\n",
      "1/1 - 0s - loss: 1.3745 - accuracy: 0.5455\n",
      "Epoch 61/200\n",
      "1/1 - 0s - loss: 1.3515 - accuracy: 0.5455\n",
      "Epoch 62/200\n",
      "1/1 - 0s - loss: 1.3284 - accuracy: 0.5455\n",
      "Epoch 63/200\n",
      "1/1 - 0s - loss: 1.3054 - accuracy: 0.6364\n",
      "Epoch 64/200\n",
      "1/1 - 0s - loss: 1.2826 - accuracy: 0.6364\n",
      "Epoch 65/200\n",
      "1/1 - 0s - loss: 1.2600 - accuracy: 0.6364\n",
      "Epoch 66/200\n",
      "1/1 - 0s - loss: 1.2377 - accuracy: 0.6364\n",
      "Epoch 67/200\n",
      "1/1 - 0s - loss: 1.2156 - accuracy: 0.6364\n",
      "Epoch 68/200\n",
      "1/1 - 0s - loss: 1.1939 - accuracy: 0.6364\n",
      "Epoch 69/200\n",
      "1/1 - 0s - loss: 1.1725 - accuracy: 0.6364\n",
      "Epoch 70/200\n",
      "1/1 - 0s - loss: 1.1514 - accuracy: 0.6364\n",
      "Epoch 71/200\n",
      "1/1 - 0s - loss: 1.1306 - accuracy: 0.6364\n",
      "Epoch 72/200\n",
      "1/1 - 0s - loss: 1.1102 - accuracy: 0.6364\n",
      "Epoch 73/200\n",
      "1/1 - 0s - loss: 1.0900 - accuracy: 0.6364\n",
      "Epoch 74/200\n",
      "1/1 - 0s - loss: 1.0702 - accuracy: 0.6364\n",
      "Epoch 75/200\n",
      "1/1 - 0s - loss: 1.0506 - accuracy: 0.6364\n",
      "Epoch 76/200\n",
      "1/1 - 0s - loss: 1.0314 - accuracy: 0.6364\n",
      "Epoch 77/200\n",
      "1/1 - 0s - loss: 1.0125 - accuracy: 0.6364\n",
      "Epoch 78/200\n",
      "1/1 - 0s - loss: 0.9938 - accuracy: 0.6364\n",
      "Epoch 79/200\n",
      "1/1 - 0s - loss: 0.9755 - accuracy: 0.6364\n",
      "Epoch 80/200\n",
      "1/1 - 0s - loss: 0.9574 - accuracy: 0.6364\n",
      "Epoch 81/200\n",
      "1/1 - 0s - loss: 0.9396 - accuracy: 0.6364\n",
      "Epoch 82/200\n",
      "1/1 - 0s - loss: 0.9222 - accuracy: 0.6364\n",
      "Epoch 83/200\n",
      "1/1 - 0s - loss: 0.9050 - accuracy: 0.7273\n",
      "Epoch 84/200\n",
      "1/1 - 0s - loss: 0.8880 - accuracy: 0.7273\n",
      "Epoch 85/200\n",
      "1/1 - 0s - loss: 0.8713 - accuracy: 0.7273\n",
      "Epoch 86/200\n",
      "1/1 - 0s - loss: 0.8549 - accuracy: 0.7273\n",
      "Epoch 87/200\n",
      "1/1 - 0s - loss: 0.8387 - accuracy: 0.7273\n",
      "Epoch 88/200\n",
      "1/1 - 0s - loss: 0.8228 - accuracy: 0.7273\n",
      "Epoch 89/200\n",
      "1/1 - 0s - loss: 0.8071 - accuracy: 0.7273\n",
      "Epoch 90/200\n",
      "1/1 - 0s - loss: 0.7916 - accuracy: 0.9091\n",
      "Epoch 91/200\n",
      "1/1 - 0s - loss: 0.7764 - accuracy: 0.9091\n",
      "Epoch 92/200\n",
      "1/1 - 0s - loss: 0.7614 - accuracy: 0.9091\n",
      "Epoch 93/200\n",
      "1/1 - 0s - loss: 0.7466 - accuracy: 0.9091\n",
      "Epoch 94/200\n",
      "1/1 - 0s - loss: 0.7321 - accuracy: 0.9091\n",
      "Epoch 95/200\n",
      "1/1 - 0s - loss: 0.7178 - accuracy: 0.9091\n",
      "Epoch 96/200\n",
      "1/1 - 0s - loss: 0.7038 - accuracy: 0.9091\n",
      "Epoch 97/200\n",
      "1/1 - 0s - loss: 0.6900 - accuracy: 0.9091\n",
      "Epoch 98/200\n",
      "1/1 - 0s - loss: 0.6764 - accuracy: 0.9091\n",
      "Epoch 99/200\n",
      "1/1 - 0s - loss: 0.6631 - accuracy: 0.9091\n",
      "Epoch 100/200\n",
      "1/1 - 0s - loss: 0.6500 - accuracy: 0.9091\n",
      "Epoch 101/200\n",
      "1/1 - 0s - loss: 0.6371 - accuracy: 0.9091\n",
      "Epoch 102/200\n",
      "1/1 - 0s - loss: 0.6245 - accuracy: 0.9091\n",
      "Epoch 103/200\n",
      "1/1 - 0s - loss: 0.6121 - accuracy: 0.9091\n",
      "Epoch 104/200\n",
      "1/1 - 0s - loss: 0.6000 - accuracy: 0.9091\n",
      "Epoch 105/200\n",
      "1/1 - 0s - loss: 0.5880 - accuracy: 0.9091\n",
      "Epoch 106/200\n",
      "1/1 - 0s - loss: 0.5763 - accuracy: 0.9091\n",
      "Epoch 107/200\n",
      "1/1 - 0s - loss: 0.5648 - accuracy: 0.9091\n",
      "Epoch 108/200\n",
      "1/1 - 0s - loss: 0.5535 - accuracy: 0.9091\n",
      "Epoch 109/200\n",
      "1/1 - 0s - loss: 0.5425 - accuracy: 0.9091\n",
      "Epoch 110/200\n",
      "1/1 - 0s - loss: 0.5317 - accuracy: 0.9091\n",
      "Epoch 111/200\n",
      "1/1 - 0s - loss: 0.5211 - accuracy: 0.9091\n",
      "Epoch 112/200\n",
      "1/1 - 0s - loss: 0.5107 - accuracy: 0.9091\n",
      "Epoch 113/200\n",
      "1/1 - 0s - loss: 0.5005 - accuracy: 0.9091\n",
      "Epoch 114/200\n",
      "1/1 - 0s - loss: 0.4905 - accuracy: 0.9091\n",
      "Epoch 115/200\n",
      "1/1 - 0s - loss: 0.4807 - accuracy: 1.0000\n",
      "Epoch 116/200\n",
      "1/1 - 0s - loss: 0.4712 - accuracy: 1.0000\n",
      "Epoch 117/200\n",
      "1/1 - 0s - loss: 0.4618 - accuracy: 1.0000\n",
      "Epoch 118/200\n",
      "1/1 - 0s - loss: 0.4526 - accuracy: 1.0000\n",
      "Epoch 119/200\n",
      "1/1 - 0s - loss: 0.4436 - accuracy: 1.0000\n",
      "Epoch 120/200\n",
      "1/1 - 0s - loss: 0.4348 - accuracy: 1.0000\n",
      "Epoch 121/200\n",
      "1/1 - 0s - loss: 0.4262 - accuracy: 1.0000\n",
      "Epoch 122/200\n",
      "1/1 - 0s - loss: 0.4178 - accuracy: 1.0000\n",
      "Epoch 123/200\n",
      "1/1 - 0s - loss: 0.4095 - accuracy: 1.0000\n",
      "Epoch 124/200\n",
      "1/1 - 0s - loss: 0.4015 - accuracy: 1.0000\n",
      "Epoch 125/200\n",
      "1/1 - 0s - loss: 0.3935 - accuracy: 1.0000\n",
      "Epoch 126/200\n",
      "1/1 - 0s - loss: 0.3858 - accuracy: 1.0000\n",
      "Epoch 127/200\n",
      "1/1 - 0s - loss: 0.3782 - accuracy: 1.0000\n",
      "Epoch 128/200\n",
      "1/1 - 0s - loss: 0.3708 - accuracy: 1.0000\n",
      "Epoch 129/200\n",
      "1/1 - 0s - loss: 0.3636 - accuracy: 1.0000\n",
      "Epoch 130/200\n",
      "1/1 - 0s - loss: 0.3565 - accuracy: 1.0000\n",
      "Epoch 131/200\n",
      "1/1 - 0s - loss: 0.3495 - accuracy: 1.0000\n",
      "Epoch 132/200\n",
      "1/1 - 0s - loss: 0.3427 - accuracy: 1.0000\n",
      "Epoch 133/200\n",
      "1/1 - 0s - loss: 0.3360 - accuracy: 1.0000\n",
      "Epoch 134/200\n",
      "1/1 - 0s - loss: 0.3295 - accuracy: 1.0000\n",
      "Epoch 135/200\n",
      "1/1 - 0s - loss: 0.3231 - accuracy: 1.0000\n",
      "Epoch 136/200\n",
      "1/1 - 0s - loss: 0.3168 - accuracy: 1.0000\n",
      "Epoch 137/200\n",
      "1/1 - 0s - loss: 0.3107 - accuracy: 1.0000\n",
      "Epoch 138/200\n",
      "1/1 - 0s - loss: 0.3047 - accuracy: 1.0000\n",
      "Epoch 139/200\n",
      "1/1 - 0s - loss: 0.2988 - accuracy: 1.0000\n",
      "Epoch 140/200\n",
      "1/1 - 0s - loss: 0.2931 - accuracy: 1.0000\n",
      "Epoch 141/200\n",
      "1/1 - 0s - loss: 0.2874 - accuracy: 1.0000\n",
      "Epoch 142/200\n",
      "1/1 - 0s - loss: 0.2819 - accuracy: 1.0000\n",
      "Epoch 143/200\n",
      "1/1 - 0s - loss: 0.2764 - accuracy: 1.0000\n",
      "Epoch 144/200\n",
      "1/1 - 0s - loss: 0.2711 - accuracy: 1.0000\n",
      "Epoch 145/200\n",
      "1/1 - 0s - loss: 0.2659 - accuracy: 1.0000\n",
      "Epoch 146/200\n",
      "1/1 - 0s - loss: 0.2608 - accuracy: 1.0000\n",
      "Epoch 147/200\n",
      "1/1 - 0s - loss: 0.2558 - accuracy: 1.0000\n",
      "Epoch 148/200\n",
      "1/1 - 0s - loss: 0.2509 - accuracy: 1.0000\n",
      "Epoch 149/200\n",
      "1/1 - 0s - loss: 0.2461 - accuracy: 1.0000\n",
      "Epoch 150/200\n",
      "1/1 - 0s - loss: 0.2413 - accuracy: 1.0000\n",
      "Epoch 151/200\n",
      "1/1 - 0s - loss: 0.2367 - accuracy: 1.0000\n",
      "Epoch 152/200\n",
      "1/1 - 0s - loss: 0.2321 - accuracy: 1.0000\n",
      "Epoch 153/200\n",
      "1/1 - 0s - loss: 0.2277 - accuracy: 1.0000\n",
      "Epoch 154/200\n",
      "1/1 - 0s - loss: 0.2233 - accuracy: 1.0000\n",
      "Epoch 155/200\n",
      "1/1 - 0s - loss: 0.2190 - accuracy: 1.0000\n",
      "Epoch 156/200\n",
      "1/1 - 0s - loss: 0.2147 - accuracy: 1.0000\n",
      "Epoch 157/200\n",
      "1/1 - 0s - loss: 0.2106 - accuracy: 1.0000\n",
      "Epoch 158/200\n",
      "1/1 - 0s - loss: 0.2065 - accuracy: 1.0000\n",
      "Epoch 159/200\n",
      "1/1 - 0s - loss: 0.2025 - accuracy: 1.0000\n",
      "Epoch 160/200\n",
      "1/1 - 0s - loss: 0.1986 - accuracy: 1.0000\n",
      "Epoch 161/200\n",
      "1/1 - 0s - loss: 0.1948 - accuracy: 1.0000\n",
      "Epoch 162/200\n",
      "1/1 - 0s - loss: 0.1910 - accuracy: 1.0000\n",
      "Epoch 163/200\n",
      "1/1 - 0s - loss: 0.1873 - accuracy: 1.0000\n",
      "Epoch 164/200\n",
      "1/1 - 0s - loss: 0.1837 - accuracy: 1.0000\n",
      "Epoch 165/200\n",
      "1/1 - 0s - loss: 0.1801 - accuracy: 1.0000\n",
      "Epoch 166/200\n",
      "1/1 - 0s - loss: 0.1766 - accuracy: 1.0000\n",
      "Epoch 167/200\n",
      "1/1 - 0s - loss: 0.1731 - accuracy: 1.0000\n",
      "Epoch 168/200\n",
      "1/1 - 0s - loss: 0.1698 - accuracy: 1.0000\n",
      "Epoch 169/200\n",
      "1/1 - 0s - loss: 0.1664 - accuracy: 1.0000\n",
      "Epoch 170/200\n",
      "1/1 - 0s - loss: 0.1632 - accuracy: 1.0000\n",
      "Epoch 171/200\n",
      "1/1 - 0s - loss: 0.1600 - accuracy: 1.0000\n",
      "Epoch 172/200\n",
      "1/1 - 0s - loss: 0.1569 - accuracy: 1.0000\n",
      "Epoch 173/200\n",
      "1/1 - 0s - loss: 0.1538 - accuracy: 1.0000\n",
      "Epoch 174/200\n",
      "1/1 - 0s - loss: 0.1508 - accuracy: 1.0000\n",
      "Epoch 175/200\n",
      "1/1 - 0s - loss: 0.1479 - accuracy: 1.0000\n",
      "Epoch 176/200\n",
      "1/1 - 0s - loss: 0.1450 - accuracy: 1.0000\n",
      "Epoch 177/200\n",
      "1/1 - 0s - loss: 0.1421 - accuracy: 1.0000\n",
      "Epoch 178/200\n",
      "1/1 - 0s - loss: 0.1394 - accuracy: 1.0000\n",
      "Epoch 179/200\n",
      "1/1 - 0s - loss: 0.1366 - accuracy: 1.0000\n",
      "Epoch 180/200\n",
      "1/1 - 0s - loss: 0.1340 - accuracy: 1.0000\n",
      "Epoch 181/200\n",
      "1/1 - 0s - loss: 0.1314 - accuracy: 1.0000\n",
      "Epoch 182/200\n",
      "1/1 - 0s - loss: 0.1288 - accuracy: 1.0000\n",
      "Epoch 183/200\n",
      "1/1 - 0s - loss: 0.1263 - accuracy: 1.0000\n",
      "Epoch 184/200\n",
      "1/1 - 0s - loss: 0.1239 - accuracy: 1.0000\n",
      "Epoch 185/200\n",
      "1/1 - 0s - loss: 0.1215 - accuracy: 1.0000\n",
      "Epoch 186/200\n",
      "1/1 - 0s - loss: 0.1191 - accuracy: 1.0000\n",
      "Epoch 187/200\n",
      "1/1 - 0s - loss: 0.1169 - accuracy: 1.0000\n",
      "Epoch 188/200\n",
      "1/1 - 0s - loss: 0.1146 - accuracy: 1.0000\n",
      "Epoch 189/200\n",
      "1/1 - 0s - loss: 0.1124 - accuracy: 1.0000\n",
      "Epoch 190/200\n",
      "1/1 - 0s - loss: 0.1103 - accuracy: 1.0000\n",
      "Epoch 191/200\n",
      "1/1 - 0s - loss: 0.1082 - accuracy: 1.0000\n",
      "Epoch 192/200\n",
      "1/1 - 0s - loss: 0.1062 - accuracy: 1.0000\n",
      "Epoch 193/200\n",
      "1/1 - 0s - loss: 0.1042 - accuracy: 1.0000\n",
      "Epoch 194/200\n",
      "1/1 - 0s - loss: 0.1022 - accuracy: 1.0000\n",
      "Epoch 195/200\n",
      "1/1 - 0s - loss: 0.1003 - accuracy: 1.0000\n",
      "Epoch 196/200\n",
      "1/1 - 0s - loss: 0.0985 - accuracy: 1.0000\n",
      "Epoch 197/200\n",
      "1/1 - 0s - loss: 0.0967 - accuracy: 1.0000\n",
      "Epoch 198/200\n",
      "1/1 - 0s - loss: 0.0949 - accuracy: 1.0000\n",
      "Epoch 199/200\n",
      "1/1 - 0s - loss: 0.0932 - accuracy: 1.0000\n",
      "Epoch 200/200\n",
      "1/1 - 0s - loss: 0.0915 - accuracy: 1.0000\n"
     ]
    },
    {
     "data": {
      "text/plain": [
       "<tensorflow.python.keras.callbacks.History at 0x7fb838693070>"
      ]
     },
     "execution_count": 22,
     "metadata": {},
     "output_type": "execute_result"
    }
   ],
   "source": [
    "embedding_dim = 10\n",
    "hidden_units = 32\n",
    "\n",
    "model = Sequential()\n",
    "model.add(Embedding(vocab_size, embedding_dim))\n",
    "model.add(SimpleRNN(hidden_units))\n",
    "model.add(Dense(vocab_size, activation='softmax'))\n",
    "model.compile(loss='categorical_crossentropy', optimizer='adam', metrics=['accuracy'])\n",
    "model.fit(X, y, epochs=200, verbose=2)"
   ]
  },
  {
   "cell_type": "code",
   "execution_count": 23,
   "id": "7227067e-05a9-4c24-8135-401aa458a155",
   "metadata": {},
   "outputs": [],
   "source": [
    "# 모델이 정확하게 예측하고 있는지 문장 생성하는 함수\n",
    "def sentence_generation(model, tokenizer, current_word, n):\n",
    "    # 인자로 (모델, 토크나이저, 현재 단어, 반복할 횟수)\n",
    "    init_word = current_word\n",
    "    sentence = ''\n",
    "    \n",
    "    # n번 반복\n",
    "    for _ in range(n):\n",
    "        # 현재 단어에 대한 정수 인코딩과 패딩\n",
    "        encoded = tokenizer.texts_to_sequences([current_word])[0]\n",
    "        encoded = pad_sequences([encoded], maxlen=5, padding='pre')\n",
    "        \n",
    "        # 입력한 X(현재 단어)에 대해서 Y를 예측하고 Y(예측한 단어)를 result에 저장\n",
    "        result = model.predict(encoded, verbose=0)\n",
    "        result = np.argmax(result, axis=1)\n",
    "        \n",
    "        for word, index in tokenizer.word_index.items():\n",
    "            # 만약 예측한 단어와 인덱스와 동일한 단어가 있다면 break\n",
    "            if index == result:\n",
    "                break\n",
    "        \n",
    "        # 현재 단어 + ' ' + 예측 단어를 현재 단어로 변경\n",
    "        current_word = current_word + ' ' + word\n",
    "        \n",
    "        # 예측 단어를 문장에 저장\n",
    "        sentence = sentence + ' ' + word\n",
    "        \n",
    "    sentence = init_word + sentence\n",
    "    return sentence"
   ]
  },
  {
   "cell_type": "code",
   "execution_count": 24,
   "id": "ad2682f8-6282-487c-aa2b-b64fef9ee6f3",
   "metadata": {},
   "outputs": [
    {
     "name": "stdout",
     "output_type": "stream",
     "text": [
      "경마장에 있는 말이 뛰고 있다\n"
     ]
    }
   ],
   "source": [
    "print(sentence_generation(model, tokenizer, '경마장에', 4))"
   ]
  },
  {
   "cell_type": "code",
   "execution_count": 25,
   "id": "ec51333c-dddd-491d-8d0d-081725484b66",
   "metadata": {},
   "outputs": [
    {
     "name": "stdout",
     "output_type": "stream",
     "text": [
      "그의 말이 법이다\n"
     ]
    }
   ],
   "source": [
    "print(sentence_generation(model, tokenizer, '그의', 2))"
   ]
  },
  {
   "cell_type": "code",
   "execution_count": 26,
   "id": "1c71f371-7b92-49a8-9732-e4990023ea76",
   "metadata": {},
   "outputs": [
    {
     "name": "stdout",
     "output_type": "stream",
     "text": [
      "가는 말이 고와야 오는 말이 곱다\n"
     ]
    }
   ],
   "source": [
    "print(sentence_generation(model, tokenizer, '가는', 5))"
   ]
  },
  {
   "cell_type": "markdown",
   "id": "2faeaa2a-9a9c-4eb1-b288-b435c366b174",
   "metadata": {},
   "source": [
    "### LSTM을 이용하여 텍스트 생성\n",
    "- 보다 많은 데이터 사용"
   ]
  },
  {
   "cell_type": "markdown",
   "id": "31c102bd-8c9f-4df7-99bb-d24c750590c0",
   "metadata": {},
   "source": [
    "#### 데이터에 대한 이해와 전처리\n",
    "- 뉴욕타임즈 기사 제목 데이터 사용"
   ]
  },
  {
   "cell_type": "code",
   "execution_count": 27,
   "id": "b326fa46-c1ee-4ffc-84b8-1c91a87b4873",
   "metadata": {},
   "outputs": [],
   "source": [
    "import pandas as pd\n",
    "import numpy as np\n",
    "from string import punctuation\n",
    "\n",
    "from tensorflow.keras.preprocessing.text import Tokenizer\n",
    "from tensorflow.keras.preprocessing.sequence import pad_sequences\n",
    "from tensorflow.keras.utils import to_categorical"
   ]
  },
  {
   "cell_type": "code",
   "execution_count": 28,
   "id": "4e7b86a9-546e-4140-b74f-b728f6c8344c",
   "metadata": {},
   "outputs": [
    {
     "data": {
      "text/html": [
       "<div>\n",
       "<style scoped>\n",
       "    .dataframe tbody tr th:only-of-type {\n",
       "        vertical-align: middle;\n",
       "    }\n",
       "\n",
       "    .dataframe tbody tr th {\n",
       "        vertical-align: top;\n",
       "    }\n",
       "\n",
       "    .dataframe thead th {\n",
       "        text-align: right;\n",
       "    }\n",
       "</style>\n",
       "<table border=\"1\" class=\"dataframe\">\n",
       "  <thead>\n",
       "    <tr style=\"text-align: right;\">\n",
       "      <th></th>\n",
       "      <th>articleID</th>\n",
       "      <th>articleWordCount</th>\n",
       "      <th>byline</th>\n",
       "      <th>documentType</th>\n",
       "      <th>headline</th>\n",
       "      <th>keywords</th>\n",
       "      <th>multimedia</th>\n",
       "      <th>newDesk</th>\n",
       "      <th>printPage</th>\n",
       "      <th>pubDate</th>\n",
       "      <th>sectionName</th>\n",
       "      <th>snippet</th>\n",
       "      <th>source</th>\n",
       "      <th>typeOfMaterial</th>\n",
       "      <th>webURL</th>\n",
       "    </tr>\n",
       "  </thead>\n",
       "  <tbody>\n",
       "    <tr>\n",
       "      <th>0</th>\n",
       "      <td>5adf6684068401528a2aa69b</td>\n",
       "      <td>781</td>\n",
       "      <td>By JOHN BRANCH</td>\n",
       "      <td>article</td>\n",
       "      <td>Former N.F.L. Cheerleaders’ Settlement Offer: ...</td>\n",
       "      <td>['Workplace Hazards and Violations', 'Football...</td>\n",
       "      <td>68</td>\n",
       "      <td>Sports</td>\n",
       "      <td>0</td>\n",
       "      <td>2018-04-24 17:16:49</td>\n",
       "      <td>Pro Football</td>\n",
       "      <td>“I understand that they could meet with us, pa...</td>\n",
       "      <td>The New York Times</td>\n",
       "      <td>News</td>\n",
       "      <td>https://www.nytimes.com/2018/04/24/sports/foot...</td>\n",
       "    </tr>\n",
       "    <tr>\n",
       "      <th>1</th>\n",
       "      <td>5adf653f068401528a2aa697</td>\n",
       "      <td>656</td>\n",
       "      <td>By LISA FRIEDMAN</td>\n",
       "      <td>article</td>\n",
       "      <td>E.P.A. to Unveil a New Rule. Its Effect: Less ...</td>\n",
       "      <td>['Environmental Protection Agency', 'Pruitt, S...</td>\n",
       "      <td>68</td>\n",
       "      <td>Climate</td>\n",
       "      <td>0</td>\n",
       "      <td>2018-04-24 17:11:21</td>\n",
       "      <td>Unknown</td>\n",
       "      <td>The agency plans to publish a new regulation T...</td>\n",
       "      <td>The New York Times</td>\n",
       "      <td>News</td>\n",
       "      <td>https://www.nytimes.com/2018/04/24/climate/epa...</td>\n",
       "    </tr>\n",
       "    <tr>\n",
       "      <th>2</th>\n",
       "      <td>5adf4626068401528a2aa628</td>\n",
       "      <td>2427</td>\n",
       "      <td>By PETE WELLS</td>\n",
       "      <td>article</td>\n",
       "      <td>The New Noma, Explained</td>\n",
       "      <td>['Restaurants', 'Noma (Copenhagen, Restaurant)...</td>\n",
       "      <td>66</td>\n",
       "      <td>Dining</td>\n",
       "      <td>0</td>\n",
       "      <td>2018-04-24 14:58:44</td>\n",
       "      <td>Unknown</td>\n",
       "      <td>What’s it like to eat at the second incarnatio...</td>\n",
       "      <td>The New York Times</td>\n",
       "      <td>News</td>\n",
       "      <td>https://www.nytimes.com/2018/04/24/dining/noma...</td>\n",
       "    </tr>\n",
       "    <tr>\n",
       "      <th>3</th>\n",
       "      <td>5adf40d2068401528a2aa619</td>\n",
       "      <td>626</td>\n",
       "      <td>By JULIE HIRSCHFELD DAVIS and PETER BAKER</td>\n",
       "      <td>article</td>\n",
       "      <td>Unknown</td>\n",
       "      <td>['Macron, Emmanuel (1977- )', 'Trump, Donald J...</td>\n",
       "      <td>68</td>\n",
       "      <td>Washington</td>\n",
       "      <td>0</td>\n",
       "      <td>2018-04-24 14:35:57</td>\n",
       "      <td>Europe</td>\n",
       "      <td>President Trump welcomed President Emmanuel Ma...</td>\n",
       "      <td>The New York Times</td>\n",
       "      <td>News</td>\n",
       "      <td>https://www.nytimes.com/2018/04/24/world/europ...</td>\n",
       "    </tr>\n",
       "    <tr>\n",
       "      <th>4</th>\n",
       "      <td>5adf3d64068401528a2aa60f</td>\n",
       "      <td>815</td>\n",
       "      <td>By IAN AUSTEN and DAN BILEFSKY</td>\n",
       "      <td>article</td>\n",
       "      <td>Unknown</td>\n",
       "      <td>['Toronto, Ontario, Attack (April, 2018)', 'Mu...</td>\n",
       "      <td>68</td>\n",
       "      <td>Foreign</td>\n",
       "      <td>0</td>\n",
       "      <td>2018-04-24 14:21:21</td>\n",
       "      <td>Canada</td>\n",
       "      <td>Alek Minassian, 25, a resident of Toronto’s Ri...</td>\n",
       "      <td>The New York Times</td>\n",
       "      <td>News</td>\n",
       "      <td>https://www.nytimes.com/2018/04/24/world/canad...</td>\n",
       "    </tr>\n",
       "  </tbody>\n",
       "</table>\n",
       "</div>"
      ],
      "text/plain": [
       "                  articleID  articleWordCount  \\\n",
       "0  5adf6684068401528a2aa69b               781   \n",
       "1  5adf653f068401528a2aa697               656   \n",
       "2  5adf4626068401528a2aa628              2427   \n",
       "3  5adf40d2068401528a2aa619               626   \n",
       "4  5adf3d64068401528a2aa60f               815   \n",
       "\n",
       "                                      byline documentType  \\\n",
       "0                             By JOHN BRANCH      article   \n",
       "1                           By LISA FRIEDMAN      article   \n",
       "2                              By PETE WELLS      article   \n",
       "3  By JULIE HIRSCHFELD DAVIS and PETER BAKER      article   \n",
       "4             By IAN AUSTEN and DAN BILEFSKY      article   \n",
       "\n",
       "                                            headline  \\\n",
       "0  Former N.F.L. Cheerleaders’ Settlement Offer: ...   \n",
       "1  E.P.A. to Unveil a New Rule. Its Effect: Less ...   \n",
       "2                            The New Noma, Explained   \n",
       "3                                            Unknown   \n",
       "4                                            Unknown   \n",
       "\n",
       "                                            keywords  multimedia     newDesk  \\\n",
       "0  ['Workplace Hazards and Violations', 'Football...          68      Sports   \n",
       "1  ['Environmental Protection Agency', 'Pruitt, S...          68     Climate   \n",
       "2  ['Restaurants', 'Noma (Copenhagen, Restaurant)...          66      Dining   \n",
       "3  ['Macron, Emmanuel (1977- )', 'Trump, Donald J...          68  Washington   \n",
       "4  ['Toronto, Ontario, Attack (April, 2018)', 'Mu...          68     Foreign   \n",
       "\n",
       "   printPage              pubDate   sectionName  \\\n",
       "0          0  2018-04-24 17:16:49  Pro Football   \n",
       "1          0  2018-04-24 17:11:21       Unknown   \n",
       "2          0  2018-04-24 14:58:44       Unknown   \n",
       "3          0  2018-04-24 14:35:57        Europe   \n",
       "4          0  2018-04-24 14:21:21        Canada   \n",
       "\n",
       "                                             snippet              source  \\\n",
       "0  “I understand that they could meet with us, pa...  The New York Times   \n",
       "1  The agency plans to publish a new regulation T...  The New York Times   \n",
       "2  What’s it like to eat at the second incarnatio...  The New York Times   \n",
       "3  President Trump welcomed President Emmanuel Ma...  The New York Times   \n",
       "4  Alek Minassian, 25, a resident of Toronto’s Ri...  The New York Times   \n",
       "\n",
       "  typeOfMaterial                                             webURL  \n",
       "0           News  https://www.nytimes.com/2018/04/24/sports/foot...  \n",
       "1           News  https://www.nytimes.com/2018/04/24/climate/epa...  \n",
       "2           News  https://www.nytimes.com/2018/04/24/dining/noma...  \n",
       "3           News  https://www.nytimes.com/2018/04/24/world/europ...  \n",
       "4           News  https://www.nytimes.com/2018/04/24/world/canad...  "
      ]
     },
     "execution_count": 28,
     "metadata": {},
     "output_type": "execute_result"
    }
   ],
   "source": [
    "df = pd.read_csv('ArticlesApril2018.csv')\n",
    "df.head()"
   ]
  },
  {
   "cell_type": "code",
   "execution_count": 29,
   "id": "bb04b7f4-cc66-406a-b3d2-1b2a69fa1489",
   "metadata": {},
   "outputs": [
    {
     "name": "stdout",
     "output_type": "stream",
     "text": [
      "15\n",
      "Index(['articleID', 'articleWordCount', 'byline', 'documentType', 'headline',\n",
      "       'keywords', 'multimedia', 'newDesk', 'printPage', 'pubDate',\n",
      "       'sectionName', 'snippet', 'source', 'typeOfMaterial', 'webURL'],\n",
      "      dtype='object')\n"
     ]
    }
   ],
   "source": [
    "print(len(df.columns))\n",
    "print(df.columns)"
   ]
  },
  {
   "cell_type": "code",
   "execution_count": 32,
   "id": "86b4343e-606f-4df2-bdab-b963bb2765cc",
   "metadata": {},
   "outputs": [
    {
     "name": "stdout",
     "output_type": "stream",
     "text": [
      "False\n"
     ]
    }
   ],
   "source": [
    "# headline 열 사용할 것임. null값 확인\n",
    "print(df['headline'].isnull().values.any())"
   ]
  },
  {
   "cell_type": "code",
   "execution_count": 33,
   "id": "1bdeec28-c86f-4c17-88ae-a720ae23113c",
   "metadata": {},
   "outputs": [
    {
     "data": {
      "text/plain": [
       "['Former N.F.L. Cheerleaders’ Settlement Offer: $1 and a Meeting With Goodell',\n",
       " 'E.P.A. to Unveil a New Rule. Its Effect: Less Science in Policymaking.',\n",
       " 'The New Noma, Explained',\n",
       " 'Unknown',\n",
       " 'Unknown']"
      ]
     },
     "execution_count": 33,
     "metadata": {},
     "output_type": "execute_result"
    }
   ],
   "source": [
    "# 모든 신문 기사 제목 뽑아서 리스트에 저장\n",
    "headline = []\n",
    "headline.extend(list(df.headline.values))\n",
    "headline[:5]"
   ]
  },
  {
   "cell_type": "code",
   "execution_count": 34,
   "id": "eef165bd-7d6a-49a2-ae34-2503d0a0886e",
   "metadata": {},
   "outputs": [
    {
     "name": "stdout",
     "output_type": "stream",
     "text": [
      "총 샘플의 개수: 1324\n"
     ]
    }
   ],
   "source": [
    "print('총 샘플의 개수: {}'.format(len(headline)))"
   ]
  },
  {
   "cell_type": "code",
   "execution_count": 35,
   "id": "0b0283ba-6b37-4c24-894e-c675d978b10d",
   "metadata": {},
   "outputs": [
    {
     "name": "stdout",
     "output_type": "stream",
     "text": [
      "노이즈값 제거 후 샘플 개수: 1214\n"
     ]
    }
   ],
   "source": [
    "# unknown값 가진 샘플 제거\n",
    "headline = [word for word in headline if word != 'Unknown']\n",
    "print('노이즈값 제거 후 샘플 개수: {}'.format(len(headline)))"
   ]
  },
  {
   "cell_type": "code",
   "execution_count": 36,
   "id": "6d1c712d-c0ba-4988-bb8b-97068017f3ce",
   "metadata": {},
   "outputs": [
    {
     "data": {
      "text/plain": [
       "['Former N.F.L. Cheerleaders’ Settlement Offer: $1 and a Meeting With Goodell',\n",
       " 'E.P.A. to Unveil a New Rule. Its Effect: Less Science in Policymaking.',\n",
       " 'The New Noma, Explained',\n",
       " 'How a Bag of Texas Dirt  Became a Times Tradition',\n",
       " 'Is School a Place for Self-Expression?']"
      ]
     },
     "execution_count": 36,
     "metadata": {},
     "output_type": "execute_result"
    }
   ],
   "source": [
    "# 110개 샘플 제거됨\n",
    "headline[:5]"
   ]
  },
  {
   "cell_type": "code",
   "execution_count": 37,
   "id": "bcc33106-dfd2-466b-ae46-9835e9752ba9",
   "metadata": {},
   "outputs": [
    {
     "data": {
      "text/plain": [
       "['former nfl cheerleaders settlement offer 1 and a meeting with goodell',\n",
       " 'epa to unveil a new rule its effect less science in policymaking',\n",
       " 'the new noma explained',\n",
       " 'how a bag of texas dirt  became a times tradition',\n",
       " 'is school a place for selfexpression']"
      ]
     },
     "execution_count": 37,
     "metadata": {},
     "output_type": "execute_result"
    }
   ],
   "source": [
    "# 전처리 수행 (구두점 제거와 단어의 소문자화)\n",
    "def repreprocessing(raw_sentence):\n",
    "    preprocessed_sentence = raw_sentence.encode('utf-8').decode('ascii', 'ignore')\n",
    "    # 구두점 제거와 동시에 소문자화\n",
    "    return ''.join(word for word in preprocessed_sentence if word not in punctuation).lower()\n",
    "\n",
    "preprocessed_headline = [repreprocessing(x) for x in headline]\n",
    "preprocessed_headline[:5]"
   ]
  },
  {
   "cell_type": "code",
   "execution_count": 38,
   "id": "404db9e7-01ef-4062-89d7-2e2862d054fa",
   "metadata": {},
   "outputs": [
    {
     "name": "stdout",
     "output_type": "stream",
     "text": [
      "단어 집합의 크기: 3494\n"
     ]
    }
   ],
   "source": [
    "# 단어 집합(vocabulary) 만들고 크기 확인\n",
    "tokenizer = Tokenizer()\n",
    "tokenizer.fit_on_texts(preprocessed_headline)\n",
    "vocab_size = len(tokenizer.word_index) + 1\n",
    "print('단어 집합의 크기: %d' % vocab_size)"
   ]
  },
  {
   "cell_type": "code",
   "execution_count": 39,
   "id": "188197fe-5cba-469a-b22e-09e32ec6e2d5",
   "metadata": {},
   "outputs": [
    {
     "data": {
      "text/plain": [
       "[[99, 269],\n",
       " [99, 269, 371],\n",
       " [99, 269, 371, 1115],\n",
       " [99, 269, 371, 1115, 582],\n",
       " [99, 269, 371, 1115, 582, 52],\n",
       " [99, 269, 371, 1115, 582, 52, 7],\n",
       " [99, 269, 371, 1115, 582, 52, 7, 2],\n",
       " [99, 269, 371, 1115, 582, 52, 7, 2, 372],\n",
       " [99, 269, 371, 1115, 582, 52, 7, 2, 372, 10],\n",
       " [99, 269, 371, 1115, 582, 52, 7, 2, 372, 10, 1116],\n",
       " [100, 3]]"
      ]
     },
     "execution_count": 39,
     "metadata": {},
     "output_type": "execute_result"
    }
   ],
   "source": [
    "# 정수 인코딩 진행 + 하나의 문장을 여러 줄로 분해하여 훈련 데이터 구성\n",
    "sequences = []\n",
    "\n",
    "for sentence in preprocessed_headline:\n",
    "    # 각 샘플에 대한 정수 인코딩\n",
    "    encoded = tokenizer.texts_to_sequences([sentence])[0]\n",
    "    for i in range(1, len(encoded)):\n",
    "        sequence = encoded[:i+1]\n",
    "        sequences.append(sequence)\n",
    "        \n",
    "sequences[:11]"
   ]
  },
  {
   "cell_type": "code",
   "execution_count": 40,
   "id": "b413ede3-ed56-4d11-83fc-434ac3014555",
   "metadata": {},
   "outputs": [
    {
     "name": "stdout",
     "output_type": "stream",
     "text": [
      "빈도수 상위 582번 단어: offer\n"
     ]
    }
   ],
   "source": [
    "index_to_word = {}\n",
    "for key, value in tokenizer.word_index.items():\n",
    "    index_to_word[value] = key\n",
    "    \n",
    "print('빈도수 상위 582번 단어: {}'.format(index_to_word[582]))"
   ]
  },
  {
   "cell_type": "code",
   "execution_count": 41,
   "id": "0625af99-80df-40a5-a94b-390acf795e14",
   "metadata": {},
   "outputs": [
    {
     "name": "stdout",
     "output_type": "stream",
     "text": [
      "샘플의 최대 길이: 24\n"
     ]
    }
   ],
   "source": [
    "# 레이블 분리하기 전 전체 샘플의 길이를 동일하게 만드는 패딩 작업 수행\n",
    "\n",
    "# 가장 긴 샘플의 길이 확인\n",
    "max_len = max(len(l) for l in sequences)\n",
    "print('샘플의 최대 길이: {}'.format(max_len))"
   ]
  },
  {
   "cell_type": "code",
   "execution_count": 42,
   "id": "ab6fc1f8-88a3-4571-9acd-9029a1697977",
   "metadata": {},
   "outputs": [
    {
     "name": "stdout",
     "output_type": "stream",
     "text": [
      "[[   0    0    0    0    0    0    0    0    0    0    0    0    0    0\n",
      "     0    0    0    0    0    0    0    0   99  269]\n",
      " [   0    0    0    0    0    0    0    0    0    0    0    0    0    0\n",
      "     0    0    0    0    0    0    0   99  269  371]\n",
      " [   0    0    0    0    0    0    0    0    0    0    0    0    0    0\n",
      "     0    0    0    0    0    0   99  269  371 1115]]\n"
     ]
    }
   ],
   "source": [
    "# 24의 길이로 모든 샘플 길이 패딩\n",
    "sequences = pad_sequences(sequences, maxlen=max_len, padding='pre')\n",
    "print(sequences[:3])"
   ]
  },
  {
   "cell_type": "code",
   "execution_count": 43,
   "id": "d3aaa94e-0c4c-481f-9348-d42af29c80b2",
   "metadata": {},
   "outputs": [],
   "source": [
    "# 레이블 데이터 분리\n",
    "sequences = np.array(sequences)\n",
    "X = sequences[:, :-1]\n",
    "y = sequences[:, -1]"
   ]
  },
  {
   "cell_type": "code",
   "execution_count": 44,
   "id": "7aa5cd6b-a28c-48e9-b0a1-03e9d66eef4b",
   "metadata": {},
   "outputs": [],
   "source": [
    "# 레이블 데이터에 대해서 원-핫 인코딩\n",
    "y = to_categorical(y, num_classes=vocab_size)"
   ]
  },
  {
   "cell_type": "markdown",
   "id": "57c48cae-6cb0-4fb2-8a56-56a72a577a7e",
   "metadata": {},
   "source": [
    "#### 모델 설계"
   ]
  },
  {
   "cell_type": "code",
   "execution_count": 45,
   "id": "f3e8fed5-267d-4265-a505-eb8245faec81",
   "metadata": {},
   "outputs": [],
   "source": [
    "from tensorflow.keras.models import Sequential\n",
    "from tensorflow.keras.layers import Embedding, Dense, LSTM"
   ]
  },
  {
   "cell_type": "markdown",
   "id": "9fe8557c-94f5-475b-a016-0276258788dd",
   "metadata": {},
   "source": [
    "- 임베딩 벡터 차원 10, 은닉 상태 크기 128\n",
    "- 다 대 일 구조 LSTM\n",
    "- fully connected layer을 출력층으로 단어 집합 크기만큼 뉴런 배치\n",
    "- 다중 클래스 분류 문제 해결하는 모델\n",
    "    - 소프트맥스, 크로스엔트로피 사용\n",
    "- 200 epoch"
   ]
  },
  {
   "cell_type": "code",
   "execution_count": 47,
   "id": "25a02b6c-7b5f-4c54-a1f1-042d2d1dd611",
   "metadata": {},
   "outputs": [
    {
     "name": "stdout",
     "output_type": "stream",
     "text": [
      "Epoch 1/200\n",
      "244/244 - 10s - loss: 7.6437 - accuracy: 0.0265\n",
      "Epoch 2/200\n",
      "244/244 - 9s - loss: 7.1121 - accuracy: 0.0279\n",
      "Epoch 3/200\n",
      "244/244 - 9s - loss: 6.9761 - accuracy: 0.0334\n",
      "Epoch 4/200\n",
      "244/244 - 9s - loss: 6.8556 - accuracy: 0.0386\n",
      "Epoch 5/200\n",
      "244/244 - 9s - loss: 6.7083 - accuracy: 0.0440\n",
      "Epoch 6/200\n",
      "244/244 - 9s - loss: 6.5270 - accuracy: 0.0479\n",
      "Epoch 7/200\n",
      "244/244 - 8s - loss: 6.3294 - accuracy: 0.0511\n",
      "Epoch 8/200\n",
      "244/244 - 8s - loss: 6.1284 - accuracy: 0.0552\n",
      "Epoch 9/200\n",
      "244/244 - 9s - loss: 5.9409 - accuracy: 0.0623\n",
      "Epoch 10/200\n",
      "244/244 - 8s - loss: 5.7597 - accuracy: 0.0642\n",
      "Epoch 11/200\n",
      "244/244 - 8s - loss: 5.5861 - accuracy: 0.0696\n",
      "Epoch 12/200\n",
      "244/244 - 8s - loss: 5.4242 - accuracy: 0.0742\n",
      "Epoch 13/200\n",
      "244/244 - 8s - loss: 5.2691 - accuracy: 0.0793\n",
      "Epoch 14/200\n",
      "244/244 - 8s - loss: 5.1206 - accuracy: 0.0861\n",
      "Epoch 15/200\n",
      "244/244 - 8s - loss: 4.9799 - accuracy: 0.0951\n",
      "Epoch 16/200\n",
      "244/244 - 8s - loss: 4.8443 - accuracy: 0.1033\n",
      "Epoch 17/200\n",
      "244/244 - 8s - loss: 4.7119 - accuracy: 0.1166\n",
      "Epoch 18/200\n",
      "244/244 - 8s - loss: 4.5872 - accuracy: 0.1298\n",
      "Epoch 19/200\n",
      "244/244 - 8s - loss: 4.4633 - accuracy: 0.1438\n",
      "Epoch 20/200\n",
      "244/244 - 8s - loss: 4.3461 - accuracy: 0.1567\n",
      "Epoch 21/200\n",
      "244/244 - 8s - loss: 4.2287 - accuracy: 0.1792\n",
      "Epoch 22/200\n",
      "244/244 - 8s - loss: 4.1192 - accuracy: 0.1936\n",
      "Epoch 23/200\n",
      "244/244 - 8s - loss: 4.0098 - accuracy: 0.2053\n",
      "Epoch 24/200\n",
      "244/244 - 8s - loss: 3.9010 - accuracy: 0.2281\n",
      "Epoch 25/200\n",
      "244/244 - 8s - loss: 3.8007 - accuracy: 0.2429\n",
      "Epoch 26/200\n",
      "244/244 - 8s - loss: 3.7000 - accuracy: 0.2609\n",
      "Epoch 27/200\n",
      "244/244 - 8s - loss: 3.6034 - accuracy: 0.2798\n",
      "Epoch 28/200\n",
      "244/244 - 8s - loss: 3.5086 - accuracy: 0.2964\n",
      "Epoch 29/200\n",
      "244/244 - 8s - loss: 3.4180 - accuracy: 0.3112\n",
      "Epoch 30/200\n",
      "244/244 - 8s - loss: 3.3294 - accuracy: 0.3236\n",
      "Epoch 31/200\n",
      "244/244 - 8s - loss: 3.2443 - accuracy: 0.3356\n",
      "Epoch 32/200\n",
      "244/244 - 8s - loss: 3.1600 - accuracy: 0.3542\n",
      "Epoch 33/200\n",
      "244/244 - 8s - loss: 3.0793 - accuracy: 0.3702\n",
      "Epoch 34/200\n",
      "244/244 - 8s - loss: 3.0024 - accuracy: 0.3882\n",
      "Epoch 35/200\n",
      "244/244 - 8s - loss: 2.9268 - accuracy: 0.4022\n",
      "Epoch 36/200\n",
      "244/244 - 8s - loss: 2.8520 - accuracy: 0.4114\n",
      "Epoch 37/200\n",
      "244/244 - 8s - loss: 2.7809 - accuracy: 0.4296\n",
      "Epoch 38/200\n",
      "244/244 - 8s - loss: 2.7114 - accuracy: 0.4412\n",
      "Epoch 39/200\n",
      "244/244 - 8s - loss: 2.6463 - accuracy: 0.4541\n",
      "Epoch 40/200\n",
      "244/244 - 8s - loss: 2.5808 - accuracy: 0.4670\n",
      "Epoch 41/200\n",
      "244/244 - 8s - loss: 2.5181 - accuracy: 0.4828\n",
      "Epoch 42/200\n",
      "244/244 - 8s - loss: 2.4550 - accuracy: 0.4963\n",
      "Epoch 43/200\n",
      "244/244 - 8s - loss: 2.3984 - accuracy: 0.5040\n",
      "Epoch 44/200\n",
      "244/244 - 8s - loss: 2.3400 - accuracy: 0.5170\n",
      "Epoch 45/200\n",
      "244/244 - 8s - loss: 2.2819 - accuracy: 0.5280\n",
      "Epoch 46/200\n",
      "244/244 - 8s - loss: 2.2283 - accuracy: 0.5438\n",
      "Epoch 47/200\n",
      "244/244 - 8s - loss: 2.1707 - accuracy: 0.5556\n",
      "Epoch 48/200\n",
      "244/244 - 8s - loss: 2.1197 - accuracy: 0.5595\n",
      "Epoch 49/200\n",
      "244/244 - 8s - loss: 2.0717 - accuracy: 0.5699\n",
      "Epoch 50/200\n",
      "244/244 - 8s - loss: 2.0195 - accuracy: 0.5870\n",
      "Epoch 51/200\n",
      "244/244 - 8s - loss: 1.9712 - accuracy: 0.5962\n",
      "Epoch 52/200\n",
      "244/244 - 8s - loss: 1.9232 - accuracy: 0.6050\n",
      "Epoch 53/200\n",
      "244/244 - 8s - loss: 1.8763 - accuracy: 0.6203\n",
      "Epoch 54/200\n",
      "244/244 - 8s - loss: 1.8319 - accuracy: 0.6295\n",
      "Epoch 55/200\n",
      "244/244 - 8s - loss: 1.7867 - accuracy: 0.6382\n",
      "Epoch 56/200\n",
      "244/244 - 8s - loss: 1.7449 - accuracy: 0.6439\n",
      "Epoch 57/200\n",
      "244/244 - 8s - loss: 1.7014 - accuracy: 0.6556\n",
      "Epoch 58/200\n",
      "244/244 - 8s - loss: 1.6593 - accuracy: 0.6662\n",
      "Epoch 59/200\n",
      "244/244 - 8s - loss: 1.6175 - accuracy: 0.6731\n",
      "Epoch 60/200\n",
      "244/244 - 8s - loss: 1.5776 - accuracy: 0.6804\n",
      "Epoch 61/200\n",
      "244/244 - 8s - loss: 1.5391 - accuracy: 0.6918\n",
      "Epoch 62/200\n",
      "244/244 - 8s - loss: 1.5010 - accuracy: 0.6963\n",
      "Epoch 63/200\n",
      "244/244 - 8s - loss: 1.4638 - accuracy: 0.7056\n",
      "Epoch 64/200\n",
      "244/244 - 8s - loss: 1.4280 - accuracy: 0.7190\n",
      "Epoch 65/200\n",
      "244/244 - 8s - loss: 1.3923 - accuracy: 0.7210\n",
      "Epoch 66/200\n",
      "244/244 - 8s - loss: 1.3585 - accuracy: 0.7305\n",
      "Epoch 67/200\n",
      "244/244 - 8s - loss: 1.3218 - accuracy: 0.7380\n",
      "Epoch 68/200\n",
      "244/244 - 8s - loss: 1.2877 - accuracy: 0.7463\n",
      "Epoch 69/200\n",
      "244/244 - 8s - loss: 1.2568 - accuracy: 0.7520\n",
      "Epoch 70/200\n",
      "244/244 - 8s - loss: 1.2275 - accuracy: 0.7562\n",
      "Epoch 71/200\n",
      "244/244 - 8s - loss: 1.1975 - accuracy: 0.7639\n",
      "Epoch 72/200\n",
      "244/244 - 8s - loss: 1.1653 - accuracy: 0.7703\n",
      "Epoch 73/200\n",
      "244/244 - 8s - loss: 1.1363 - accuracy: 0.7765\n",
      "Epoch 74/200\n",
      "244/244 - 8s - loss: 1.1089 - accuracy: 0.7861\n",
      "Epoch 75/200\n",
      "244/244 - 8s - loss: 1.0803 - accuracy: 0.7883\n",
      "Epoch 76/200\n",
      "244/244 - 8s - loss: 1.0516 - accuracy: 0.7958\n",
      "Epoch 77/200\n",
      "244/244 - 8s - loss: 1.0271 - accuracy: 0.7979\n",
      "Epoch 78/200\n",
      "244/244 - 8s - loss: 1.0013 - accuracy: 0.8034\n",
      "Epoch 79/200\n",
      "244/244 - 8s - loss: 0.9756 - accuracy: 0.8106\n",
      "Epoch 80/200\n",
      "244/244 - 8s - loss: 0.9510 - accuracy: 0.8130\n",
      "Epoch 81/200\n",
      "244/244 - 8s - loss: 0.9274 - accuracy: 0.8214\n",
      "Epoch 82/200\n",
      "244/244 - 8s - loss: 0.9048 - accuracy: 0.8220\n",
      "Epoch 83/200\n",
      "244/244 - 8s - loss: 0.8826 - accuracy: 0.8308\n",
      "Epoch 84/200\n",
      "244/244 - 8s - loss: 0.8597 - accuracy: 0.8325\n",
      "Epoch 85/200\n",
      "244/244 - 8s - loss: 0.8392 - accuracy: 0.8378\n",
      "Epoch 86/200\n",
      "244/244 - 8s - loss: 0.8192 - accuracy: 0.8401\n",
      "Epoch 87/200\n",
      "244/244 - 8s - loss: 0.7991 - accuracy: 0.8434\n",
      "Epoch 88/200\n",
      "244/244 - 8s - loss: 0.7781 - accuracy: 0.8479\n",
      "Epoch 89/200\n",
      "244/244 - 8s - loss: 0.7605 - accuracy: 0.8515\n",
      "Epoch 90/200\n",
      "244/244 - 8s - loss: 0.7436 - accuracy: 0.8547\n",
      "Epoch 91/200\n",
      "244/244 - 8s - loss: 0.7227 - accuracy: 0.8593\n",
      "Epoch 92/200\n",
      "244/244 - 8s - loss: 0.7046 - accuracy: 0.8633\n",
      "Epoch 93/200\n",
      "244/244 - 8s - loss: 0.6902 - accuracy: 0.8645\n",
      "Epoch 94/200\n",
      "244/244 - 8s - loss: 0.6749 - accuracy: 0.8708\n",
      "Epoch 95/200\n",
      "244/244 - 8s - loss: 0.6591 - accuracy: 0.8717\n",
      "Epoch 96/200\n",
      "244/244 - 8s - loss: 0.6435 - accuracy: 0.8727\n",
      "Epoch 97/200\n",
      "244/244 - 8s - loss: 0.6277 - accuracy: 0.8768\n",
      "Epoch 98/200\n",
      "244/244 - 8s - loss: 0.6147 - accuracy: 0.8788\n",
      "Epoch 99/200\n",
      "244/244 - 8s - loss: 0.6001 - accuracy: 0.8818\n",
      "Epoch 100/200\n",
      "244/244 - 8s - loss: 0.5874 - accuracy: 0.8844\n",
      "Epoch 101/200\n",
      "244/244 - 8s - loss: 0.5729 - accuracy: 0.8866\n",
      "Epoch 102/200\n",
      "244/244 - 8s - loss: 0.5609 - accuracy: 0.8877\n",
      "Epoch 103/200\n",
      "244/244 - 8s - loss: 0.5508 - accuracy: 0.8900\n",
      "Epoch 104/200\n",
      "244/244 - 8s - loss: 0.5378 - accuracy: 0.8922\n",
      "Epoch 105/200\n",
      "244/244 - 8s - loss: 0.5249 - accuracy: 0.8932\n",
      "Epoch 106/200\n",
      "244/244 - 8s - loss: 0.5147 - accuracy: 0.8958\n",
      "Epoch 107/200\n",
      "244/244 - 8s - loss: 0.5036 - accuracy: 0.8967\n",
      "Epoch 108/200\n",
      "244/244 - 8s - loss: 0.5027 - accuracy: 0.8984\n",
      "Epoch 109/200\n",
      "244/244 - 8s - loss: 0.4860 - accuracy: 0.8998\n",
      "Epoch 110/200\n",
      "244/244 - 8s - loss: 0.4739 - accuracy: 0.9004\n",
      "Epoch 111/200\n",
      "244/244 - 8s - loss: 0.4651 - accuracy: 0.9018\n",
      "Epoch 112/200\n",
      "244/244 - 8s - loss: 0.4569 - accuracy: 0.9036\n",
      "Epoch 113/200\n",
      "244/244 - 8s - loss: 0.4495 - accuracy: 0.9029\n",
      "Epoch 114/200\n",
      "244/244 - 8s - loss: 0.4399 - accuracy: 0.9058\n",
      "Epoch 115/200\n",
      "244/244 - 8s - loss: 0.4310 - accuracy: 0.9068\n",
      "Epoch 116/200\n",
      "244/244 - 8s - loss: 0.4303 - accuracy: 0.9061\n",
      "Epoch 117/200\n",
      "244/244 - 8s - loss: 0.4189 - accuracy: 0.9075\n",
      "Epoch 118/200\n",
      "244/244 - 8s - loss: 0.4111 - accuracy: 0.9081\n",
      "Epoch 119/200\n",
      "244/244 - 8s - loss: 0.4044 - accuracy: 0.9090\n",
      "Epoch 120/200\n",
      "244/244 - 8s - loss: 0.3970 - accuracy: 0.9097\n",
      "Epoch 121/200\n",
      "244/244 - 8s - loss: 0.3901 - accuracy: 0.9113\n",
      "Epoch 122/200\n",
      "244/244 - 8s - loss: 0.3847 - accuracy: 0.9118\n",
      "Epoch 123/200\n",
      "244/244 - 8s - loss: 0.3787 - accuracy: 0.9149\n",
      "Epoch 124/200\n",
      "244/244 - 8s - loss: 0.3749 - accuracy: 0.9122\n",
      "Epoch 125/200\n",
      "244/244 - 8s - loss: 0.3787 - accuracy: 0.9120\n",
      "Epoch 126/200\n",
      "244/244 - 8s - loss: 0.3673 - accuracy: 0.9136\n",
      "Epoch 127/200\n",
      "244/244 - 8s - loss: 0.3622 - accuracy: 0.9131\n",
      "Epoch 128/200\n",
      "244/244 - 8s - loss: 0.3544 - accuracy: 0.9136\n",
      "Epoch 129/200\n",
      "244/244 - 8s - loss: 0.3536 - accuracy: 0.9135\n",
      "Epoch 130/200\n",
      "244/244 - 8s - loss: 0.3483 - accuracy: 0.9131\n",
      "Epoch 131/200\n",
      "244/244 - 8s - loss: 0.3440 - accuracy: 0.9138\n",
      "Epoch 132/200\n",
      "244/244 - 8s - loss: 0.3391 - accuracy: 0.9139\n",
      "Epoch 133/200\n",
      "244/244 - 8s - loss: 0.3401 - accuracy: 0.9144\n",
      "Epoch 134/200\n",
      "244/244 - 8s - loss: 0.3328 - accuracy: 0.9152\n",
      "Epoch 135/200\n",
      "244/244 - 8s - loss: 0.3299 - accuracy: 0.9157\n",
      "Epoch 136/200\n",
      "244/244 - 8s - loss: 0.3255 - accuracy: 0.9148\n",
      "Epoch 137/200\n",
      "244/244 - 8s - loss: 0.3218 - accuracy: 0.9153\n",
      "Epoch 138/200\n",
      "244/244 - 8s - loss: 0.3176 - accuracy: 0.9164\n",
      "Epoch 139/200\n",
      "244/244 - 8s - loss: 0.3157 - accuracy: 0.9158\n",
      "Epoch 140/200\n",
      "244/244 - 8s - loss: 0.3138 - accuracy: 0.9161\n",
      "Epoch 141/200\n",
      "244/244 - 8s - loss: 0.3127 - accuracy: 0.9158\n",
      "Epoch 142/200\n",
      "244/244 - 8s - loss: 0.3095 - accuracy: 0.9166\n",
      "Epoch 143/200\n",
      "244/244 - 8s - loss: 0.3135 - accuracy: 0.9162\n",
      "Epoch 144/200\n",
      "244/244 - 8s - loss: 0.3090 - accuracy: 0.9149\n",
      "Epoch 145/200\n",
      "244/244 - 8s - loss: 0.3035 - accuracy: 0.9185\n",
      "Epoch 146/200\n",
      "244/244 - 8s - loss: 0.3018 - accuracy: 0.9168\n",
      "Epoch 147/200\n",
      "244/244 - 8s - loss: 0.2970 - accuracy: 0.9175\n",
      "Epoch 148/200\n",
      "244/244 - 8s - loss: 0.2987 - accuracy: 0.9164\n",
      "Epoch 149/200\n",
      "244/244 - 8s - loss: 0.2974 - accuracy: 0.9163\n",
      "Epoch 150/200\n",
      "244/244 - 8s - loss: 0.2941 - accuracy: 0.9164\n",
      "Epoch 151/200\n",
      "244/244 - 8s - loss: 0.3126 - accuracy: 0.9138\n",
      "Epoch 152/200\n",
      "244/244 - 8s - loss: 0.3066 - accuracy: 0.9153\n",
      "Epoch 153/200\n",
      "244/244 - 8s - loss: 0.2959 - accuracy: 0.9161\n",
      "Epoch 154/200\n",
      "244/244 - 8s - loss: 0.2876 - accuracy: 0.9153\n",
      "Epoch 155/200\n",
      "244/244 - 8s - loss: 0.2854 - accuracy: 0.9173\n",
      "Epoch 156/200\n",
      "244/244 - 8s - loss: 0.2841 - accuracy: 0.9171\n",
      "Epoch 157/200\n",
      "244/244 - 8s - loss: 0.2841 - accuracy: 0.9157\n",
      "Epoch 158/200\n",
      "244/244 - 8s - loss: 0.2831 - accuracy: 0.9176\n",
      "Epoch 159/200\n",
      "244/244 - 8s - loss: 0.2822 - accuracy: 0.9166\n",
      "Epoch 160/200\n",
      "244/244 - 8s - loss: 0.2809 - accuracy: 0.9153\n",
      "Epoch 161/200\n",
      "244/244 - 8s - loss: 0.2796 - accuracy: 0.9161\n",
      "Epoch 162/200\n",
      "244/244 - 8s - loss: 0.2802 - accuracy: 0.9157\n",
      "Epoch 163/200\n",
      "244/244 - 8s - loss: 0.2780 - accuracy: 0.9176\n",
      "Epoch 164/200\n",
      "244/244 - 8s - loss: 0.2818 - accuracy: 0.9168\n",
      "Epoch 165/200\n",
      "244/244 - 8s - loss: 0.2841 - accuracy: 0.9176\n",
      "Epoch 166/200\n",
      "244/244 - 8s - loss: 0.2800 - accuracy: 0.9163\n",
      "Epoch 167/200\n",
      "244/244 - 8s - loss: 0.2772 - accuracy: 0.9159\n",
      "Epoch 168/200\n",
      "244/244 - 8s - loss: 0.2755 - accuracy: 0.9152\n",
      "Epoch 169/200\n",
      "244/244 - 8s - loss: 0.2731 - accuracy: 0.9154\n",
      "Epoch 170/200\n",
      "244/244 - 8s - loss: 0.2724 - accuracy: 0.9164\n",
      "Epoch 171/200\n",
      "244/244 - 8s - loss: 0.2720 - accuracy: 0.9161\n",
      "Epoch 172/200\n",
      "244/244 - 8s - loss: 0.2710 - accuracy: 0.9170\n",
      "Epoch 173/200\n",
      "244/244 - 8s - loss: 0.2703 - accuracy: 0.9175\n",
      "Epoch 174/200\n",
      "244/244 - 8s - loss: 0.2716 - accuracy: 0.9163\n",
      "Epoch 175/200\n",
      "244/244 - 8s - loss: 0.2707 - accuracy: 0.9164\n",
      "Epoch 176/200\n",
      "244/244 - 8s - loss: 0.2701 - accuracy: 0.9157\n",
      "Epoch 177/200\n",
      "244/244 - 8s - loss: 0.2684 - accuracy: 0.9168\n",
      "Epoch 178/200\n",
      "244/244 - 8s - loss: 0.2728 - accuracy: 0.9150\n",
      "Epoch 179/200\n",
      "244/244 - 8s - loss: 0.3144 - accuracy: 0.9090\n",
      "Epoch 180/200\n",
      "244/244 - 8s - loss: 0.2960 - accuracy: 0.9111\n",
      "Epoch 181/200\n",
      "244/244 - 8s - loss: 0.2692 - accuracy: 0.9163\n",
      "Epoch 182/200\n",
      "244/244 - 8s - loss: 0.2660 - accuracy: 0.9166\n",
      "Epoch 183/200\n",
      "244/244 - 8s - loss: 0.2657 - accuracy: 0.9166\n",
      "Epoch 184/200\n",
      "244/244 - 8s - loss: 0.2655 - accuracy: 0.9158\n",
      "Epoch 185/200\n",
      "244/244 - 8s - loss: 0.2639 - accuracy: 0.9177\n",
      "Epoch 186/200\n",
      "244/244 - 8s - loss: 0.2639 - accuracy: 0.9181\n",
      "Epoch 187/200\n",
      "244/244 - 8s - loss: 0.2646 - accuracy: 0.9167\n",
      "Epoch 188/200\n",
      "244/244 - 8s - loss: 0.2637 - accuracy: 0.9159\n",
      "Epoch 189/200\n",
      "244/244 - 8s - loss: 0.2646 - accuracy: 0.9173\n",
      "Epoch 190/200\n",
      "244/244 - 8s - loss: 0.2639 - accuracy: 0.9162\n",
      "Epoch 191/200\n",
      "244/244 - 8s - loss: 0.2649 - accuracy: 0.9166\n",
      "Epoch 192/200\n",
      "244/244 - 8s - loss: 0.2633 - accuracy: 0.9150\n",
      "Epoch 193/200\n",
      "244/244 - 8s - loss: 0.2644 - accuracy: 0.9163\n",
      "Epoch 194/200\n",
      "244/244 - 8s - loss: 0.2639 - accuracy: 0.9157\n",
      "Epoch 195/200\n",
      "244/244 - 8s - loss: 0.2628 - accuracy: 0.9161\n",
      "Epoch 196/200\n",
      "244/244 - 8s - loss: 0.2627 - accuracy: 0.9166\n",
      "Epoch 197/200\n",
      "244/244 - 8s - loss: 0.2628 - accuracy: 0.9161\n",
      "Epoch 198/200\n",
      "244/244 - 8s - loss: 0.2625 - accuracy: 0.9154\n",
      "Epoch 199/200\n",
      "244/244 - 8s - loss: 0.2623 - accuracy: 0.9153\n",
      "Epoch 200/200\n",
      "244/244 - 8s - loss: 0.2612 - accuracy: 0.9175\n"
     ]
    },
    {
     "data": {
      "text/plain": [
       "<tensorflow.python.keras.callbacks.History at 0x7fb82c410190>"
      ]
     },
     "execution_count": 47,
     "metadata": {},
     "output_type": "execute_result"
    }
   ],
   "source": [
    "embedding_dim = 10\n",
    "hidden_units = 128\n",
    "\n",
    "model = Sequential()\n",
    "model.add(Embedding(vocab_size, embedding_dim))\n",
    "model.add(LSTM(hidden_units))\n",
    "model.add(Dense(vocab_size, activation='softmax'))\n",
    "model.compile(loss='categorical_crossentropy', optimizer='adam', metrics=['accuracy'])\n",
    "model.fit(X, y, epochs=200, verbose=2)"
   ]
  },
  {
   "cell_type": "code",
   "execution_count": 48,
   "id": "c00dfaa3-bf64-4743-aa91-01a8d36e862e",
   "metadata": {},
   "outputs": [],
   "source": [
    "# 문장 생성하는 함수\n",
    "\n",
    "def sentence_generation(model, tokenizer, current_word, n):\n",
    "    # 인자로 (모델, 토크나이저, 현재 단어, 반복할 횟수)\n",
    "    init_word = current_word\n",
    "    sentence = ''\n",
    "    \n",
    "    # n번 반복\n",
    "    for _ in range(n):\n",
    "        # 현재 단어에 대한 정수 인코딩과 패딩\n",
    "        encoded = tokenizer.texts_to_sequences([current_word])[0]\n",
    "        encoded = pad_sequences([encoded], maxlen=max_len-1, padding='pre')\n",
    "        \n",
    "        # 입력한 X(현재 단어)에 대해서 y를 예측하고 y(예측한 단어)를 result에 저장\n",
    "        result = model.predict(encoded, verbose=0)\n",
    "        result = np.argmax(result, axis=1)\n",
    "        \n",
    "        for word, index in tokenizer.word_index.items():\n",
    "            # 만약 예측한 단어와 인덱스와 동일한 단어가 있다면 break\n",
    "            if index == result:\n",
    "                break\n",
    "        \n",
    "        # 현재 단어 + ' ' + 예측 단어를 현재 단어로 변경\n",
    "        current_word = current_word + ' ' + word\n",
    "        \n",
    "        # 예측 단어를 문장에 저장\n",
    "        sentence = sentence + ' ' + word\n",
    "        \n",
    "    sentence = init_word + sentence\n",
    "    return sentence"
   ]
  },
  {
   "cell_type": "code",
   "execution_count": 49,
   "id": "1d754e28-dbc5-4343-b0da-6f8d0fb8958c",
   "metadata": {},
   "outputs": [
    {
     "name": "stdout",
     "output_type": "stream",
     "text": [
      "i cant jump ship from facebook yet them has out at\n"
     ]
    }
   ],
   "source": [
    "# 임의의 단어 'i'에 대해서 10개의 단어 추가 생성\n",
    "print(sentence_generation(model, tokenizer, 'i', 10))"
   ]
  },
  {
   "cell_type": "code",
   "execution_count": 50,
   "id": "b62aeaf1-a6eb-4b5c-b0bb-0bbffda92f20",
   "metadata": {},
   "outputs": [
    {
     "name": "stdout",
     "output_type": "stream",
     "text": [
      "how to make a crossword puzzle senate or a purple and\n"
     ]
    }
   ],
   "source": [
    "# 임의의 단어 'how'에 대해서 10개의 단어 추가 생성\n",
    "print(sentence_generation(model, tokenizer, 'how', 10))"
   ]
  },
  {
   "cell_type": "markdown",
   "id": "86d022f7-5651-41a3-a24d-6de4b0de5106",
   "metadata": {},
   "source": [
    "### 문자 단위 RNN 언어 모델 (Char RNNLM)\n",
    "- 이전 시점의 예측 문자를 다음 시점의 입력으로 사용하는 Char RNNLM\n",
    "- 단어 단위가 아닌 문자 단위로 입,출력으로 사용하기 때문에 임베딩층은 사용하지 않음"
   ]
  },
  {
   "cell_type": "markdown",
   "id": "d45ff38b-51d6-454b-8d50-be2637bf4ee4",
   "metadata": {},
   "source": [
    "#### 데이터에 대한 이해와 전처리\n",
    "- http://www.gutenberg.org/files/11/11-0.txt\n",
    "- '이상한 나라의 앨리스'"
   ]
  },
  {
   "cell_type": "code",
   "execution_count": 51,
   "id": "2854f9c2-6475-44df-b36c-6f1cc52b2163",
   "metadata": {},
   "outputs": [],
   "source": [
    "import numpy as np\n",
    "import urllib.request\n",
    "from tensorflow.keras.utils import to_categorical\n",
    "\n",
    "# 데이터 로드\n",
    "urllib.request.urlretrieve(\"http://www.gutenberg.org/files/11/11-0.txt\", filename='11-0.txt')\n",
    "\n",
    "f = open('11-0.txt', 'rb')\n",
    "\n",
    "# 전처리\n",
    "sentences = []\n",
    "for sentence in f: # 데이터로부터 한 줄씩 읽음\n",
    "    sentence = sentence.strip() # \\r, \\n 제거\n",
    "    sentence = sentence.lower() # 소문자화\n",
    "    sentence = sentence.decode('ascii', 'ignore') # \\xe2\\x80\\x99 등과 같은 바이트 열 제거\n",
    "    if len(sentence) > 0:\n",
    "        sentences.append(sentence)\n",
    "f.close()"
   ]
  },
  {
   "cell_type": "code",
   "execution_count": 52,
   "id": "8847b624-be95-423f-856d-6efae6f9c4f9",
   "metadata": {},
   "outputs": [
    {
     "data": {
      "text/plain": [
       "['the project gutenberg ebook of alices adventures in wonderland, by lewis carroll',\n",
       " 'this ebook is for the use of anyone anywhere in the united states and',\n",
       " 'most other parts of the world at no cost and with almost no restrictions',\n",
       " 'whatsoever. you may copy it, give it away or re-use it under the terms',\n",
       " 'of the project gutenberg license included with this ebook or online at']"
      ]
     },
     "execution_count": 52,
     "metadata": {},
     "output_type": "execute_result"
    }
   ],
   "source": [
    "sentences[:5]"
   ]
  },
  {
   "cell_type": "code",
   "execution_count": 53,
   "id": "aaba6eac-6e9d-48f5-a1f2-59c64e84d3bd",
   "metadata": {},
   "outputs": [
    {
     "name": "stdout",
     "output_type": "stream",
     "text": [
      "문자열의 길이 또는 총 문자의 개수: 159484\n"
     ]
    }
   ],
   "source": [
    "# 하나의 문자열로 통합\n",
    "total_data = ' '.join(sentences)\n",
    "print('문자열의 길이 또는 총 문자의 개수: %d' % len(total_data))"
   ]
  },
  {
   "cell_type": "code",
   "execution_count": 54,
   "id": "b51dae2c-c287-434f-84ce-1bd6a0d53d90",
   "metadata": {},
   "outputs": [
    {
     "name": "stdout",
     "output_type": "stream",
     "text": [
      "the project gutenberg ebook of alices adventures in wonderland, by lewis carroll this ebook is for the use of anyone anywhere in the united states and most other parts of the world at no cost and with\n"
     ]
    }
   ],
   "source": [
    "print(total_data[:200])"
   ]
  },
  {
   "cell_type": "code",
   "execution_count": 55,
   "id": "b4395316-728b-4ad2-8b2d-46b600243938",
   "metadata": {},
   "outputs": [
    {
     "name": "stdout",
     "output_type": "stream",
     "text": [
      "문자 집합의 크기: 56\n"
     ]
    }
   ],
   "source": [
    "# total_data 문자열로부터 문자 집합 만들기 (단어 집합 X 문자 집합 O)\n",
    "char_vocab = sorted(list(set(total_data)))\n",
    "vocab_size = len(char_vocab)\n",
    "print('문자 집합의 크기: {}'.format(vocab_size))"
   ]
  },
  {
   "cell_type": "markdown",
   "id": "f50d7e40-6f5a-43c6-ad71-6ed1cab2a953",
   "metadata": {},
   "source": [
    "영어가 훈련 데이터일 때 문자 집합의 크기가 단어 집합의 크기보다 현저히 작은 이유\n",
    "- 아무리 단어가 많아도 사용되는 문자는 26개의 알파벳 뿐이기 때문\n",
    "- 대소문자가 구분되어 있어도 52개"
   ]
  },
  {
   "cell_type": "code",
   "execution_count": 56,
   "id": "29c9e4ba-b95c-41cc-8f6d-69cbf3d0afc8",
   "metadata": {},
   "outputs": [
    {
     "name": "stdout",
     "output_type": "stream",
     "text": [
      "문자 집합:  {' ': 0, '!': 1, '\"': 2, '#': 3, '$': 4, '%': 5, \"'\": 6, '(': 7, ')': 8, '*': 9, ',': 10, '-': 11, '.': 12, '/': 13, '0': 14, '1': 15, '2': 16, '3': 17, '4': 18, '5': 19, '6': 20, '7': 21, '8': 22, '9': 23, ':': 24, ';': 25, '?': 26, '[': 27, ']': 28, '_': 29, 'a': 30, 'b': 31, 'c': 32, 'd': 33, 'e': 34, 'f': 35, 'g': 36, 'h': 37, 'i': 38, 'j': 39, 'k': 40, 'l': 41, 'm': 42, 'n': 43, 'o': 44, 'p': 45, 'q': 46, 'r': 47, 's': 48, 't': 49, 'u': 50, 'v': 51, 'w': 52, 'x': 53, 'y': 54, 'z': 55}\n"
     ]
    }
   ],
   "source": [
    "# 문자에 고유한 정수 부여\n",
    "char_to_index = dict((char, index) for index, char in enumerate(char_vocab))\n",
    "print('문자 집합: ', char_to_index)"
   ]
  },
  {
   "cell_type": "markdown",
   "id": "6cdeddc9-a661-45a4-bbc9-f8f2eaa41bd5",
   "metadata": {},
   "source": [
    "0-28: 공백 포함한 각종 구두점, 특수문자  \n",
    "29-54: a-z 26개의 알파벳 소문자"
   ]
  },
  {
   "cell_type": "code",
   "execution_count": 57,
   "id": "66b67f4e-f49f-4feb-a44c-0b59c4fbbf2d",
   "metadata": {},
   "outputs": [],
   "source": [
    "# 정수로부터 문자 리턴하는 index_to_char\n",
    "index_to_char = {}\n",
    "for key, value in char_to_index.items():\n",
    "    index_to_char[value] = key"
   ]
  },
  {
   "cell_type": "code",
   "execution_count": 58,
   "id": "108a6f38-d309-4b45-b9f9-529d3a3f1bb8",
   "metadata": {},
   "outputs": [
    {
     "name": "stdout",
     "output_type": "stream",
     "text": [
      "샘플의 수: 2658\n"
     ]
    }
   ],
   "source": [
    "# 샘플 만들기\n",
    "# 문장 샘플의 길이 정하고 -> 해당 길이만큼 문자열 전체 등분\n",
    "seq_length = 60\n",
    "\n",
    "# 문자열의 길이를 seq_length로 나누면 전처리 후 생겨날 샘플 수\n",
    "n_samples = int(np.floor((len(total_data) - 1) / seq_length))\n",
    "print('샘플의 수: {}'.format(n_samples))"
   ]
  },
  {
   "cell_type": "code",
   "execution_count": 59,
   "id": "d99b5f50-b925-48bc-9cc9-4e476bc9b952",
   "metadata": {},
   "outputs": [],
   "source": [
    "# 전처리\n",
    "train_X = []\n",
    "train_y = []\n",
    "\n",
    "for i in range(n_samples):\n",
    "    # 0:60 -> 60:120 -> 120:180로 loop 돌면서 문장 샘플 하나씩 pick\n",
    "    X_sample = total_data[i * seq_length: (i+1) * seq_length]\n",
    "    \n",
    "    # 정수 인코딩\n",
    "    X_encoded = [char_to_index[c] for c in X_sample]\n",
    "    train_X.append(X_encoded)\n",
    "    \n",
    "    # 오른쪽으로 1칸 쉬프트\n",
    "    y_sample = total_data[i * seq_length + 1: (i + 1) * seq_length + 1]\n",
    "    y_encoded = [char_to_index[c] for c in y_sample]\n",
    "    train_y.append(y_encoded)"
   ]
  },
  {
   "cell_type": "code",
   "execution_count": 60,
   "id": "4f598353-aaff-4792-b26a-2a37a826037b",
   "metadata": {},
   "outputs": [
    {
     "name": "stdout",
     "output_type": "stream",
     "text": [
      "X 데이터의 첫번째 샘플 : [49, 37, 34, 0, 45, 47, 44, 39, 34, 32, 49, 0, 36, 50, 49, 34, 43, 31, 34, 47, 36, 0, 34, 31, 44, 44, 40, 0, 44, 35, 0, 30, 41, 38, 32, 34, 48, 0, 30, 33, 51, 34, 43, 49, 50, 47, 34, 48, 0, 38, 43, 0, 52, 44, 43, 33, 34, 47, 41, 30]\n",
      "y 데이터의 첫번째 샘플 : [37, 34, 0, 45, 47, 44, 39, 34, 32, 49, 0, 36, 50, 49, 34, 43, 31, 34, 47, 36, 0, 34, 31, 44, 44, 40, 0, 44, 35, 0, 30, 41, 38, 32, 34, 48, 0, 30, 33, 51, 34, 43, 49, 50, 47, 34, 48, 0, 38, 43, 0, 52, 44, 43, 33, 34, 47, 41, 30, 43]\n",
      "--------------------------------------------------\n",
      "X 데이터의 첫번째 샘플 디코딩 : ['t', 'h', 'e', ' ', 'p', 'r', 'o', 'j', 'e', 'c', 't', ' ', 'g', 'u', 't', 'e', 'n', 'b', 'e', 'r', 'g', ' ', 'e', 'b', 'o', 'o', 'k', ' ', 'o', 'f', ' ', 'a', 'l', 'i', 'c', 'e', 's', ' ', 'a', 'd', 'v', 'e', 'n', 't', 'u', 'r', 'e', 's', ' ', 'i', 'n', ' ', 'w', 'o', 'n', 'd', 'e', 'r', 'l', 'a']\n",
      "y 데이터의 첫번째 샘플 디코딩 : ['h', 'e', ' ', 'p', 'r', 'o', 'j', 'e', 'c', 't', ' ', 'g', 'u', 't', 'e', 'n', 'b', 'e', 'r', 'g', ' ', 'e', 'b', 'o', 'o', 'k', ' ', 'o', 'f', ' ', 'a', 'l', 'i', 'c', 'e', 's', ' ', 'a', 'd', 'v', 'e', 'n', 't', 'u', 'r', 'e', 's', ' ', 'i', 'n', ' ', 'w', 'o', 'n', 'd', 'e', 'r', 'l', 'a', 'n']\n"
     ]
    }
   ],
   "source": [
    "# train_X와 train_y의 첫번째 샘플 출력\n",
    "print('X 데이터의 첫번째 샘플 :',train_X[0])\n",
    "print('y 데이터의 첫번째 샘플 :',train_y[0])\n",
    "print('-'*50)\n",
    "print('X 데이터의 첫번째 샘플 디코딩 :',[index_to_char[i] for i in train_X[0]])\n",
    "print('y 데이터의 첫번째 샘플 디코딩 :',[index_to_char[i] for i in train_y[0]])"
   ]
  },
  {
   "cell_type": "markdown",
   "id": "762abda6-5bac-463d-9616-e808e3abd27f",
   "metadata": {},
   "source": [
    "train_y[0]은 train_X[0]에서 오른쪽으로 한 칸 쉬프트 된 문장임을 알 수 있음"
   ]
  },
  {
   "cell_type": "code",
   "execution_count": 61,
   "id": "95978cb0-ce02-4443-b42a-cb50b85d0689",
   "metadata": {},
   "outputs": [
    {
     "name": "stdout",
     "output_type": "stream",
     "text": [
      "train_X의 크기(shape) : (2658, 60, 56)\n",
      "train_y의 크기(shape) : (2658, 60, 56)\n"
     ]
    }
   ],
   "source": [
    "# train_X와 train_y에 대해서 원-핫 인코딩 수행\n",
    "# 임베딩층을 사용하지 않으므로 입력 시퀀스인 train_X에 대해서도 원-핫 인코딩 함\n",
    "train_X = to_categorical(train_X)\n",
    "train_y = to_categorical(train_y)\n",
    "\n",
    "print('train_X의 크기(shape) : {}'.format(train_X.shape)) # 원-핫 인코딩\n",
    "print('train_y의 크기(shape) : {}'.format(train_y.shape)) # 원-핫 인코딩"
   ]
  },
  {
   "attachments": {
    "95131ffb-e4f7-4e3b-8686-a557ef5a9b55.png": {
     "image/png": "[encoded data removed]"
    }
   },
   "cell_type": "markdown",
   "id": "8b3fa9db-d11c-4cb2-a043-e55cbc351611",
   "metadata": {},
   "source": [
    "![image.png](attachment:95131ffb-e4f7-4e3b-8686-a557ef5a9b55.png)\n",
    "\n",
    "- no. of samples 2,658개\n",
    "- input_length(입력 시퀀스의 길이): 60\n",
    "- input_dim (각 벡터의 차원): 55\n",
    "\n",
    "- 원-핫 벡터의 차원은 문자 집합의 크기인 56이어야 하므로 원-핫 인코딩이 수행되었음을 알 수 있음"
   ]
  },
  {
   "cell_type": "markdown",
   "id": "7c0101a5-50db-4611-8f21-60c3ad23784f",
   "metadata": {},
   "source": [
    "#### 모델 설계\n",
    "- 은닉상태 크기 256\n",
    "- 다 대 다 구조의 LSTM 사용, LSTM 2개 사용\n",
    "- fully connected layer을 출력층으로 문자 집합 크기만큼 뉴런 배치하여 모델 설계\n",
    "- 다중 클래스 분류 문제 (모든 시점에서 모든 가능한 문자 중 하나의 문자 예측)\n",
    "    - 소프트맥스, 크로스 엔트로피\n",
    "- 80 epoch"
   ]
  },
  {
   "cell_type": "code",
   "execution_count": 63,
   "id": "9958774b-fb21-47c8-b4e8-5b8b30bc5bc5",
   "metadata": {},
   "outputs": [
    {
     "name": "stdout",
     "output_type": "stream",
     "text": [
      "Epoch 1/80\n",
      "84/84 - 18s - loss: 3.0792 - accuracy: 0.1804\n",
      "Epoch 2/80\n",
      "84/84 - 16s - loss: 2.7146 - accuracy: 0.2480\n",
      "Epoch 3/80\n",
      "84/84 - 16s - loss: 2.3659 - accuracy: 0.3336\n",
      "Epoch 4/80\n",
      "84/84 - 16s - loss: 2.2192 - accuracy: 0.3690\n",
      "Epoch 5/80\n",
      "84/84 - 16s - loss: 2.1140 - accuracy: 0.3968\n",
      "Epoch 6/80\n",
      "84/84 - 16s - loss: 2.0402 - accuracy: 0.4129\n",
      "Epoch 7/80\n",
      "84/84 - 16s - loss: 1.9598 - accuracy: 0.4337\n",
      "Epoch 8/80\n",
      "84/84 - 17s - loss: 1.8958 - accuracy: 0.4509\n",
      "Epoch 9/80\n",
      "84/84 - 17s - loss: 1.8378 - accuracy: 0.4678\n",
      "Epoch 10/80\n",
      "84/84 - 17s - loss: 1.7861 - accuracy: 0.4815\n",
      "Epoch 11/80\n",
      "84/84 - 17s - loss: 1.7413 - accuracy: 0.4930\n",
      "Epoch 12/80\n",
      "84/84 - 17s - loss: 1.6933 - accuracy: 0.5059\n",
      "Epoch 13/80\n",
      "84/84 - 17s - loss: 1.6523 - accuracy: 0.5154\n",
      "Epoch 14/80\n",
      "84/84 - 17s - loss: 1.6130 - accuracy: 0.5255\n",
      "Epoch 15/80\n",
      "84/84 - 17s - loss: 1.5744 - accuracy: 0.5356\n",
      "Epoch 16/80\n",
      "84/84 - 17s - loss: 1.5369 - accuracy: 0.5458\n",
      "Epoch 17/80\n",
      "84/84 - 17s - loss: 1.5050 - accuracy: 0.5538\n",
      "Epoch 18/80\n",
      "84/84 - 17s - loss: 1.4693 - accuracy: 0.5646\n",
      "Epoch 19/80\n",
      "84/84 - 17s - loss: 1.4395 - accuracy: 0.5725\n",
      "Epoch 20/80\n",
      "84/84 - 17s - loss: 1.4091 - accuracy: 0.5813\n",
      "Epoch 21/80\n",
      "84/84 - 17s - loss: 1.3762 - accuracy: 0.5907\n",
      "Epoch 22/80\n",
      "84/84 - 17s - loss: 1.3481 - accuracy: 0.5986\n",
      "Epoch 23/80\n",
      "84/84 - 17s - loss: 1.3154 - accuracy: 0.6093\n",
      "Epoch 24/80\n",
      "84/84 - 17s - loss: 1.2875 - accuracy: 0.6159\n",
      "Epoch 25/80\n",
      "84/84 - 17s - loss: 1.2621 - accuracy: 0.6243\n",
      "Epoch 26/80\n",
      "84/84 - 17s - loss: 1.2340 - accuracy: 0.6324\n",
      "Epoch 27/80\n",
      "84/84 - 17s - loss: 1.2030 - accuracy: 0.6409\n",
      "Epoch 28/80\n",
      "84/84 - 17s - loss: 1.1741 - accuracy: 0.6498\n",
      "Epoch 29/80\n",
      "84/84 - 17s - loss: 1.1483 - accuracy: 0.6581\n",
      "Epoch 30/80\n",
      "84/84 - 17s - loss: 1.1177 - accuracy: 0.6671\n",
      "Epoch 31/80\n",
      "84/84 - 17s - loss: 1.0930 - accuracy: 0.6739\n",
      "Epoch 32/80\n",
      "84/84 - 17s - loss: 1.0584 - accuracy: 0.6846\n",
      "Epoch 33/80\n",
      "84/84 - 17s - loss: 1.0328 - accuracy: 0.6919\n",
      "Epoch 34/80\n",
      "84/84 - 17s - loss: 1.0052 - accuracy: 0.7002\n",
      "Epoch 35/80\n",
      "84/84 - 17s - loss: 0.9745 - accuracy: 0.7101\n",
      "Epoch 36/80\n",
      "84/84 - 17s - loss: 0.9454 - accuracy: 0.7194\n",
      "Epoch 37/80\n",
      "84/84 - 17s - loss: 0.9190 - accuracy: 0.7267\n",
      "Epoch 38/80\n",
      "84/84 - 17s - loss: 0.8952 - accuracy: 0.7338\n",
      "Epoch 39/80\n",
      "84/84 - 17s - loss: 0.8645 - accuracy: 0.7434\n",
      "Epoch 40/80\n",
      "84/84 - 17s - loss: 0.8448 - accuracy: 0.7487\n",
      "Epoch 41/80\n",
      "84/84 - 17s - loss: 0.8078 - accuracy: 0.7620\n",
      "Epoch 42/80\n",
      "84/84 - 17s - loss: 0.7861 - accuracy: 0.7679\n",
      "Epoch 43/80\n",
      "84/84 - 17s - loss: 0.7549 - accuracy: 0.7795\n",
      "Epoch 44/80\n",
      "84/84 - 17s - loss: 0.7295 - accuracy: 0.7873\n",
      "Epoch 45/80\n",
      "84/84 - 17s - loss: 0.7285 - accuracy: 0.7850\n",
      "Epoch 46/80\n",
      "84/84 - 17s - loss: 0.6845 - accuracy: 0.8018\n",
      "Epoch 47/80\n",
      "84/84 - 17s - loss: 0.6669 - accuracy: 0.8058\n",
      "Epoch 48/80\n",
      "84/84 - 17s - loss: 0.6475 - accuracy: 0.8117\n",
      "Epoch 49/80\n",
      "84/84 - 17s - loss: 0.6121 - accuracy: 0.8241\n",
      "Epoch 50/80\n",
      "84/84 - 17s - loss: 0.5875 - accuracy: 0.8323\n",
      "Epoch 51/80\n",
      "84/84 - 17s - loss: 0.5616 - accuracy: 0.8419\n",
      "Epoch 52/80\n",
      "84/84 - 17s - loss: 0.5474 - accuracy: 0.8446\n",
      "Epoch 53/80\n",
      "84/84 - 17s - loss: 0.5225 - accuracy: 0.8540\n",
      "Epoch 54/80\n",
      "84/84 - 17s - loss: 0.5030 - accuracy: 0.8603\n",
      "Epoch 55/80\n",
      "84/84 - 17s - loss: 0.4922 - accuracy: 0.8618\n",
      "Epoch 56/80\n",
      "84/84 - 17s - loss: 0.4652 - accuracy: 0.8722\n",
      "Epoch 57/80\n",
      "84/84 - 17s - loss: 0.4571 - accuracy: 0.8741\n",
      "Epoch 58/80\n",
      "84/84 - 17s - loss: 0.4322 - accuracy: 0.8824\n",
      "Epoch 59/80\n",
      "84/84 - 17s - loss: 0.4041 - accuracy: 0.8928\n",
      "Epoch 60/80\n",
      "84/84 - 17s - loss: 0.3899 - accuracy: 0.8969\n",
      "Epoch 61/80\n",
      "84/84 - 17s - loss: 0.3969 - accuracy: 0.8916\n",
      "Epoch 62/80\n",
      "84/84 - 17s - loss: 0.3784 - accuracy: 0.8982\n",
      "Epoch 63/80\n",
      "84/84 - 17s - loss: 0.3395 - accuracy: 0.9136\n",
      "Epoch 64/80\n",
      "84/84 - 17s - loss: 0.3329 - accuracy: 0.9156\n",
      "Epoch 65/80\n",
      "84/84 - 17s - loss: 0.3265 - accuracy: 0.9149\n",
      "Epoch 66/80\n",
      "84/84 - 17s - loss: 0.2999 - accuracy: 0.9261\n",
      "Epoch 67/80\n",
      "84/84 - 17s - loss: 0.2930 - accuracy: 0.9271\n",
      "Epoch 68/80\n",
      "84/84 - 17s - loss: 0.2781 - accuracy: 0.9322\n",
      "Epoch 69/80\n",
      "84/84 - 17s - loss: 0.2705 - accuracy: 0.9338\n",
      "Epoch 70/80\n",
      "84/84 - 17s - loss: 0.2706 - accuracy: 0.9317\n",
      "Epoch 71/80\n",
      "84/84 - 17s - loss: 0.2543 - accuracy: 0.9381\n",
      "Epoch 72/80\n",
      "84/84 - 17s - loss: 0.2518 - accuracy: 0.9377\n",
      "Epoch 73/80\n",
      "84/84 - 17s - loss: 0.2339 - accuracy: 0.9433\n",
      "Epoch 74/80\n",
      "84/84 - 17s - loss: 0.2275 - accuracy: 0.9455\n",
      "Epoch 75/80\n",
      "84/84 - 17s - loss: 0.2180 - accuracy: 0.9481\n",
      "Epoch 76/80\n",
      "84/84 - 17s - loss: 0.2206 - accuracy: 0.9462\n",
      "Epoch 77/80\n",
      "84/84 - 17s - loss: 0.2119 - accuracy: 0.9487\n",
      "Epoch 78/80\n",
      "84/84 - 17s - loss: 0.2123 - accuracy: 0.9477\n",
      "Epoch 79/80\n",
      "84/84 - 17s - loss: 0.2001 - accuracy: 0.9515\n",
      "Epoch 80/80\n",
      "84/84 - 17s - loss: 0.1843 - accuracy: 0.9558\n"
     ]
    },
    {
     "data": {
      "text/plain": [
       "<tensorflow.python.keras.callbacks.History at 0x7fb8242ca2b0>"
      ]
     },
     "execution_count": 63,
     "metadata": {},
     "output_type": "execute_result"
    }
   ],
   "source": [
    "from tensorflow.keras.models import Sequential\n",
    "from tensorflow.keras.layers import Dense, LSTM, TimeDistributed\n",
    "\n",
    "hidden_units = 256\n",
    "\n",
    "model = Sequential()\n",
    "model.add(LSTM(hidden_units, input_shape=(None, train_X.shape[2]), return_sequences=True))\n",
    "model.add(LSTM(hidden_units, return_sequences=True))\n",
    "model.add(TimeDistributed(Dense(vocab_size, activation='softmax')))\n",
    "\n",
    "model.compile(loss='categorical_crossentropy', optimizer='adam', metrics=['accuracy'])\n",
    "model.fit(train_X, train_y, epochs=80, verbose=2)"
   ]
  },
  {
   "cell_type": "code",
   "execution_count": 64,
   "id": "8d3ace7c-b856-4b47-a05e-f8f87d0a3c4b",
   "metadata": {},
   "outputs": [],
   "source": [
    "# 특정 문자를 주면 다음 문자를 계속해서 생성해내는 함수\n",
    "# 인자 (학습한 모델, 그리고 모델로 다음 문자 몇 번 생성할 것인지 횟수)\n",
    "\n",
    "def sentence_generation(model, length):\n",
    "    # 문자에 대한 랜덤한 정수 생성\n",
    "    ix = [np.random.randint(vocab_size)]\n",
    "    \n",
    "    # 랜덤한 정수로부터 맵핑되는 문자 생성\n",
    "    y_char = [index_to_char[ix[-1]]]\n",
    "    print(ix[-1], '번 문자', y_char[-1], '로 예측을 시작!')\n",
    "    \n",
    "    # (1, length, 55) 크기의 x 생성. 즉, LSTM의 입력 시퀀스 생성\n",
    "    X = np.zeros((1, length, vocab_size))\n",
    "    \n",
    "    for i in range(length):\n",
    "        # X[0][i][예측한 문자의 인덱스] = 1, 즉, 예측 문자를 다음 입력 시퀀스에 추가\n",
    "        X[0][i][ix[-1]] = 1\n",
    "        print(index_to_char[ix[-1]], end='')\n",
    "        ix = np.argmax(model.predict(X[:, :i+1, :])[0], 1)\n",
    "        y_char.append(index_to_char[ix[-1]])\n",
    "    return ('').join(y_char)"
   ]
  },
  {
   "cell_type": "code",
   "execution_count": 65,
   "id": "b300e747-67e0-4c7d-9420-5d55e776e269",
   "metadata": {},
   "outputs": [
    {
     "name": "stdout",
     "output_type": "stream",
     "text": [
      "0 번 문자   로 예측을 시작!\n",
      " the other two were using it as a cushion, resting theig the sautes. i only wish i wasnt quite all s the other two were using it as a cushion, resting theig the sautes. i only wish i wasnt quite all st\n"
     ]
    }
   ],
   "source": [
    "result = sentence_generation(model, 100)\n",
    "print(result)"
   ]
  },
  {
   "cell_type": "markdown",
   "id": "e2e779c0-b6e6-48f2-b034-b37d1930a595",
   "metadata": {},
   "source": [
    "### 문자 단위 RNN(Char RNN)으로 텍스트 생성하기"
   ]
  },
  {
   "cell_type": "markdown",
   "id": "d5dfc01a-d7da-4ec0-8314-c860dcaae6d8",
   "metadata": {},
   "source": [
    "#### 데이터에 대한 이해와 전처리"
   ]
  },
  {
   "cell_type": "code",
   "execution_count": 66,
   "id": "dd8b7ebd-5189-4e91-8bbd-d470bcb25ca4",
   "metadata": {},
   "outputs": [],
   "source": [
    "import numpy as np\n",
    "from tensorflow.keras.utils import to_categorical"
   ]
  },
  {
   "cell_type": "code",
   "execution_count": 67,
   "id": "24eed52a-ef6e-40f2-8c00-a99c50fa7f99",
   "metadata": {},
   "outputs": [],
   "source": [
    "# 노래 가사\n",
    "raw_text = '''\n",
    "I get on with life as a programmer,\n",
    "I like to contemplate beer.\n",
    "But when I start to daydream,\n",
    "My mind turns straight to wine.\n",
    "\n",
    "Do I love wine more than beer?\n",
    "\n",
    "I like to use words about beer.\n",
    "But when I stop my talking,\n",
    "My mind turns straight to wine.\n",
    "\n",
    "I hate bugs and errors.\n",
    "But I just think back to wine,\n",
    "And I'm happy once again.\n",
    "\n",
    "I like to hang out with programming and deep learning.\n",
    "But when left alone,\n",
    "My mind turns straight to wine.\n",
    "'''"
   ]
  },
  {
   "cell_type": "code",
   "execution_count": 68,
   "id": "d4f18e05-6236-4736-9521-96ff91d609b4",
   "metadata": {},
   "outputs": [
    {
     "name": "stdout",
     "output_type": "stream",
     "text": [
      "I get on with life as a programmer, I like to contemplate beer. But when I start to daydream, My mind turns straight to wine. Do I love wine more than beer? I like to use words about beer. But when I stop my talking, My mind turns straight to wine. I hate bugs and errors. But I just think back to wine, And I'm happy once again. I like to hang out with programming and deep learning. But when left alone, My mind turns straight to wine.\n"
     ]
    }
   ],
   "source": [
    "# 단락 구분 없애고 하나의 문자열로 재저장\n",
    "tokens = raw_text.split()\n",
    "raw_text = ' '.join(tokens)\n",
    "print(raw_text)"
   ]
  },
  {
   "cell_type": "code",
   "execution_count": 69,
   "id": "4df9fb7b-22c3-483a-a3ba-67af3ff46d2d",
   "metadata": {},
   "outputs": [
    {
     "name": "stdout",
     "output_type": "stream",
     "text": [
      "문자 집합:  [' ', \"'\", ',', '.', '?', 'A', 'B', 'D', 'I', 'M', 'a', 'b', 'c', 'd', 'e', 'f', 'g', 'h', 'i', 'j', 'k', 'l', 'm', 'n', 'o', 'p', 'r', 's', 't', 'u', 'v', 'w', 'y']\n",
      "문자 집합의 크기: 33\n"
     ]
    }
   ],
   "source": [
    "# 중복을 제거한 문자 집합 생성\n",
    "char_vocab = sorted(list(set(raw_text)))\n",
    "vocab_size = len(char_vocab)\n",
    "print('문자 집합: ', char_vocab)\n",
    "print('문자 집합의 크기: {}'.format(vocab_size))"
   ]
  },
  {
   "cell_type": "code",
   "execution_count": 70,
   "id": "66cc6388-4191-4db1-9fdd-0775ce5323da",
   "metadata": {},
   "outputs": [
    {
     "name": "stdout",
     "output_type": "stream",
     "text": [
      "{' ': 0, \"'\": 1, ',': 2, '.': 3, '?': 4, 'A': 5, 'B': 6, 'D': 7, 'I': 8, 'M': 9, 'a': 10, 'b': 11, 'c': 12, 'd': 13, 'e': 14, 'f': 15, 'g': 16, 'h': 17, 'i': 18, 'j': 19, 'k': 20, 'l': 21, 'm': 22, 'n': 23, 'o': 24, 'p': 25, 'r': 26, 's': 27, 't': 28, 'u': 29, 'v': 30, 'w': 31, 'y': 32}\n"
     ]
    }
   ],
   "source": [
    "char_to_index = dict((char, index) for index, char in enumerate(char_vocab))\n",
    "print(char_to_index)"
   ]
  },
  {
   "cell_type": "code",
   "execution_count": 71,
   "id": "c1310ccd-e3d7-4ea3-8927-83a7b8571981",
   "metadata": {},
   "outputs": [
    {
     "name": "stdout",
     "output_type": "stream",
     "text": [
      "총 훈련 샘플의 수: 426\n"
     ]
    }
   ],
   "source": [
    "# 입력 시퀀스의 길이가 10이 되도록 데이터 구성 (예측 대상인 문자도 필요하므로 길이가 11이 되도록)\n",
    "length = 11\n",
    "sequences = []\n",
    "for i in range(length, len(raw_text)):\n",
    "    seq = raw_text[i-length:i] # 길이 11의 문자열을 지속적으로 만듦\n",
    "    sequences.append(seq)\n",
    "print('총 훈련 샘플의 수: %d' % len(sequences))"
   ]
  },
  {
   "cell_type": "code",
   "execution_count": 72,
   "id": "622cdc62-c623-460f-88d9-fe4e36a1ffae",
   "metadata": {},
   "outputs": [
    {
     "data": {
      "text/plain": [
       "['I get on wi',\n",
       " ' get on wit',\n",
       " 'get on with',\n",
       " 'et on with ',\n",
       " 't on with l',\n",
       " ' on with li',\n",
       " 'on with lif',\n",
       " 'n with life',\n",
       " ' with life ',\n",
       " 'with life a']"
      ]
     },
     "execution_count": 72,
     "metadata": {},
     "output_type": "execute_result"
    }
   ],
   "source": [
    "# 총 샘플 중 10개만 출력\n",
    "sequences[:10]"
   ]
  },
  {
   "cell_type": "code",
   "execution_count": 73,
   "id": "476d4a17-e31c-49e3-9f5c-7a7f37b8803f",
   "metadata": {},
   "outputs": [
    {
     "data": {
      "text/plain": [
       "[[8, 0, 16, 14, 28, 0, 24, 23, 0, 31, 18],\n",
       " [0, 16, 14, 28, 0, 24, 23, 0, 31, 18, 28],\n",
       " [16, 14, 28, 0, 24, 23, 0, 31, 18, 28, 17],\n",
       " [14, 28, 0, 24, 23, 0, 31, 18, 28, 17, 0],\n",
       " [28, 0, 24, 23, 0, 31, 18, 28, 17, 0, 21]]"
      ]
     },
     "execution_count": 73,
     "metadata": {},
     "output_type": "execute_result"
    }
   ],
   "source": [
    "# 정수 인코딩\n",
    "encoded_sequences = []\n",
    "for sequence in sequences:\n",
    "    encoded_sequence = [char_to_index[char] for char in sequence]\n",
    "    encoded_sequences.append(encoded_sequence)\n",
    "    \n",
    "encoded_sequences[:5]"
   ]
  },
  {
   "cell_type": "code",
   "execution_count": 74,
   "id": "3ad26494-d89d-4e1f-8178-944b90a8d4b5",
   "metadata": {},
   "outputs": [],
   "source": [
    "# 예측 대상 문자 분리\n",
    "encoded_sequences = np.array(encoded_sequences)\n",
    "\n",
    "X_data = encoded_sequences[:, :-1]\n",
    "y_data = encoded_sequences[:, -1]"
   ]
  },
  {
   "cell_type": "code",
   "execution_count": 75,
   "id": "b5567fc8-3040-4075-b111-4bbd44d2bb9c",
   "metadata": {},
   "outputs": [],
   "source": [
    "# 원-핫 인코딩\n",
    "X_data_one_hot = [to_categorical(encoded, num_classes=vocab_size) for encoded in X_data]\n",
    "X_data_one_hot = np.array(X_data_one_hot)\n",
    "y_data_one_hot = to_categorical(y_data, num_classes=vocab_size)"
   ]
  },
  {
   "cell_type": "code",
   "execution_count": 76,
   "id": "7983fa26-60c7-4267-8306-572b4a4a954f",
   "metadata": {},
   "outputs": [
    {
     "name": "stdout",
     "output_type": "stream",
     "text": [
      "(426, 10, 33)\n"
     ]
    }
   ],
   "source": [
    "# 원-핫 인코딩 수행 후 X의 크기 확인\n",
    "print(X_data_one_hot.shape)"
   ]
  },
  {
   "attachments": {
    "4057151d-ad93-4c81-a621-22730f73af58.png": {
     "image/png": "[encoded data removed]"
    }
   },
   "cell_type": "markdown",
   "id": "b7d508e3-2f74-4765-9ed3-55a2b778e7df",
   "metadata": {},
   "source": [
    "![image.png](attachment:4057151d-ad93-4c81-a621-22730f73af58.png)\n",
    "\n",
    "- 샘플 수 426개, 입력 시퀀스 길이 10, 각 벡터의 차원 33"
   ]
  },
  {
   "cell_type": "markdown",
   "id": "d94acd2f-3c3c-4e5e-993a-d5177b644637",
   "metadata": {},
   "source": [
    "#### 모델 설계\n",
    "- 은닉상태의 크기 64\n",
    "- 다 대 일 구조의 LSTM\n",
    "- fully connected layer을 출력층으로 문자 집합 크기만큼 뉴런 배치하여 모델 설계\n",
    "- 다중 클래스 분류 (소프트맥스, 크로스엔트로피)\n",
    "- 100 epoch"
   ]
  },
  {
   "cell_type": "code",
   "execution_count": 77,
   "id": "85117795-f333-4ddf-a948-e96026a35ad4",
   "metadata": {},
   "outputs": [
    {
     "name": "stdout",
     "output_type": "stream",
     "text": [
      "Epoch 1/100\n",
      "14/14 - 1s - loss: 3.4658 - accuracy: 0.1291\n",
      "Epoch 2/100\n",
      "14/14 - 0s - loss: 3.3474 - accuracy: 0.1972\n",
      "Epoch 3/100\n",
      "14/14 - 0s - loss: 3.0949 - accuracy: 0.1972\n",
      "Epoch 4/100\n",
      "14/14 - 0s - loss: 2.9887 - accuracy: 0.1972\n",
      "Epoch 5/100\n",
      "14/14 - 0s - loss: 2.9522 - accuracy: 0.1972\n",
      "Epoch 6/100\n",
      "14/14 - 0s - loss: 2.9235 - accuracy: 0.1972\n",
      "Epoch 7/100\n",
      "14/14 - 0s - loss: 2.8983 - accuracy: 0.1972\n",
      "Epoch 8/100\n",
      "14/14 - 0s - loss: 2.8714 - accuracy: 0.1972\n",
      "Epoch 9/100\n",
      "14/14 - 0s - loss: 2.8306 - accuracy: 0.1972\n",
      "Epoch 10/100\n",
      "14/14 - 0s - loss: 2.7863 - accuracy: 0.1972\n",
      "Epoch 11/100\n",
      "14/14 - 0s - loss: 2.7455 - accuracy: 0.1995\n",
      "Epoch 12/100\n",
      "14/14 - 0s - loss: 2.6934 - accuracy: 0.2160\n",
      "Epoch 13/100\n",
      "14/14 - 0s - loss: 2.6611 - accuracy: 0.2207\n",
      "Epoch 14/100\n",
      "14/14 - 0s - loss: 2.6212 - accuracy: 0.2230\n",
      "Epoch 15/100\n",
      "14/14 - 0s - loss: 2.5713 - accuracy: 0.2582\n",
      "Epoch 16/100\n",
      "14/14 - 0s - loss: 2.5342 - accuracy: 0.2465\n",
      "Epoch 17/100\n",
      "14/14 - 0s - loss: 2.4851 - accuracy: 0.2793\n",
      "Epoch 18/100\n",
      "14/14 - 0s - loss: 2.4492 - accuracy: 0.2911\n",
      "Epoch 19/100\n",
      "14/14 - 0s - loss: 2.4201 - accuracy: 0.2911\n",
      "Epoch 20/100\n",
      "14/14 - 0s - loss: 2.3785 - accuracy: 0.3239\n",
      "Epoch 21/100\n",
      "14/14 - 0s - loss: 2.3329 - accuracy: 0.2934\n",
      "Epoch 22/100\n",
      "14/14 - 0s - loss: 2.2908 - accuracy: 0.3286\n",
      "Epoch 23/100\n",
      "14/14 - 0s - loss: 2.2636 - accuracy: 0.3592\n",
      "Epoch 24/100\n",
      "14/14 - 0s - loss: 2.2081 - accuracy: 0.3333\n",
      "Epoch 25/100\n",
      "14/14 - 0s - loss: 2.1644 - accuracy: 0.3967\n",
      "Epoch 26/100\n",
      "14/14 - 0s - loss: 2.1328 - accuracy: 0.4085\n",
      "Epoch 27/100\n",
      "14/14 - 0s - loss: 2.0957 - accuracy: 0.3920\n",
      "Epoch 28/100\n",
      "14/14 - 0s - loss: 2.0397 - accuracy: 0.4178\n",
      "Epoch 29/100\n",
      "14/14 - 0s - loss: 2.0093 - accuracy: 0.4343\n",
      "Epoch 30/100\n",
      "14/14 - 0s - loss: 1.9734 - accuracy: 0.4460\n",
      "Epoch 31/100\n",
      "14/14 - 0s - loss: 1.9270 - accuracy: 0.4695\n",
      "Epoch 32/100\n",
      "14/14 - 0s - loss: 1.9184 - accuracy: 0.4554\n",
      "Epoch 33/100\n",
      "14/14 - 0s - loss: 1.8445 - accuracy: 0.5070\n",
      "Epoch 34/100\n",
      "14/14 - 0s - loss: 1.8081 - accuracy: 0.5094\n",
      "Epoch 35/100\n",
      "14/14 - 0s - loss: 1.7761 - accuracy: 0.4883\n",
      "Epoch 36/100\n",
      "14/14 - 0s - loss: 1.7462 - accuracy: 0.5399\n",
      "Epoch 37/100\n",
      "14/14 - 0s - loss: 1.7104 - accuracy: 0.5305\n",
      "Epoch 38/100\n",
      "14/14 - 0s - loss: 1.6478 - accuracy: 0.5775\n",
      "Epoch 39/100\n",
      "14/14 - 0s - loss: 1.6237 - accuracy: 0.5657\n",
      "Epoch 40/100\n",
      "14/14 - 0s - loss: 1.5864 - accuracy: 0.5845\n",
      "Epoch 41/100\n",
      "14/14 - 0s - loss: 1.5791 - accuracy: 0.5798\n",
      "Epoch 42/100\n",
      "14/14 - 0s - loss: 1.5187 - accuracy: 0.6197\n",
      "Epoch 43/100\n",
      "14/14 - 0s - loss: 1.4654 - accuracy: 0.6338\n",
      "Epoch 44/100\n",
      "14/14 - 0s - loss: 1.4466 - accuracy: 0.6315\n",
      "Epoch 45/100\n",
      "14/14 - 0s - loss: 1.4058 - accuracy: 0.6338\n",
      "Epoch 46/100\n",
      "14/14 - 0s - loss: 1.3921 - accuracy: 0.6526\n",
      "Epoch 47/100\n",
      "14/14 - 0s - loss: 1.3468 - accuracy: 0.6643\n",
      "Epoch 48/100\n",
      "14/14 - 0s - loss: 1.3083 - accuracy: 0.6831\n",
      "Epoch 49/100\n",
      "14/14 - 0s - loss: 1.2688 - accuracy: 0.6972\n",
      "Epoch 50/100\n",
      "14/14 - 0s - loss: 1.2404 - accuracy: 0.7042\n",
      "Epoch 51/100\n",
      "14/14 - 0s - loss: 1.2280 - accuracy: 0.6972\n",
      "Epoch 52/100\n",
      "14/14 - 0s - loss: 1.1945 - accuracy: 0.6972\n",
      "Epoch 53/100\n",
      "14/14 - 0s - loss: 1.1409 - accuracy: 0.7347\n",
      "Epoch 54/100\n",
      "14/14 - 0s - loss: 1.1408 - accuracy: 0.7230\n",
      "Epoch 55/100\n",
      "14/14 - 0s - loss: 1.1035 - accuracy: 0.7207\n",
      "Epoch 56/100\n",
      "14/14 - 0s - loss: 1.0746 - accuracy: 0.7347\n",
      "Epoch 57/100\n",
      "14/14 - 0s - loss: 1.0271 - accuracy: 0.7676\n",
      "Epoch 58/100\n",
      "14/14 - 0s - loss: 0.9905 - accuracy: 0.7793\n",
      "Epoch 59/100\n",
      "14/14 - 0s - loss: 0.9651 - accuracy: 0.7770\n",
      "Epoch 60/100\n",
      "14/14 - 0s - loss: 0.9460 - accuracy: 0.7817\n",
      "Epoch 61/100\n",
      "14/14 - 0s - loss: 0.9228 - accuracy: 0.7817\n",
      "Epoch 62/100\n",
      "14/14 - 0s - loss: 0.8907 - accuracy: 0.8122\n",
      "Epoch 63/100\n",
      "14/14 - 0s - loss: 0.8701 - accuracy: 0.8263\n",
      "Epoch 64/100\n",
      "14/14 - 0s - loss: 0.8355 - accuracy: 0.8286\n",
      "Epoch 65/100\n",
      "14/14 - 0s - loss: 0.8118 - accuracy: 0.8263\n",
      "Epoch 66/100\n",
      "14/14 - 0s - loss: 0.8008 - accuracy: 0.8404\n",
      "Epoch 67/100\n",
      "14/14 - 0s - loss: 0.7720 - accuracy: 0.8286\n",
      "Epoch 68/100\n",
      "14/14 - 0s - loss: 0.7705 - accuracy: 0.8404\n",
      "Epoch 69/100\n",
      "14/14 - 0s - loss: 0.7290 - accuracy: 0.8638\n",
      "Epoch 70/100\n",
      "14/14 - 0s - loss: 0.7040 - accuracy: 0.8732\n",
      "Epoch 71/100\n",
      "14/14 - 0s - loss: 0.6965 - accuracy: 0.8615\n",
      "Epoch 72/100\n",
      "14/14 - 0s - loss: 0.6833 - accuracy: 0.8732\n",
      "Epoch 73/100\n",
      "14/14 - 0s - loss: 0.6537 - accuracy: 0.8991\n",
      "Epoch 74/100\n",
      "14/14 - 0s - loss: 0.6374 - accuracy: 0.8920\n",
      "Epoch 75/100\n",
      "14/14 - 0s - loss: 0.6155 - accuracy: 0.9014\n",
      "Epoch 76/100\n",
      "14/14 - 0s - loss: 0.5920 - accuracy: 0.9131\n",
      "Epoch 77/100\n",
      "14/14 - 0s - loss: 0.5895 - accuracy: 0.8944\n",
      "Epoch 78/100\n",
      "14/14 - 0s - loss: 0.5652 - accuracy: 0.8991\n",
      "Epoch 79/100\n",
      "14/14 - 0s - loss: 0.5514 - accuracy: 0.9085\n",
      "Epoch 80/100\n",
      "14/14 - 0s - loss: 0.5294 - accuracy: 0.9108\n",
      "Epoch 81/100\n",
      "14/14 - 0s - loss: 0.5058 - accuracy: 0.9202\n",
      "Epoch 82/100\n",
      "14/14 - 0s - loss: 0.4884 - accuracy: 0.9366\n",
      "Epoch 83/100\n",
      "14/14 - 0s - loss: 0.4914 - accuracy: 0.9366\n",
      "Epoch 84/100\n",
      "14/14 - 0s - loss: 0.4642 - accuracy: 0.9319\n",
      "Epoch 85/100\n",
      "14/14 - 0s - loss: 0.4561 - accuracy: 0.9343\n",
      "Epoch 86/100\n",
      "14/14 - 0s - loss: 0.4393 - accuracy: 0.9366\n",
      "Epoch 87/100\n",
      "14/14 - 0s - loss: 0.4275 - accuracy: 0.9272\n",
      "Epoch 88/100\n",
      "14/14 - 0s - loss: 0.4084 - accuracy: 0.9484\n",
      "Epoch 89/100\n",
      "14/14 - 0s - loss: 0.4033 - accuracy: 0.9577\n",
      "Epoch 90/100\n",
      "14/14 - 0s - loss: 0.3997 - accuracy: 0.9507\n",
      "Epoch 91/100\n",
      "14/14 - 0s - loss: 0.3893 - accuracy: 0.9484\n",
      "Epoch 92/100\n",
      "14/14 - 0s - loss: 0.3638 - accuracy: 0.9554\n",
      "Epoch 93/100\n",
      "14/14 - 0s - loss: 0.3534 - accuracy: 0.9554\n",
      "Epoch 94/100\n",
      "14/14 - 0s - loss: 0.3438 - accuracy: 0.9577\n",
      "Epoch 95/100\n",
      "14/14 - 0s - loss: 0.3365 - accuracy: 0.9601\n",
      "Epoch 96/100\n",
      "14/14 - 0s - loss: 0.3274 - accuracy: 0.9601\n",
      "Epoch 97/100\n",
      "14/14 - 0s - loss: 0.3189 - accuracy: 0.9648\n",
      "Epoch 98/100\n",
      "14/14 - 0s - loss: 0.3077 - accuracy: 0.9577\n",
      "Epoch 99/100\n",
      "14/14 - 0s - loss: 0.3010 - accuracy: 0.9671\n",
      "Epoch 100/100\n",
      "14/14 - 0s - loss: 0.2921 - accuracy: 0.9695\n"
     ]
    },
    {
     "data": {
      "text/plain": [
       "<tensorflow.python.keras.callbacks.History at 0x7fb7e0086490>"
      ]
     },
     "execution_count": 77,
     "metadata": {},
     "output_type": "execute_result"
    }
   ],
   "source": [
    "from tensorflow.keras.models import Sequential\n",
    "from tensorflow.keras.layers import Dense, LSTM\n",
    "from tensorflow.keras.preprocessing.sequence import pad_sequences\n",
    "\n",
    "hidden_units = 64\n",
    "\n",
    "model = Sequential()\n",
    "model.add(LSTM(hidden_units, input_shape=(X_data_one_hot.shape[1], X_data_one_hot.shape[2])))\n",
    "model.add(Dense(vocab_size, activation='softmax'))\n",
    "\n",
    "model.compile(loss='categorical_crossentropy', optimizer='adam', metrics=['accuracy'])\n",
    "model.fit(X_data_one_hot, y_data_one_hot, epochs=100, verbose=2)"
   ]
  },
  {
   "cell_type": "code",
   "execution_count": 78,
   "id": "3044ff46-8736-4855-8102-4a3ce1268eaf",
   "metadata": {},
   "outputs": [],
   "source": [
    "def sentence_generation(model, char_to_index, seq_length, seed_text, n):\n",
    "\n",
    "    # 초기 시퀀스\n",
    "    init_text = seed_text\n",
    "    sentence = ''\n",
    "\n",
    "    # 다음 문자 예측은 총 n번만 반복.\n",
    "    for _ in range(n):\n",
    "        encoded = [char_to_index[char] for char in seed_text] # 현재 시퀀스에 대한 정수 인코딩\n",
    "        encoded = pad_sequences([encoded], maxlen=seq_length, padding='pre') # 데이터에 대한 패딩\n",
    "        encoded = to_categorical(encoded, num_classes=len(char_to_index))\n",
    "\n",
    "        # 입력한 X(현재 시퀀스)에 대해서 y를 예측하고 y(예측한 문자)를 result에 저장.\n",
    "        result = model.predict(encoded, verbose=0)\n",
    "        result = np.argmax(result, axis=1)\n",
    "\n",
    "        for char, index in char_to_index.items():\n",
    "            if index == result:\n",
    "                break\n",
    "\n",
    "        # 현재 시퀀스 + 예측 문자를 현재 시퀀스로 변경\n",
    "        seed_text = seed_text + char\n",
    "\n",
    "        # 예측 문자를 문장에 저장\n",
    "        sentence = sentence + char\n",
    "\n",
    "    # n번의 다음 문자 예측이 끝나면 최종 완성된 문장을 리턴.\n",
    "    sentence = init_text + sentence\n",
    "    return sentence"
   ]
  },
  {
   "cell_type": "code",
   "execution_count": 79,
   "id": "07d410f7-f595-4a57-8444-61ca384a77c8",
   "metadata": {},
   "outputs": [
    {
     "name": "stdout",
     "output_type": "stream",
     "text": [
      "I get on with life as a programmer, I like to cse woya teaop mnnn earr ttost midambbe s . \n"
     ]
    }
   ],
   "source": [
    "print(sentence_generation(model, char_to_index, 10, 'I get on w', 80))"
   ]
  },
  {
   "cell_type": "markdown",
   "id": "93cfac16-bb0f-4e51-94b2-a9a3c54ec632",
   "metadata": {},
   "source": [
    "출력된 2개의 문장은 훈련 데이터에서는 연속적으로 나온 적이 없는 두 문장임에도 모델이 임의로 생성해냄"
   ]
  },
  {
   "cell_type": "code",
   "execution_count": null,
   "id": "6a504171-bb55-45e7-aea2-b361e98ee1d4",
   "metadata": {},
   "outputs": [],
   "source": []
  }
 ],
 "metadata": {
  "kernelspec": {
   "display_name": "Python 3",
   "language": "python",
   "name": "python3"
  },
  "language_info": {
   "codemirror_mode": {
    "name": "ipython",
    "version": 3
   },
   "file_extension": ".py",
   "mimetype": "text/x-python",
   "name": "python",
   "nbconvert_exporter": "python",
   "pygments_lexer": "ipython3",
   "version": "3.8.5"
  }
 },
 "nbformat": 4,
 "nbformat_minor": 5
}
